{
  "nbformat": 4,
  "nbformat_minor": 0,
  "metadata": {
    "kernelspec": {
      "display_name": "Python 3",
      "language": "python",
      "name": "python3"
    },
    "language_info": {
      "codemirror_mode": {
        "name": "ipython",
        "version": 3
      },
      "file_extension": ".py",
      "mimetype": "text/x-python",
      "name": "python",
      "nbconvert_exporter": "python",
      "pygments_lexer": "ipython3",
      "version": "3.6.10"
    },
    "colab": {
      "name": "Train_Months_LSTM_int.ipynb",
      "provenance": [],
      "collapsed_sections": []
    }
  },
  "cells": [
    {
      "cell_type": "code",
      "metadata": {
        "id": "O5WmmE2NtZkn"
      },
      "source": [
        "import numpy as np\n",
        "import pandas as pd\n",
        "from datetime import datetime, timedelta\n",
        "from sklearn.metrics import mean_squared_error, mean_absolute_error\n",
        "import matplotlib.pyplot as plt\n",
        "plt.style.use('ggplot')\n",
        "\n",
        "pd.options.display.max_columns = 30"
      ],
      "execution_count": 1,
      "outputs": []
    },
    {
      "cell_type": "markdown",
      "metadata": {
        "id": "dT7ImPcxtZko"
      },
      "source": [
        "# Load data"
      ]
    },
    {
      "cell_type": "code",
      "metadata": {
        "colab": {
          "base_uri": "https://localhost:8080/"
        },
        "id": "CT6jeSE9tZko",
        "outputId": "54007c6e-2d8e-48c0-e297-d940edc40444"
      },
      "source": [
        "data = pd.read_excel('data_sul_days_15y.xlsx')\n",
        "data = data[['Data Escala de Tempo 1 CE Simp 4', 'Selecione Tipo de CE Simp 4']]\n",
        "data.columns = ['date','load']\n",
        "data = data[2:]\n",
        "data.shape"
      ],
      "execution_count": 2,
      "outputs": [
        {
          "output_type": "execute_result",
          "data": {
            "text/plain": [
              "(5995, 2)"
            ]
          },
          "metadata": {
            "tags": []
          },
          "execution_count": 2
        }
      ]
    },
    {
      "cell_type": "code",
      "metadata": {
        "colab": {
          "base_uri": "https://localhost:8080/",
          "height": 173
        },
        "id": "8qZAM_vetZkq",
        "outputId": "841b8359-b237-47a3-a966-27465bae3807"
      },
      "source": [
        "data.iloc[np.r_[0:2, -2:0]]"
      ],
      "execution_count": 3,
      "outputs": [
        {
          "output_type": "execute_result",
          "data": {
            "text/html": [
              "<div>\n",
              "<style scoped>\n",
              "    .dataframe tbody tr th:only-of-type {\n",
              "        vertical-align: middle;\n",
              "    }\n",
              "\n",
              "    .dataframe tbody tr th {\n",
              "        vertical-align: top;\n",
              "    }\n",
              "\n",
              "    .dataframe thead th {\n",
              "        text-align: right;\n",
              "    }\n",
              "</style>\n",
              "<table border=\"1\" class=\"dataframe\">\n",
              "  <thead>\n",
              "    <tr style=\"text-align: right;\">\n",
              "      <th></th>\n",
              "      <th>date</th>\n",
              "      <th>load</th>\n",
              "    </tr>\n",
              "  </thead>\n",
              "  <tbody>\n",
              "    <tr>\n",
              "      <th>2</th>\n",
              "      <td>2005-01-01 00:00:00</td>\n",
              "      <td>134.95552</td>\n",
              "    </tr>\n",
              "    <tr>\n",
              "      <th>3</th>\n",
              "      <td>2005-02-01 00:00:00</td>\n",
              "      <td>140.24240</td>\n",
              "    </tr>\n",
              "    <tr>\n",
              "      <th>5995</th>\n",
              "      <td>05/30/2021 12:00:00 a.m.</td>\n",
              "      <td>209.56636</td>\n",
              "    </tr>\n",
              "    <tr>\n",
              "      <th>5996</th>\n",
              "      <td>05/31/2021 12:00:00 a.m.</td>\n",
              "      <td>276.47700</td>\n",
              "    </tr>\n",
              "  </tbody>\n",
              "</table>\n",
              "</div>"
            ],
            "text/plain": [
              "                          date       load\n",
              "2          2005-01-01 00:00:00  134.95552\n",
              "3          2005-02-01 00:00:00  140.24240\n",
              "5995  05/30/2021 12:00:00 a.m.  209.56636\n",
              "5996  05/31/2021 12:00:00 a.m.  276.47700"
            ]
          },
          "metadata": {
            "tags": []
          },
          "execution_count": 3
        }
      ]
    },
    {
      "cell_type": "code",
      "metadata": {
        "id": "pzK4RlA6tZkq"
      },
      "source": [
        "init_date = datetime(2005, 1, 1)\n",
        "datelist = pd.date_range(init_date, periods=len(data)).tolist()"
      ],
      "execution_count": 4,
      "outputs": []
    },
    {
      "cell_type": "code",
      "metadata": {
        "colab": {
          "base_uri": "https://localhost:8080/",
          "height": 173
        },
        "id": "_MPyX_P2tZkr",
        "outputId": "65316b9a-44cc-4364-ac0c-69e7b26ebad9"
      },
      "source": [
        "df = pd.DataFrame(data=data.load.values, index=datelist, columns=['Energy_Load'])\n",
        "df.iloc[np.r_[0:2, -2:0]]"
      ],
      "execution_count": 5,
      "outputs": [
        {
          "output_type": "execute_result",
          "data": {
            "text/html": [
              "<div>\n",
              "<style scoped>\n",
              "    .dataframe tbody tr th:only-of-type {\n",
              "        vertical-align: middle;\n",
              "    }\n",
              "\n",
              "    .dataframe tbody tr th {\n",
              "        vertical-align: top;\n",
              "    }\n",
              "\n",
              "    .dataframe thead th {\n",
              "        text-align: right;\n",
              "    }\n",
              "</style>\n",
              "<table border=\"1\" class=\"dataframe\">\n",
              "  <thead>\n",
              "    <tr style=\"text-align: right;\">\n",
              "      <th></th>\n",
              "      <th>Energy_Load</th>\n",
              "    </tr>\n",
              "  </thead>\n",
              "  <tbody>\n",
              "    <tr>\n",
              "      <th>2005-01-01</th>\n",
              "      <td>134.95552</td>\n",
              "    </tr>\n",
              "    <tr>\n",
              "      <th>2005-01-02</th>\n",
              "      <td>140.24240</td>\n",
              "    </tr>\n",
              "    <tr>\n",
              "      <th>2021-05-30</th>\n",
              "      <td>209.56636</td>\n",
              "    </tr>\n",
              "    <tr>\n",
              "      <th>2021-05-31</th>\n",
              "      <td>276.47700</td>\n",
              "    </tr>\n",
              "  </tbody>\n",
              "</table>\n",
              "</div>"
            ],
            "text/plain": [
              "            Energy_Load\n",
              "2005-01-01    134.95552\n",
              "2005-01-02    140.24240\n",
              "2021-05-30    209.56636\n",
              "2021-05-31    276.47700"
            ]
          },
          "metadata": {
            "tags": []
          },
          "execution_count": 5
        }
      ]
    },
    {
      "cell_type": "code",
      "metadata": {
        "colab": {
          "base_uri": "https://localhost:8080/",
          "height": 80
        },
        "id": "OS_iQVU2tZkr",
        "outputId": "919316fd-9185-4889-d482-08fc23282214"
      },
      "source": [
        "df[df.Energy_Load.isnull()]"
      ],
      "execution_count": 6,
      "outputs": [
        {
          "output_type": "execute_result",
          "data": {
            "text/html": [
              "<div>\n",
              "<style scoped>\n",
              "    .dataframe tbody tr th:only-of-type {\n",
              "        vertical-align: middle;\n",
              "    }\n",
              "\n",
              "    .dataframe tbody tr th {\n",
              "        vertical-align: top;\n",
              "    }\n",
              "\n",
              "    .dataframe thead th {\n",
              "        text-align: right;\n",
              "    }\n",
              "</style>\n",
              "<table border=\"1\" class=\"dataframe\">\n",
              "  <thead>\n",
              "    <tr style=\"text-align: right;\">\n",
              "      <th></th>\n",
              "      <th>Energy_Load</th>\n",
              "    </tr>\n",
              "  </thead>\n",
              "  <tbody>\n",
              "    <tr>\n",
              "      <th>2014-02-01</th>\n",
              "      <td>NaN</td>\n",
              "    </tr>\n",
              "  </tbody>\n",
              "</table>\n",
              "</div>"
            ],
            "text/plain": [
              "            Energy_Load\n",
              "2014-02-01          NaN"
            ]
          },
          "metadata": {
            "tags": []
          },
          "execution_count": 6
        }
      ]
    },
    {
      "cell_type": "code",
      "metadata": {
        "colab": {
          "base_uri": "https://localhost:8080/",
          "height": 317
        },
        "id": "PU9JZkfKtZks",
        "outputId": "b24fcd6d-aba8-43dc-a34a-1e68687be45a"
      },
      "source": [
        "df.loc['2014-02-01','Energy_Load'] = (325.547854 + 248.323577)/2.\n",
        "df.loc['2014-01-08':'2014-02-21'].plot()"
      ],
      "execution_count": 7,
      "outputs": [
        {
          "output_type": "execute_result",
          "data": {
            "text/plain": [
              "<matplotlib.axes._subplots.AxesSubplot at 0x7f54fb1dc750>"
            ]
          },
          "metadata": {
            "tags": []
          },
          "execution_count": 7
        },
        {
          "output_type": "display_data",
          "data": {
            "image/png": "[encoded data removed]",
            "text/plain": [
              "<Figure size 432x288 with 1 Axes>"
            ]
          },
          "metadata": {
            "tags": [],
            "needs_background": "light"
          }
        }
      ]
    },
    {
      "cell_type": "code",
      "metadata": {
        "colab": {
          "base_uri": "https://localhost:8080/"
        },
        "id": "MgVQyuAYtZks",
        "outputId": "09c79f81-4a8b-44ca-f497-f9f2ef3996e0"
      },
      "source": [
        "df1 = df.resample('1M').sum()[['Energy_Load']]\n",
        "df1['date'] = df1.index\n",
        "df1['year'] = df1.date.dt.year\n",
        "df1['month'] = df1.date.dt.month\n",
        "df1.shape"
      ],
      "execution_count": 8,
      "outputs": [
        {
          "output_type": "execute_result",
          "data": {
            "text/plain": [
              "(197, 4)"
            ]
          },
          "metadata": {
            "tags": []
          },
          "execution_count": 8
        }
      ]
    },
    {
      "cell_type": "markdown",
      "metadata": {
        "id": "c6rEdtyNtZku"
      },
      "source": [
        "### Train-test split"
      ]
    },
    {
      "cell_type": "code",
      "metadata": {
        "id": "UFNj-XATtZku"
      },
      "source": [
        "train = df1.loc['2005-01-01':'2017-12-31']\n",
        "val = df1.loc['2017-01-01':'2018-12-31']\n",
        "test = df1.loc['2018-01-01':'2019-12-31']"
      ],
      "execution_count": 9,
      "outputs": []
    },
    {
      "cell_type": "markdown",
      "metadata": {
        "id": "N4kOPD2-tZkw"
      },
      "source": [
        "## Data Pre-Processing"
      ]
    },
    {
      "cell_type": "code",
      "metadata": {
        "id": "8mg5_yY4tZkw"
      },
      "source": [
        "max_ = 8854.093328099998\n",
        "min_ = 5183.659522000001\n",
        "\n",
        "def preprocess(df_, scale=False, windows=None):\n",
        "\n",
        "    _xt = []\n",
        "    for i in range(windows, len(df_)):\n",
        "        _y = df_.iloc[i]\n",
        "        _xt_w = list(df_.iloc[i-windows:i].Energy_Load.values)\n",
        "        _x = _xt_w + [_y.Energy_Load]\n",
        "        _xt.append(_x)\n",
        "        \n",
        "    _X = pd.DataFrame(_xt, columns=cols)\n",
        "    \n",
        "    if scale:\n",
        "        _X = (_X- min_)/(max_ - min_)\n",
        "    \n",
        "    return _X"
      ],
      "execution_count": 11,
      "outputs": []
    },
    {
      "cell_type": "markdown",
      "metadata": {
        "id": "rGiwFihktZky"
      },
      "source": [
        "# Model"
      ]
    },
    {
      "cell_type": "code",
      "metadata": {
        "id": "wjlc7ze7tZkz"
      },
      "source": [
        "import tensorflow as tf\n",
        "from tensorflow.keras.models import Sequential, Model\n",
        "from tensorflow.keras.layers import Dense, Input, LSTM\n",
        "from tensorflow.keras.optimizers import Adam\n",
        "\n",
        "from tensorflow.keras.utils import to_categorical"
      ],
      "execution_count": 12,
      "outputs": []
    },
    {
      "cell_type": "code",
      "metadata": {
        "id": "52lDLJJGtZkz"
      },
      "source": [
        "def create_model(hidden_neurons=[4], lr=0.001, n_input=1, windows=None):\n",
        "    tf.random.set_seed(42)\n",
        "    in_=Input(shape=(windows,1)) \n",
        "    x=LSTM(hidden_neurons[0])(in_)\n",
        "    out_=Dense(1,)(x)\n",
        "    model=Model(in_, out_)\n",
        "\n",
        "    opt = Adam(learning_rate=lr)\n",
        "    model.compile(loss='mean_absolute_error', optimizer=opt, metrics=['mean_squared_error'])\n",
        "    return model"
      ],
      "execution_count": 13,
      "outputs": []
    },
    {
      "cell_type": "code",
      "metadata": {
        "id": "kBfZibWUtZkz"
      },
      "source": [
        "def calculate_metrics(y_true, y_predict, rescaling=True):\n",
        "    \n",
        "    if rescaling:\n",
        "        y_true = y_true*(max_- min_) + min_\n",
        "        y_predict = y_predict*(max_ - min_) + min_\n",
        "\n",
        "    mae_error = mean_absolute_error(y_true, y_predict)\n",
        "    mse_error = mean_squared_error(y_true, y_predict)\n",
        "    rmse_error = np.sqrt(mse_error)\n",
        "    mape = np.mean(np.abs((y_true.ravel() - y_predict.ravel()) / y_true.ravel())) * 100\n",
        "\n",
        "\n",
        "    print(f'Erro MAE = {round(mae_error,3)}\\nErro RMSE = {round(rmse_error,3)}')\n",
        "    print(\"MAPE: \", np.round(mape,3), \"%\")"
      ],
      "execution_count": 14,
      "outputs": []
    },
    {
      "cell_type": "code",
      "metadata": {
        "id": "q3QmE_aFtZk0"
      },
      "source": [
        "def multistep(x_, y_, model_, mode=\"binary\"):\n",
        "\n",
        "    yp = []\n",
        "    \n",
        "    if mode==\"binary\":\n",
        "        L=0\n",
        "    elif mode==\"Nof1\":\n",
        "        L=12\n",
        "\n",
        "    input_ = np.copy(x_)\n",
        "    input_ = np.expand_dims(input_[0], axis=0) # just the first row // for val -> 12 steps // for test -> 5 steps\n",
        "\n",
        "    for i in range(len(x_)):\n",
        "        yt_ = model_.predict(input_)[0][0]\n",
        "        yp.append(yt_)\n",
        "        \n",
        "        if i < len(x_)-1:\n",
        "            # update input\n",
        "            input_[0,L:-1] = input_[0,(L+1):]\n",
        "            input_[0,-1] = yt_\n",
        "\n",
        "    return np.array(yp)"
      ],
      "execution_count": 15,
      "outputs": []
    },
    {
      "cell_type": "markdown",
      "metadata": {
        "id": "5rS144sQ3QfY"
      },
      "source": [
        "# Optimization"
      ]
    },
    {
      "cell_type": "code",
      "metadata": {
        "colab": {
          "base_uri": "https://localhost:8080/"
        },
        "id": "x5WTl20rtxqD",
        "outputId": "22ad0c7e-40de-4036-db44-1db0157047b8"
      },
      "source": [
        "!pip install deap\n",
        "!pip install bitstring"
      ],
      "execution_count": 16,
      "outputs": [
        {
          "output_type": "stream",
          "text": [
            "Requirement already satisfied: deap in /usr/local/lib/python3.7/dist-packages (1.3.1)\n",
            "Requirement already satisfied: numpy in /usr/local/lib/python3.7/dist-packages (from deap) (1.19.5)\n",
            "Requirement already satisfied: bitstring in /usr/local/lib/python3.7/dist-packages (3.1.9)\n"
          ],
          "name": "stdout"
        }
      ]
    },
    {
      "cell_type": "code",
      "metadata": {
        "id": "ToxKBgk2tzIy"
      },
      "source": [
        "from deap import base, creator, tools, algorithms\n",
        "import random"
      ],
      "execution_count": 17,
      "outputs": []
    },
    {
      "cell_type": "code",
      "metadata": {
        "id": "-ayzRzdlyTjF"
      },
      "source": [
        "def aptidao(y_true, y_predict):\n",
        "    \n",
        "    y_true = y_true*(max_- min_) + min_\n",
        "    y_predict = y_predict*(max_ - min_) + min_\n",
        "    mape = np.mean(np.abs((y_true.ravel() - y_predict.ravel()) / y_true.ravel())) * 100\n",
        "    print(\"MAPE: \", mape)\n",
        "\n",
        "    return mape"
      ],
      "execution_count": 18,
      "outputs": []
    },
    {
      "cell_type": "code",
      "metadata": {
        "id": "uIai7H5Ht2RI"
      },
      "source": [
        "def train_evaluate(ga_individual_solution): \n",
        "\n",
        "    global cols\n",
        "\n",
        "    num_units, epochs, wdw = ga_individual_solution\n",
        "    print('\\nNum of Units: {} - epochs: {} - windows: {}'.format(num_units, epochs, wdw))\n",
        "\n",
        "    # data pre-processing\n",
        "    lt_w = ['x[t-{}]'.format(str(i)) for i in reversed(range(wdw))]\n",
        "    cols = lt_w + ['x[t]']\n",
        "    X = preprocess(train, windows=wdw, scale=True)\n",
        "    Xval = preprocess(val, windows=wdw, scale=True)\n",
        "\n",
        "    x_train = X.values[:,:-1]\n",
        "    y_train = X.values[:,-1]\n",
        "\n",
        "    x_val = Xval.values[:,:-1]\n",
        "    y_val = Xval.values[:,-1]\n",
        "\n",
        "    # Train neural network and predict on validation set\n",
        "    model = create_model(hidden_neurons = [num_units], n_input = x_train.shape[1], lr = 0.001, windows=wdw)\n",
        "    model.fit(x_train, y_train, epochs=epochs, verbose=0)\n",
        "\n",
        "    y_pred_val_ms = multistep(x_val, y_val, model)\n",
        "    \n",
        "    # Calculate the MAPE score as fitness score for GA\n",
        "    return aptidao(y_val, y_pred_val_ms),"
      ],
      "execution_count": 19,
      "outputs": []
    },
    {
      "cell_type": "code",
      "metadata": {
        "colab": {
          "base_uri": "https://localhost:8080/"
        },
        "id": "HrmJ8pJPt2Vv",
        "outputId": "a029aa2c-a623-4728-9941-c1a75c4fab62"
      },
      "source": [
        "population_size = 30\n",
        "num_generations = 10\n",
        "\n",
        "creator.create(\"FitnessMax\", base.Fitness, weights=(-1.0,))\n",
        "creator.create(\"Individual\", list,  fitness=creator.FitnessMax) \n",
        "\n",
        "toolbox = base.Toolbox()\n",
        "\n",
        "toolbox.register(\"attr_int1\", random.randint, 5, 150) # units\n",
        "toolbox.register(\"attr_int2\", random.randint, 5, 200) # epochs\n",
        "toolbox.register(\"attr_int3\", random.randint, 1, 12)  # windows\n",
        "\n",
        "# Individuals and population\n",
        "toolbox.register(\"individual\", tools.initCycle, creator.Individual, (toolbox.attr_int1, toolbox.attr_int2, toolbox.attr_int3), 1) \n",
        "toolbox.register(\"population\", tools.initRepeat, list, toolbox.individual)\n",
        "\n",
        "# Operations\n",
        "toolbox.register(\"evaluate\", train_evaluate)\n",
        "toolbox.register(\"mate\", tools.cxOnePoint)\n",
        "toolbox.register(\"mutate\", tools.mutUniformInt, low=[5,5,1], up=[150,200,12], indpb=0.05)\n",
        "toolbox.register(\"select\", tools.selTournament, tournsize=3)\n",
        "\n",
        "\n",
        "population = toolbox.population(n=population_size)\n",
        "r = algorithms.eaSimple(population, toolbox, cxpb=0.4, mutpb = 0.1, ngen=num_generations, verbose = False)"
      ],
      "execution_count": 20,
      "outputs": [
        {
          "output_type": "stream",
          "text": [
            "\n",
            "Num of Units: 54 - epochs: 145 - windows: 11\n",
            "MAPE:  4.07338979069035\n",
            "\n",
            "Num of Units: 70 - epochs: 29 - windows: 5\n",
            "MAPE:  4.4756972397706045\n",
            "\n",
            "Num of Units: 148 - epochs: 177 - windows: 1\n",
            "MAPE:  5.687461636063755\n",
            "\n",
            "Num of Units: 9 - epochs: 47 - windows: 4\n",
            "MAPE:  8.209511605307174\n",
            "\n",
            "Num of Units: 55 - epochs: 83 - windows: 9\n",
            "MAPE:  5.578491618382881\n",
            "\n",
            "Num of Units: 103 - epochs: 55 - windows: 6\n",
            "MAPE:  7.158878434356346\n",
            "\n",
            "Num of Units: 139 - epochs: 68 - windows: 5\n",
            "MAPE:  6.911022947531316\n",
            "\n",
            "Num of Units: 48 - epochs: 185 - windows: 2\n",
            "MAPE:  5.3650254556337345\n",
            "\n",
            "Num of Units: 69 - epochs: 188 - windows: 11\n",
            "MAPE:  4.75308168322524\n",
            "\n",
            "Num of Units: 18 - epochs: 150 - windows: 12\n",
            "MAPE:  3.3269736940388603\n",
            "\n",
            "Num of Units: 150 - epochs: 25 - windows: 12\n",
            "MAPE:  5.620013946446607\n",
            "\n",
            "Num of Units: 122 - epochs: 49 - windows: 1\n",
            "MAPE:  6.1223637147528756\n",
            "\n",
            "Num of Units: 28 - epochs: 105 - windows: 9\n",
            "MAPE:  6.185241642000973\n",
            "\n",
            "Num of Units: 99 - epochs: 101 - windows: 9\n",
            "MAPE:  6.311614222197832\n",
            "\n",
            "Num of Units: 6 - epochs: 57 - windows: 2\n",
            "MAPE:  11.48978031834317\n",
            "\n",
            "Num of Units: 92 - epochs: 37 - windows: 3\n",
            "MAPE:  6.16822003230452\n",
            "\n",
            "Num of Units: 27 - epochs: 156 - windows: 5\n",
            "MAPE:  4.323300217574306\n",
            "\n",
            "Num of Units: 83 - epochs: 88 - windows: 6\n",
            "MAPE:  3.8570945331634126\n",
            "\n",
            "Num of Units: 136 - epochs: 14 - windows: 8\n",
            "MAPE:  4.979358505800218\n",
            "\n",
            "Num of Units: 134 - epochs: 115 - windows: 4\n",
            "MAPE:  7.277058977854811\n",
            "\n",
            "Num of Units: 121 - epochs: 50 - windows: 4\n",
            "MAPE:  4.5563179258342315\n",
            "\n",
            "Num of Units: 62 - epochs: 43 - windows: 8\n",
            "MAPE:  6.551698595745329\n",
            "\n",
            "Num of Units: 78 - epochs: 103 - windows: 12\n",
            "MAPE:  4.249770994174849\n",
            "\n",
            "Num of Units: 82 - epochs: 144 - windows: 2\n",
            "MAPE:  5.387655943835972\n",
            "\n",
            "Num of Units: 139 - epochs: 127 - windows: 6\n",
            "MAPE:  5.729242865327288\n",
            "\n",
            "Num of Units: 95 - epochs: 194 - windows: 7\n",
            "MAPE:  5.198734428139059\n",
            "\n",
            "Num of Units: 77 - epochs: 175 - windows: 10\n",
            "MAPE:  5.661090759276146\n",
            "\n",
            "Num of Units: 69 - epochs: 133 - windows: 9\n",
            "MAPE:  5.343547069155214\n",
            "\n",
            "Num of Units: 61 - epochs: 176 - windows: 11\n",
            "MAPE:  4.502037283077414\n",
            "\n",
            "Num of Units: 48 - epochs: 112 - windows: 8\n",
            "MAPE:  4.46168327786836\n",
            "\n",
            "Num of Units: 70 - epochs: 29 - windows: 11\n",
            "MAPE:  5.534235682088526\n",
            "\n",
            "Num of Units: 61 - epochs: 176 - windows: 5\n",
            "MAPE:  5.577905782109737\n",
            "\n",
            "Num of Units: 112 - epochs: 188 - windows: 11\n",
            "MAPE:  4.8864498064685735\n",
            "\n",
            "Num of Units: 122 - epochs: 49 - windows: 12\n",
            "MAPE:  3.246419268193832\n",
            "\n",
            "Num of Units: 78 - epochs: 103 - windows: 1\n",
            "MAPE:  6.092959629997839\n",
            "\n",
            "Num of Units: 48 - epochs: 29 - windows: 5\n",
            "MAPE:  4.02103076793586\n",
            "\n",
            "Num of Units: 70 - epochs: 112 - windows: 8\n",
            "MAPE:  6.176250368304089\n",
            "\n",
            "Num of Units: 78 - epochs: 67 - windows: 12\n",
            "MAPE:  3.3855594131793882\n",
            "\n",
            "Num of Units: 18 - epochs: 150 - windows: 12\n",
            "MAPE:  3.3269736940388603\n",
            "\n",
            "Num of Units: 48 - epochs: 112 - windows: 8\n",
            "MAPE:  4.46168327786836\n",
            "\n",
            "Num of Units: 27 - epochs: 145 - windows: 11\n",
            "MAPE:  3.723494841015297\n",
            "\n",
            "Num of Units: 54 - epochs: 156 - windows: 5\n",
            "MAPE:  3.8775692185058017\n",
            "\n",
            "Num of Units: 122 - epochs: 49 - windows: 12\n",
            "MAPE:  3.246419268193832\n",
            "\n",
            "Num of Units: 18 - epochs: 150 - windows: 11\n",
            "MAPE:  4.220033818344969\n",
            "\n",
            "Num of Units: 54 - epochs: 145 - windows: 12\n",
            "MAPE:  3.3167284125753227\n",
            "\n",
            "Num of Units: 83 - epochs: 88 - windows: 6\n",
            "MAPE:  3.8570945331634126\n",
            "\n",
            "Num of Units: 83 - epochs: 88 - windows: 6\n",
            "MAPE:  3.8570945331634126\n",
            "\n",
            "Num of Units: 54 - epochs: 88 - windows: 6\n",
            "MAPE:  3.698503033757397\n",
            "\n",
            "Num of Units: 83 - epochs: 145 - windows: 11\n",
            "MAPE:  3.1951273257229156\n",
            "\n",
            "Num of Units: 82 - epochs: 156 - windows: 5\n",
            "MAPE:  3.5522965441404755\n",
            "\n",
            "Num of Units: 27 - epochs: 144 - windows: 2\n",
            "MAPE:  6.43359956165967\n",
            "\n",
            "Num of Units: 122 - epochs: 150 - windows: 12\n",
            "MAPE:  6.745535374016748\n",
            "\n",
            "Num of Units: 18 - epochs: 49 - windows: 12\n",
            "MAPE:  5.822636318515508\n",
            "\n",
            "Num of Units: 48 - epochs: 29 - windows: 12\n",
            "MAPE:  4.827889973504077\n",
            "\n",
            "Num of Units: 78 - epochs: 67 - windows: 5\n",
            "MAPE:  3.7123341465668322\n",
            "\n",
            "Num of Units: 54 - epochs: 145 - windows: 11\n",
            "MAPE:  4.07338979069035\n",
            "\n",
            "Num of Units: 18 - epochs: 150 - windows: 11\n",
            "MAPE:  4.220033818344969\n",
            "\n",
            "Num of Units: 83 - epochs: 145 - windows: 12\n",
            "MAPE:  2.8662050679161566\n",
            "\n",
            "Num of Units: 54 - epochs: 156 - windows: 5\n",
            "MAPE:  3.8775692185058017\n",
            "\n",
            "Num of Units: 82 - epochs: 145 - windows: 12\n",
            "MAPE:  3.7087219023751903\n",
            "\n",
            "Num of Units: 83 - epochs: 145 - windows: 6\n",
            "MAPE:  3.8054783219399515\n",
            "\n",
            "Num of Units: 54 - epochs: 88 - windows: 11\n",
            "MAPE:  6.630907321152138\n",
            "\n",
            "Num of Units: 27 - epochs: 49 - windows: 12\n",
            "MAPE:  4.916329213379475\n",
            "\n",
            "Num of Units: 122 - epochs: 145 - windows: 11\n",
            "MAPE:  4.370761823111902\n",
            "\n",
            "Num of Units: 18 - epochs: 88 - windows: 6\n",
            "MAPE:  4.158242288033077\n",
            "\n",
            "Num of Units: 54 - epochs: 150 - windows: 12\n",
            "MAPE:  4.9537405273003285\n",
            "\n",
            "Num of Units: 83 - epochs: 145 - windows: 12\n",
            "MAPE:  2.8662050679161566\n",
            "\n",
            "Num of Units: 54 - epochs: 145 - windows: 11\n",
            "MAPE:  4.07338979069035\n",
            "\n",
            "Num of Units: 82 - epochs: 156 - windows: 5\n",
            "MAPE:  3.5522965441404755\n",
            "\n",
            "Num of Units: 83 - epochs: 156 - windows: 8\n",
            "MAPE:  4.886573296925404\n",
            "\n",
            "Num of Units: 82 - epochs: 88 - windows: 6\n",
            "MAPE:  3.9992236538535444\n",
            "\n",
            "Num of Units: 83 - epochs: 145 - windows: 12\n",
            "MAPE:  2.8662050679161566\n",
            "\n",
            "Num of Units: 82 - epochs: 145 - windows: 11\n",
            "MAPE:  3.5420442160339736\n",
            "\n",
            "Num of Units: 82 - epochs: 49 - windows: 12\n",
            "MAPE:  4.27840720720543\n",
            "\n",
            "Num of Units: 122 - epochs: 156 - windows: 5\n",
            "MAPE:  3.5037663430952057\n",
            "\n",
            "Num of Units: 82 - epochs: 145 - windows: 12\n",
            "MAPE:  3.7087219023751903\n",
            "\n",
            "Num of Units: 83 - epochs: 145 - windows: 11\n",
            "MAPE:  3.1951273257229156\n",
            "\n",
            "Num of Units: 78 - epochs: 67 - windows: 5\n",
            "MAPE:  3.7123341465668322\n",
            "\n",
            "Num of Units: 82 - epochs: 156 - windows: 12\n",
            "MAPE:  3.1586697369793812\n",
            "\n",
            "Num of Units: 83 - epochs: 88 - windows: 12\n",
            "MAPE:  3.424196883253858\n",
            "\n",
            "Num of Units: 78 - epochs: 67 - windows: 6\n",
            "MAPE:  8.734341603548648\n",
            "\n",
            "Num of Units: 83 - epochs: 145 - windows: 11\n",
            "MAPE:  3.1951273257229156\n",
            "\n",
            "Num of Units: 83 - epochs: 145 - windows: 12\n",
            "MAPE:  2.8662050679161566\n",
            "\n",
            "Num of Units: 83 - epochs: 180 - windows: 12\n",
            "MAPE:  2.76560373433635\n",
            "\n",
            "Num of Units: 83 - epochs: 145 - windows: 12\n",
            "MAPE:  2.8662050679161566\n",
            "\n",
            "Num of Units: 54 - epochs: 145 - windows: 11\n",
            "MAPE:  4.07338979069035\n",
            "\n",
            "Num of Units: 83 - epochs: 145 - windows: 11\n",
            "MAPE:  3.1951273257229156\n",
            "\n",
            "Num of Units: 83 - epochs: 145 - windows: 12\n",
            "MAPE:  2.8662050679161566\n",
            "\n",
            "Num of Units: 83 - epochs: 145 - windows: 11\n",
            "MAPE:  3.1951273257229156\n",
            "\n",
            "Num of Units: 83 - epochs: 145 - windows: 12\n",
            "MAPE:  2.8662050679161566\n",
            "\n",
            "Num of Units: 83 - epochs: 145 - windows: 12\n",
            "MAPE:  2.8662050679161566\n",
            "\n",
            "Num of Units: 83 - epochs: 145 - windows: 12\n",
            "MAPE:  2.8662050679161566\n",
            "\n",
            "Num of Units: 54 - epochs: 145 - windows: 12\n",
            "MAPE:  3.3167284125753227\n",
            "\n",
            "Num of Units: 83 - epochs: 145 - windows: 12\n",
            "MAPE:  2.8662050679161566\n",
            "\n",
            "Num of Units: 83 - epochs: 145 - windows: 12\n",
            "MAPE:  2.8662050679161566\n",
            "\n",
            "Num of Units: 83 - epochs: 145 - windows: 11\n",
            "MAPE:  3.1951273257229156\n",
            "\n",
            "Num of Units: 83 - epochs: 145 - windows: 12\n",
            "MAPE:  2.8662050679161566\n",
            "\n",
            "Num of Units: 83 - epochs: 145 - windows: 11\n",
            "MAPE:  3.1951273257229156\n",
            "\n",
            "Num of Units: 82 - epochs: 156 - windows: 11\n",
            "MAPE:  3.421128901299114\n",
            "\n",
            "Num of Units: 83 - epochs: 145 - windows: 12\n",
            "MAPE:  2.8662050679161566\n",
            "\n",
            "Num of Units: 83 - epochs: 145 - windows: 11\n",
            "MAPE:  3.1951273257229156\n",
            "\n",
            "Num of Units: 83 - epochs: 145 - windows: 11\n",
            "MAPE:  3.1951273257229156\n",
            "\n",
            "Num of Units: 83 - epochs: 145 - windows: 12\n",
            "MAPE:  2.8662050679161566\n",
            "\n",
            "Num of Units: 83 - epochs: 145 - windows: 12\n",
            "MAPE:  2.8662050679161566\n",
            "\n",
            "Num of Units: 83 - epochs: 180 - windows: 12\n",
            "MAPE:  2.76560373433635\n",
            "\n",
            "Num of Units: 83 - epochs: 145 - windows: 11\n",
            "MAPE:  3.1951273257229156\n",
            "\n",
            "Num of Units: 83 - epochs: 145 - windows: 12\n",
            "MAPE:  2.8662050679161566\n",
            "\n",
            "Num of Units: 83 - epochs: 180 - windows: 12\n",
            "MAPE:  2.76560373433635\n",
            "\n",
            "Num of Units: 83 - epochs: 180 - windows: 12\n",
            "MAPE:  2.76560373433635\n",
            "\n",
            "Num of Units: 83 - epochs: 145 - windows: 12\n",
            "MAPE:  2.8662050679161566\n",
            "\n",
            "Num of Units: 83 - epochs: 145 - windows: 12\n",
            "MAPE:  2.8662050679161566\n",
            "\n",
            "Num of Units: 83 - epochs: 145 - windows: 12\n",
            "MAPE:  2.8662050679161566\n",
            "\n",
            "Num of Units: 83 - epochs: 180 - windows: 12\n",
            "MAPE:  2.76560373433635\n",
            "\n",
            "Num of Units: 83 - epochs: 145 - windows: 12\n",
            "MAPE:  2.8662050679161566\n",
            "\n",
            "Num of Units: 83 - epochs: 180 - windows: 12\n",
            "MAPE:  2.76560373433635\n",
            "\n",
            "Num of Units: 83 - epochs: 180 - windows: 12\n",
            "MAPE:  2.76560373433635\n",
            "\n",
            "Num of Units: 83 - epochs: 180 - windows: 12\n",
            "MAPE:  2.76560373433635\n",
            "\n",
            "Num of Units: 83 - epochs: 180 - windows: 12\n",
            "MAPE:  2.76560373433635\n",
            "\n",
            "Num of Units: 83 - epochs: 145 - windows: 12\n",
            "MAPE:  2.8662050679161566\n",
            "\n",
            "Num of Units: 83 - epochs: 145 - windows: 12\n",
            "MAPE:  2.8662050679161566\n",
            "\n",
            "Num of Units: 83 - epochs: 145 - windows: 12\n",
            "MAPE:  2.8662050679161566\n",
            "\n",
            "Num of Units: 83 - epochs: 145 - windows: 12\n",
            "MAPE:  2.8662050679161566\n",
            "\n",
            "Num of Units: 83 - epochs: 180 - windows: 12\n",
            "MAPE:  2.76560373433635\n",
            "\n",
            "Num of Units: 83 - epochs: 145 - windows: 12\n",
            "MAPE:  2.8662050679161566\n",
            "\n",
            "Num of Units: 83 - epochs: 145 - windows: 12\n",
            "MAPE:  2.8662050679161566\n",
            "\n",
            "Num of Units: 83 - epochs: 180 - windows: 12\n",
            "MAPE:  2.76560373433635\n",
            "\n",
            "Num of Units: 83 - epochs: 180 - windows: 12\n",
            "MAPE:  2.76560373433635\n",
            "\n",
            "Num of Units: 83 - epochs: 180 - windows: 12\n",
            "MAPE:  2.76560373433635\n",
            "\n",
            "Num of Units: 83 - epochs: 145 - windows: 12\n",
            "MAPE:  2.8662050679161566\n",
            "\n",
            "Num of Units: 83 - epochs: 180 - windows: 12\n",
            "MAPE:  2.76560373433635\n",
            "\n",
            "Num of Units: 83 - epochs: 145 - windows: 12\n",
            "MAPE:  2.8662050679161566\n",
            "\n",
            "Num of Units: 83 - epochs: 180 - windows: 12\n",
            "MAPE:  2.76560373433635\n",
            "\n",
            "Num of Units: 83 - epochs: 180 - windows: 12\n",
            "MAPE:  2.76560373433635\n",
            "\n",
            "Num of Units: 83 - epochs: 145 - windows: 12\n",
            "MAPE:  2.8662050679161566\n",
            "\n",
            "Num of Units: 83 - epochs: 180 - windows: 12\n",
            "MAPE:  2.76560373433635\n",
            "\n",
            "Num of Units: 83 - epochs: 180 - windows: 12\n",
            "MAPE:  2.76560373433635\n",
            "\n",
            "Num of Units: 83 - epochs: 180 - windows: 12\n",
            "MAPE:  2.76560373433635\n",
            "\n",
            "Num of Units: 83 - epochs: 180 - windows: 12\n",
            "MAPE:  2.76560373433635\n",
            "\n",
            "Num of Units: 83 - epochs: 180 - windows: 12\n",
            "MAPE:  2.76560373433635\n",
            "\n",
            "Num of Units: 83 - epochs: 180 - windows: 12\n",
            "MAPE:  2.76560373433635\n",
            "\n",
            "Num of Units: 83 - epochs: 180 - windows: 12\n",
            "MAPE:  2.76560373433635\n",
            "\n",
            "Num of Units: 83 - epochs: 180 - windows: 12\n",
            "MAPE:  2.76560373433635\n",
            "\n",
            "Num of Units: 83 - epochs: 180 - windows: 12\n",
            "MAPE:  2.76560373433635\n",
            "\n",
            "Num of Units: 83 - epochs: 180 - windows: 12\n",
            "MAPE:  2.76560373433635\n",
            "\n",
            "Num of Units: 83 - epochs: 180 - windows: 12\n",
            "MAPE:  2.76560373433635\n",
            "\n",
            "Num of Units: 83 - epochs: 180 - windows: 12\n",
            "MAPE:  2.76560373433635\n",
            "\n",
            "Num of Units: 83 - epochs: 180 - windows: 12\n",
            "MAPE:  2.76560373433635\n",
            "\n",
            "Num of Units: 83 - epochs: 180 - windows: 12\n",
            "MAPE:  2.76560373433635\n",
            "\n",
            "Num of Units: 83 - epochs: 180 - windows: 12\n",
            "MAPE:  2.76560373433635\n",
            "\n",
            "Num of Units: 83 - epochs: 180 - windows: 12\n",
            "MAPE:  2.76560373433635\n",
            "\n",
            "Num of Units: 83 - epochs: 180 - windows: 12\n",
            "MAPE:  2.76560373433635\n",
            "\n",
            "Num of Units: 83 - epochs: 180 - windows: 12\n",
            "MAPE:  2.76560373433635\n",
            "\n",
            "Num of Units: 83 - epochs: 180 - windows: 12\n",
            "MAPE:  2.76560373433635\n",
            "\n",
            "Num of Units: 83 - epochs: 180 - windows: 12\n",
            "MAPE:  2.76560373433635\n",
            "\n",
            "Num of Units: 83 - epochs: 180 - windows: 12\n",
            "MAPE:  2.76560373433635\n",
            "\n",
            "Num of Units: 83 - epochs: 180 - windows: 12\n",
            "MAPE:  2.76560373433635\n",
            "\n",
            "Num of Units: 83 - epochs: 180 - windows: 12\n",
            "MAPE:  2.76560373433635\n",
            "\n",
            "Num of Units: 83 - epochs: 180 - windows: 12\n",
            "MAPE:  2.76560373433635\n",
            "\n",
            "Num of Units: 83 - epochs: 180 - windows: 12\n",
            "MAPE:  2.76560373433635\n",
            "\n",
            "Num of Units: 83 - epochs: 180 - windows: 12\n",
            "MAPE:  2.76560373433635\n",
            "\n",
            "Num of Units: 83 - epochs: 180 - windows: 12\n",
            "MAPE:  2.76560373433635\n",
            "\n",
            "Num of Units: 83 - epochs: 180 - windows: 12\n",
            "MAPE:  2.76560373433635\n"
          ],
          "name": "stdout"
        }
      ]
    },
    {
      "cell_type": "code",
      "metadata": {
        "colab": {
          "base_uri": "https://localhost:8080/"
        },
        "id": "jfgj5473xcRd",
        "outputId": "d25c2f55-634f-4380-9d09-ed6f29d9f430"
      },
      "source": [
        "# Print top N solutions\n",
        "best_individuals = tools.selBest(population, k=3)\n",
        "\n",
        "for bi in best_individuals:\n",
        "    print(bi)\n",
        "    # train_evaluate(bi)"
      ],
      "execution_count": 21,
      "outputs": [
        {
          "output_type": "stream",
          "text": [
            "[83, 180, 12]\n",
            "[83, 180, 12]\n",
            "[83, 180, 12]\n"
          ],
          "name": "stdout"
        }
      ]
    },
    {
      "cell_type": "markdown",
      "metadata": {
        "id": "ptZ9nGpKooRJ"
      },
      "source": [
        "# Train with optimized parameters"
      ]
    },
    {
      "cell_type": "code",
      "metadata": {
        "id": "IN9eIHYztZk0"
      },
      "source": [
        "hn, ep, windows = best_individuals[0]\n",
        "\n",
        "# hn = 75\n",
        "# ep = 131\n",
        "# windows = 6"
      ],
      "execution_count": 22,
      "outputs": []
    },
    {
      "cell_type": "code",
      "metadata": {
        "id": "QFF8x7IKmVPe"
      },
      "source": [
        "lt_w = ['x[t-{}]'.format(str(i)) for i in reversed(range(windows))]\n",
        "cols = lt_w + ['x[t]']\n",
        "X = preprocess(train, windows=windows, scale=True)\n",
        "Xval = preprocess(val, windows=windows, scale=True)\n",
        "\n",
        "x_train = X.values[:,:-1]\n",
        "y_train = X.values[:,-1]\n",
        "\n",
        "x_val = Xval.values[:,:-1]\n",
        "y_val = Xval.values[:,-1]"
      ],
      "execution_count": 23,
      "outputs": []
    },
    {
      "cell_type": "code",
      "metadata": {
        "id": "hCicdHUEmbR4"
      },
      "source": [
        "model1 = create_model(hidden_neurons = [hn], n_input = x_train.shape[1], windows=windows)"
      ],
      "execution_count": 24,
      "outputs": []
    },
    {
      "cell_type": "code",
      "metadata": {
        "id": "4GZDon43tZk0"
      },
      "source": [
        "hs1 = model1.fit(x=x_train, y=y_train, epochs=ep,\n",
        "                 validation_data=(x_val, y_val), verbose=0)"
      ],
      "execution_count": 25,
      "outputs": []
    },
    {
      "cell_type": "code",
      "metadata": {
        "colab": {
          "base_uri": "https://localhost:8080/",
          "height": 265
        },
        "id": "FMoQ3eXWtZk1",
        "outputId": "e2d71dfd-b6d1-48c4-ef05-a22fd008238d"
      },
      "source": [
        "plt.plot(hs1.history['loss'], label=\"mae\")\n",
        "plt.plot(hs1.history['mean_squared_error'], label=\"mse\")\n",
        "plt.plot(hs1.history['val_loss'], label=\"val_mae\")\n",
        "plt.plot(hs1.history['val_mean_squared_error'], label=\"val_mse\")\n",
        "plt.legend()\n",
        "plt.show()"
      ],
      "execution_count": 26,
      "outputs": [
        {
          "output_type": "display_data",
          "data": {
            "image/png": "[encoded data removed]",
            "text/plain": [
              "<Figure size 432x288 with 1 Axes>"
            ]
          },
          "metadata": {
            "tags": [],
            "needs_background": "light"
          }
        }
      ]
    },
    {
      "cell_type": "code",
      "metadata": {
        "colab": {
          "base_uri": "https://localhost:8080/",
          "height": 337
        },
        "id": "MlBHi1wvtZk1",
        "outputId": "e64ca28c-256a-472b-d983-0c45aeec33b0"
      },
      "source": [
        "y_train_hat = model1.predict(x_train)\n",
        "\n",
        "plt.figure(figsize=[16,5])\n",
        "plt.plot(y_train)\n",
        "plt.plot(y_train_hat)\n",
        "plt.legend(['Original','Predicted'])"
      ],
      "execution_count": 27,
      "outputs": [
        {
          "output_type": "execute_result",
          "data": {
            "text/plain": [
              "<matplotlib.legend.Legend at 0x7f54b4104390>"
            ]
          },
          "metadata": {
            "tags": []
          },
          "execution_count": 27
        },
        {
          "output_type": "display_data",
          "data": {
            "image/png": "[encoded data removed]",
            "text/plain": [
              "<Figure size 1152x360 with 1 Axes>"
            ]
          },
          "metadata": {
            "tags": [],
            "needs_background": "light"
          }
        }
      ]
    },
    {
      "cell_type": "code",
      "metadata": {
        "colab": {
          "base_uri": "https://localhost:8080/"
        },
        "id": "B65bglmMtZk2",
        "outputId": "1dc205fb-da0d-432c-917b-0f8bf7803192"
      },
      "source": [
        "y_val_hat = model1.predict(x_val)\n",
        "y_val_ms = multistep(x_val, y_val, model1)\n",
        "calculate_metrics(y_val, y_val_ms)"
      ],
      "execution_count": 28,
      "outputs": [
        {
          "output_type": "stream",
          "text": [
            "Erro MAE = 226.93\n",
            "Erro RMSE = 266.951\n",
            "MAPE:  2.766 %\n"
          ],
          "name": "stdout"
        }
      ]
    },
    {
      "cell_type": "code",
      "metadata": {
        "colab": {
          "base_uri": "https://localhost:8080/",
          "height": 282
        },
        "id": "QWXnP5IztZk2",
        "outputId": "6f11d3af-b6f5-4d44-9cf3-ae91c435d853"
      },
      "source": [
        "plt.plot(y_val*(max_- min_) + min_)\n",
        "plt.plot(y_val_hat.ravel()*(max_- min_) + min_)\n",
        "plt.plot(y_val_ms*(max_- min_) + min_)\n",
        "plt.legend(['Original','Pred_OneStep', 'Pred_MultiStep'])\n",
        "plt.title('Validation - Multistep')\n",
        "plt.show()"
      ],
      "execution_count": 29,
      "outputs": [
        {
          "output_type": "display_data",
          "data": {
            "image/png": "[encoded data removed]",
            "text/plain": [
              "<Figure size 432x288 with 1 Axes>"
            ]
          },
          "metadata": {
            "tags": [],
            "needs_background": "light"
          }
        }
      ]
    },
    {
      "cell_type": "markdown",
      "metadata": {
        "id": "s9mH6Mk_tZk3"
      },
      "source": [
        "# Testing"
      ]
    },
    {
      "cell_type": "code",
      "metadata": {
        "id": "V4I7XVzVre4x"
      },
      "source": [
        "Xtest = preprocess(test, windows=windows, scale=True)\n",
        "x_test = Xtest.values[:,:-1]\n",
        "y_test = Xtest.values[:,-1]"
      ],
      "execution_count": 31,
      "outputs": []
    },
    {
      "cell_type": "code",
      "metadata": {
        "id": "-d8jdDUutZk3"
      },
      "source": [
        "y_test_hat = model1.predict(x_test)\n",
        "y_test_ms = multistep(x_test, y_test, model1)"
      ],
      "execution_count": 32,
      "outputs": []
    },
    {
      "cell_type": "code",
      "metadata": {
        "colab": {
          "base_uri": "https://localhost:8080/"
        },
        "id": "AlycRbgUtZk3",
        "outputId": "adde3f22-2e77-423a-b58f-04adecdc71af"
      },
      "source": [
        "calculate_metrics(y_test, y_test_ms)"
      ],
      "execution_count": 33,
      "outputs": [
        {
          "output_type": "stream",
          "text": [
            "Erro MAE = 266.97\n",
            "Erro RMSE = 391.19\n",
            "MAPE:  3.105 %\n"
          ],
          "name": "stdout"
        }
      ]
    },
    {
      "cell_type": "code",
      "metadata": {
        "colab": {
          "base_uri": "https://localhost:8080/",
          "height": 265
        },
        "id": "mYXelYaVtZk3",
        "outputId": "bfa41fa8-a51d-40f3-dd8a-b5410738859e"
      },
      "source": [
        "plt.plot(y_test*(max_- min_) + min_)\n",
        "plt.plot(y_test_hat.ravel()*(max_- min_) + min_)\n",
        "plt.plot(y_test_ms*(max_- min_) + min_)\n",
        "plt.legend(['Original','Pred_OneStep', 'Pred_MultiStep'])\n",
        "plt.show()"
      ],
      "execution_count": 34,
      "outputs": [
        {
          "output_type": "display_data",
          "data": {
            "image/png": "[encoded data removed]",
            "text/plain": [
              "<Figure size 432x288 with 1 Axes>"
            ]
          },
          "metadata": {
            "tags": [],
            "needs_background": "light"
          }
        }
      ]
    }
  ]
}