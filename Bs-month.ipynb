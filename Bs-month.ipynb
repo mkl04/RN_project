{
 "cells": [
  {
   "cell_type": "raw",
   "metadata": {},
   "source": [
    "# Mensual\n",
    "# Evaluation: 5 pasos al frente ( O sea de 5 meses para adelante)"
   ]
  },
  {
   "cell_type": "code",
   "execution_count": 1,
   "metadata": {},
   "outputs": [],
   "source": [
    "import numpy as np\n",
    "import pandas as pd\n",
    "from datetime import datetime, timedelta\n",
    "from sklearn.metrics import mean_squared_error, mean_absolute_error\n",
    "import matplotlib.pyplot as plt\n",
    "plt.style.use('ggplot')\n",
    "\n",
    "pd.options.display.max_columns = 30"
   ]
  },
  {
   "cell_type": "markdown",
   "metadata": {},
   "source": [
    "# Load data"
   ]
  },
  {
   "cell_type": "code",
   "execution_count": 2,
   "metadata": {},
   "outputs": [
    {
     "data": {
      "text/plain": [
       "(5995, 2)"
      ]
     },
     "execution_count": 2,
     "metadata": {},
     "output_type": "execute_result"
    }
   ],
   "source": [
    "data = pd.read_excel('data/ft_load_sul_15y_days.xlsx')\n",
    "data = data[['Data Escala de Tempo 1 CE Simp 4', 'Selecione Tipo de CE Simp 4']]\n",
    "data.columns = ['date','load']\n",
    "data = data[2:]\n",
    "data.shape"
   ]
  },
  {
   "cell_type": "code",
   "execution_count": 3,
   "metadata": {},
   "outputs": [
    {
     "data": {
      "text/html": [
       "<div>\n",
       "<style scoped>\n",
       "    .dataframe tbody tr th:only-of-type {\n",
       "        vertical-align: middle;\n",
       "    }\n",
       "\n",
       "    .dataframe tbody tr th {\n",
       "        vertical-align: top;\n",
       "    }\n",
       "\n",
       "    .dataframe thead th {\n",
       "        text-align: right;\n",
       "    }\n",
       "</style>\n",
       "<table border=\"1\" class=\"dataframe\">\n",
       "  <thead>\n",
       "    <tr style=\"text-align: right;\">\n",
       "      <th></th>\n",
       "      <th>date</th>\n",
       "      <th>load</th>\n",
       "    </tr>\n",
       "  </thead>\n",
       "  <tbody>\n",
       "    <tr>\n",
       "      <th>2</th>\n",
       "      <td>2005-01-01 00:00:00</td>\n",
       "      <td>134.95552</td>\n",
       "    </tr>\n",
       "    <tr>\n",
       "      <th>3</th>\n",
       "      <td>2005-02-01 00:00:00</td>\n",
       "      <td>140.24240</td>\n",
       "    </tr>\n",
       "    <tr>\n",
       "      <th>5995</th>\n",
       "      <td>05/30/2021 12:00:00 a.m.</td>\n",
       "      <td>209.56636</td>\n",
       "    </tr>\n",
       "    <tr>\n",
       "      <th>5996</th>\n",
       "      <td>05/31/2021 12:00:00 a.m.</td>\n",
       "      <td>276.47700</td>\n",
       "    </tr>\n",
       "  </tbody>\n",
       "</table>\n",
       "</div>"
      ],
      "text/plain": [
       "                          date       load\n",
       "2          2005-01-01 00:00:00  134.95552\n",
       "3          2005-02-01 00:00:00  140.24240\n",
       "5995  05/30/2021 12:00:00 a.m.  209.56636\n",
       "5996  05/31/2021 12:00:00 a.m.  276.47700"
      ]
     },
     "execution_count": 3,
     "metadata": {},
     "output_type": "execute_result"
    }
   ],
   "source": [
    "data.iloc[np.r_[0:2, -2:0]]"
   ]
  },
  {
   "cell_type": "code",
   "execution_count": 4,
   "metadata": {},
   "outputs": [],
   "source": [
    "init_date = datetime(2005, 1, 1)\n",
    "datelist = pd.date_range(init_date, periods=len(data)).tolist()"
   ]
  },
  {
   "cell_type": "code",
   "execution_count": 5,
   "metadata": {},
   "outputs": [
    {
     "data": {
      "text/html": [
       "<div>\n",
       "<style scoped>\n",
       "    .dataframe tbody tr th:only-of-type {\n",
       "        vertical-align: middle;\n",
       "    }\n",
       "\n",
       "    .dataframe tbody tr th {\n",
       "        vertical-align: top;\n",
       "    }\n",
       "\n",
       "    .dataframe thead th {\n",
       "        text-align: right;\n",
       "    }\n",
       "</style>\n",
       "<table border=\"1\" class=\"dataframe\">\n",
       "  <thead>\n",
       "    <tr style=\"text-align: right;\">\n",
       "      <th></th>\n",
       "      <th>Energy_Load</th>\n",
       "    </tr>\n",
       "  </thead>\n",
       "  <tbody>\n",
       "    <tr>\n",
       "      <th>2005-01-01</th>\n",
       "      <td>134.95552</td>\n",
       "    </tr>\n",
       "    <tr>\n",
       "      <th>2005-01-02</th>\n",
       "      <td>140.24240</td>\n",
       "    </tr>\n",
       "    <tr>\n",
       "      <th>2021-05-30</th>\n",
       "      <td>209.56636</td>\n",
       "    </tr>\n",
       "    <tr>\n",
       "      <th>2021-05-31</th>\n",
       "      <td>276.47700</td>\n",
       "    </tr>\n",
       "  </tbody>\n",
       "</table>\n",
       "</div>"
      ],
      "text/plain": [
       "            Energy_Load\n",
       "2005-01-01    134.95552\n",
       "2005-01-02    140.24240\n",
       "2021-05-30    209.56636\n",
       "2021-05-31    276.47700"
      ]
     },
     "execution_count": 5,
     "metadata": {},
     "output_type": "execute_result"
    }
   ],
   "source": [
    "df = pd.DataFrame(data=data.load.values, index=datelist, columns=['Energy_Load'])\n",
    "df.iloc[np.r_[0:2, -2:0]]"
   ]
  },
  {
   "cell_type": "code",
   "execution_count": 6,
   "metadata": {},
   "outputs": [
    {
     "data": {
      "text/html": [
       "<div>\n",
       "<style scoped>\n",
       "    .dataframe tbody tr th:only-of-type {\n",
       "        vertical-align: middle;\n",
       "    }\n",
       "\n",
       "    .dataframe tbody tr th {\n",
       "        vertical-align: top;\n",
       "    }\n",
       "\n",
       "    .dataframe thead th {\n",
       "        text-align: right;\n",
       "    }\n",
       "</style>\n",
       "<table border=\"1\" class=\"dataframe\">\n",
       "  <thead>\n",
       "    <tr style=\"text-align: right;\">\n",
       "      <th></th>\n",
       "      <th>Energy_Load</th>\n",
       "    </tr>\n",
       "  </thead>\n",
       "  <tbody>\n",
       "    <tr>\n",
       "      <th>2014-02-01</th>\n",
       "      <td>NaN</td>\n",
       "    </tr>\n",
       "  </tbody>\n",
       "</table>\n",
       "</div>"
      ],
      "text/plain": [
       "            Energy_Load\n",
       "2014-02-01          NaN"
      ]
     },
     "execution_count": 6,
     "metadata": {},
     "output_type": "execute_result"
    }
   ],
   "source": [
    "df[df.Energy_Load.isnull()]"
   ]
  },
  {
   "cell_type": "code",
   "execution_count": 7,
   "metadata": {},
   "outputs": [
    {
     "data": {
      "text/plain": [
       "<matplotlib.axes._subplots.AxesSubplot at 0x25de76314e0>"
      ]
     },
     "execution_count": 7,
     "metadata": {},
     "output_type": "execute_result"
    },
    {
     "data": {
      "image/png": "[encoded data removed]",
      "text/plain": [
       "<Figure size 432x288 with 1 Axes>"
      ]
     },
     "metadata": {
      "needs_background": "light"
     },
     "output_type": "display_data"
    }
   ],
   "source": [
    "df.loc['2014-02-01','Energy_Load'] = (325.547854 + 248.323577)/2.\n",
    "df.loc['2014-01-08':'2014-02-21'].plot()"
   ]
  },
  {
   "cell_type": "code",
   "execution_count": 8,
   "metadata": {},
   "outputs": [
    {
     "data": {
      "text/plain": [
       "(197, 4)"
      ]
     },
     "execution_count": 8,
     "metadata": {},
     "output_type": "execute_result"
    }
   ],
   "source": [
    "df1 = df.resample('1M').sum()[['Energy_Load']]\n",
    "df1['date'] = df1.index\n",
    "df1['year'] = df1.date.dt.year\n",
    "df1['month'] = df1.date.dt.month\n",
    "df1.shape"
   ]
  },
  {
   "cell_type": "code",
   "execution_count": 9,
   "metadata": {},
   "outputs": [
    {
     "data": {
      "text/html": [
       "<div>\n",
       "<style scoped>\n",
       "    .dataframe tbody tr th:only-of-type {\n",
       "        vertical-align: middle;\n",
       "    }\n",
       "\n",
       "    .dataframe tbody tr th {\n",
       "        vertical-align: top;\n",
       "    }\n",
       "\n",
       "    .dataframe thead th {\n",
       "        text-align: right;\n",
       "    }\n",
       "</style>\n",
       "<table border=\"1\" class=\"dataframe\">\n",
       "  <thead>\n",
       "    <tr style=\"text-align: right;\">\n",
       "      <th></th>\n",
       "      <th>Energy_Load</th>\n",
       "      <th>date</th>\n",
       "      <th>year</th>\n",
       "      <th>month</th>\n",
       "    </tr>\n",
       "  </thead>\n",
       "  <tbody>\n",
       "    <tr>\n",
       "      <th>2005-01-31</th>\n",
       "      <td>5812.802010</td>\n",
       "      <td>2005-01-31</td>\n",
       "      <td>2005</td>\n",
       "      <td>1</td>\n",
       "    </tr>\n",
       "    <tr>\n",
       "      <th>2005-02-28</th>\n",
       "      <td>5400.981390</td>\n",
       "      <td>2005-02-28</td>\n",
       "      <td>2005</td>\n",
       "      <td>2</td>\n",
       "    </tr>\n",
       "    <tr>\n",
       "      <th>2005-03-31</th>\n",
       "      <td>6082.353690</td>\n",
       "      <td>2005-03-31</td>\n",
       "      <td>2005</td>\n",
       "      <td>3</td>\n",
       "    </tr>\n",
       "    <tr>\n",
       "      <th>2021-03-31</th>\n",
       "      <td>9614.946489</td>\n",
       "      <td>2021-03-31</td>\n",
       "      <td>2021</td>\n",
       "      <td>3</td>\n",
       "    </tr>\n",
       "    <tr>\n",
       "      <th>2021-04-30</th>\n",
       "      <td>8606.498493</td>\n",
       "      <td>2021-04-30</td>\n",
       "      <td>2021</td>\n",
       "      <td>4</td>\n",
       "    </tr>\n",
       "    <tr>\n",
       "      <th>2021-05-31</th>\n",
       "      <td>8463.734421</td>\n",
       "      <td>2021-05-31</td>\n",
       "      <td>2021</td>\n",
       "      <td>5</td>\n",
       "    </tr>\n",
       "  </tbody>\n",
       "</table>\n",
       "</div>"
      ],
      "text/plain": [
       "            Energy_Load       date  year  month\n",
       "2005-01-31  5812.802010 2005-01-31  2005      1\n",
       "2005-02-28  5400.981390 2005-02-28  2005      2\n",
       "2005-03-31  6082.353690 2005-03-31  2005      3\n",
       "2021-03-31  9614.946489 2021-03-31  2021      3\n",
       "2021-04-30  8606.498493 2021-04-30  2021      4\n",
       "2021-05-31  8463.734421 2021-05-31  2021      5"
      ]
     },
     "execution_count": 9,
     "metadata": {},
     "output_type": "execute_result"
    }
   ],
   "source": [
    "df1.iloc[np.r_[0:3, -3:0]]"
   ]
  },
  {
   "cell_type": "code",
   "execution_count": 10,
   "metadata": {},
   "outputs": [
    {
     "data": {
      "image/png": "[encoded data removed]",
      "text/plain": [
       "<Figure size 1152x360 with 1 Axes>"
      ]
     },
     "metadata": {
      "needs_background": "light"
     },
     "output_type": "display_data"
    }
   ],
   "source": [
    "plt.figure(figsize=[16,5])\n",
    "plt.plot(df1.loc['2005-01-01':'2018-12-31','Energy_Load'], label=\"train\")\n",
    "plt.plot(df1.loc['2018-12-31':'2019-12-31','Energy_Load'], label=\"val\")\n",
    "plt.plot(df1.loc['2021-01-01':'2021-05-31','Energy_Load'], label=\"test\")\n",
    "plt.legend()\n",
    "plt.ylabel('Energy Load / Week (GWh)')\n",
    "plt.show()"
   ]
  },
  {
   "cell_type": "markdown",
   "metadata": {},
   "source": [
    "### Train-test split"
   ]
  },
  {
   "cell_type": "code",
   "execution_count": 11,
   "metadata": {},
   "outputs": [],
   "source": [
    "windows = 3"
   ]
  },
  {
   "cell_type": "code",
   "execution_count": 12,
   "metadata": {},
   "outputs": [
    {
     "name": "stdout",
     "output_type": "stream",
     "text": [
      "(168, 4)\n"
     ]
    },
    {
     "data": {
      "text/html": [
       "<div>\n",
       "<style scoped>\n",
       "    .dataframe tbody tr th:only-of-type {\n",
       "        vertical-align: middle;\n",
       "    }\n",
       "\n",
       "    .dataframe tbody tr th {\n",
       "        vertical-align: top;\n",
       "    }\n",
       "\n",
       "    .dataframe thead th {\n",
       "        text-align: right;\n",
       "    }\n",
       "</style>\n",
       "<table border=\"1\" class=\"dataframe\">\n",
       "  <thead>\n",
       "    <tr style=\"text-align: right;\">\n",
       "      <th></th>\n",
       "      <th>Energy_Load</th>\n",
       "      <th>date</th>\n",
       "      <th>year</th>\n",
       "      <th>month</th>\n",
       "    </tr>\n",
       "  </thead>\n",
       "  <tbody>\n",
       "    <tr>\n",
       "      <th>2005-01-31</th>\n",
       "      <td>5812.802010</td>\n",
       "      <td>2005-01-31</td>\n",
       "      <td>2005</td>\n",
       "      <td>1</td>\n",
       "    </tr>\n",
       "    <tr>\n",
       "      <th>2005-02-28</th>\n",
       "      <td>5400.981390</td>\n",
       "      <td>2005-02-28</td>\n",
       "      <td>2005</td>\n",
       "      <td>2</td>\n",
       "    </tr>\n",
       "    <tr>\n",
       "      <th>2018-11-30</th>\n",
       "      <td>8140.952037</td>\n",
       "      <td>2018-11-30</td>\n",
       "      <td>2018</td>\n",
       "      <td>11</td>\n",
       "    </tr>\n",
       "    <tr>\n",
       "      <th>2018-12-31</th>\n",
       "      <td>8580.341897</td>\n",
       "      <td>2018-12-31</td>\n",
       "      <td>2018</td>\n",
       "      <td>12</td>\n",
       "    </tr>\n",
       "  </tbody>\n",
       "</table>\n",
       "</div>"
      ],
      "text/plain": [
       "            Energy_Load       date  year  month\n",
       "2005-01-31  5812.802010 2005-01-31  2005      1\n",
       "2005-02-28  5400.981390 2005-02-28  2005      2\n",
       "2018-11-30  8140.952037 2018-11-30  2018     11\n",
       "2018-12-31  8580.341897 2018-12-31  2018     12"
      ]
     },
     "execution_count": 12,
     "metadata": {},
     "output_type": "execute_result"
    }
   ],
   "source": [
    "train = df1.loc['2005-01-01':'2018-12-31']\n",
    "print(train.shape)\n",
    "train.iloc[np.r_[0:2, -2:0]]"
   ]
  },
  {
   "cell_type": "code",
   "execution_count": 13,
   "metadata": {},
   "outputs": [
    {
     "name": "stdout",
     "output_type": "stream",
     "text": [
      "(24, 4)\n"
     ]
    },
    {
     "data": {
      "text/html": [
       "<div>\n",
       "<style scoped>\n",
       "    .dataframe tbody tr th:only-of-type {\n",
       "        vertical-align: middle;\n",
       "    }\n",
       "\n",
       "    .dataframe tbody tr th {\n",
       "        vertical-align: top;\n",
       "    }\n",
       "\n",
       "    .dataframe thead th {\n",
       "        text-align: right;\n",
       "    }\n",
       "</style>\n",
       "<table border=\"1\" class=\"dataframe\">\n",
       "  <thead>\n",
       "    <tr style=\"text-align: right;\">\n",
       "      <th></th>\n",
       "      <th>Energy_Load</th>\n",
       "      <th>date</th>\n",
       "      <th>year</th>\n",
       "      <th>month</th>\n",
       "    </tr>\n",
       "  </thead>\n",
       "  <tbody>\n",
       "    <tr>\n",
       "      <th>2018-01-31</th>\n",
       "      <td>8700.763152</td>\n",
       "      <td>2018-01-31</td>\n",
       "      <td>2018</td>\n",
       "      <td>1</td>\n",
       "    </tr>\n",
       "    <tr>\n",
       "      <th>2018-02-28</th>\n",
       "      <td>8124.509895</td>\n",
       "      <td>2018-02-28</td>\n",
       "      <td>2018</td>\n",
       "      <td>2</td>\n",
       "    </tr>\n",
       "    <tr>\n",
       "      <th>2018-03-31</th>\n",
       "      <td>8847.021982</td>\n",
       "      <td>2018-03-31</td>\n",
       "      <td>2018</td>\n",
       "      <td>3</td>\n",
       "    </tr>\n",
       "    <tr>\n",
       "      <th>2018-04-30</th>\n",
       "      <td>8311.572371</td>\n",
       "      <td>2018-04-30</td>\n",
       "      <td>2018</td>\n",
       "      <td>4</td>\n",
       "    </tr>\n",
       "    <tr>\n",
       "      <th>2018-05-31</th>\n",
       "      <td>7760.197577</td>\n",
       "      <td>2018-05-31</td>\n",
       "      <td>2018</td>\n",
       "      <td>5</td>\n",
       "    </tr>\n",
       "    <tr>\n",
       "      <th>2018-06-30</th>\n",
       "      <td>7637.973069</td>\n",
       "      <td>2018-06-30</td>\n",
       "      <td>2018</td>\n",
       "      <td>6</td>\n",
       "    </tr>\n",
       "    <tr>\n",
       "      <th>2019-11-30</th>\n",
       "      <td>8317.804701</td>\n",
       "      <td>2019-11-30</td>\n",
       "      <td>2019</td>\n",
       "      <td>11</td>\n",
       "    </tr>\n",
       "    <tr>\n",
       "      <th>2019-12-31</th>\n",
       "      <td>8650.069685</td>\n",
       "      <td>2019-12-31</td>\n",
       "      <td>2019</td>\n",
       "      <td>12</td>\n",
       "    </tr>\n",
       "  </tbody>\n",
       "</table>\n",
       "</div>"
      ],
      "text/plain": [
       "            Energy_Load       date  year  month\n",
       "2018-01-31  8700.763152 2018-01-31  2018      1\n",
       "2018-02-28  8124.509895 2018-02-28  2018      2\n",
       "2018-03-31  8847.021982 2018-03-31  2018      3\n",
       "2018-04-30  8311.572371 2018-04-30  2018      4\n",
       "2018-05-31  7760.197577 2018-05-31  2018      5\n",
       "2018-06-30  7637.973069 2018-06-30  2018      6\n",
       "2019-11-30  8317.804701 2019-11-30  2019     11\n",
       "2019-12-31  8650.069685 2019-12-31  2019     12"
      ]
     },
     "execution_count": 13,
     "metadata": {},
     "output_type": "execute_result"
    }
   ],
   "source": [
    "val = pd.concat([train.iloc[-12:], df1.loc['2019-01-01':'2019-12-31'] ], axis=0)\n",
    "print(val.shape)\n",
    "val.iloc[np.r_[0:6, -2:0]]"
   ]
  },
  {
   "cell_type": "code",
   "execution_count": 14,
   "metadata": {},
   "outputs": [
    {
     "name": "stdout",
     "output_type": "stream",
     "text": [
      "(17, 4)\n"
     ]
    },
    {
     "data": {
      "text/html": [
       "<div>\n",
       "<style scoped>\n",
       "    .dataframe tbody tr th:only-of-type {\n",
       "        vertical-align: middle;\n",
       "    }\n",
       "\n",
       "    .dataframe tbody tr th {\n",
       "        vertical-align: top;\n",
       "    }\n",
       "\n",
       "    .dataframe thead th {\n",
       "        text-align: right;\n",
       "    }\n",
       "</style>\n",
       "<table border=\"1\" class=\"dataframe\">\n",
       "  <thead>\n",
       "    <tr style=\"text-align: right;\">\n",
       "      <th></th>\n",
       "      <th>Energy_Load</th>\n",
       "      <th>date</th>\n",
       "      <th>year</th>\n",
       "      <th>month</th>\n",
       "    </tr>\n",
       "  </thead>\n",
       "  <tbody>\n",
       "    <tr>\n",
       "      <th>2019-01-31</th>\n",
       "      <td>9548.465809</td>\n",
       "      <td>2019-01-31</td>\n",
       "      <td>2019</td>\n",
       "      <td>1</td>\n",
       "    </tr>\n",
       "    <tr>\n",
       "      <th>2019-02-28</th>\n",
       "      <td>8327.847226</td>\n",
       "      <td>2019-02-28</td>\n",
       "      <td>2019</td>\n",
       "      <td>2</td>\n",
       "    </tr>\n",
       "    <tr>\n",
       "      <th>2019-03-31</th>\n",
       "      <td>8587.788770</td>\n",
       "      <td>2019-03-31</td>\n",
       "      <td>2019</td>\n",
       "      <td>3</td>\n",
       "    </tr>\n",
       "    <tr>\n",
       "      <th>2021-04-30</th>\n",
       "      <td>8606.498493</td>\n",
       "      <td>2021-04-30</td>\n",
       "      <td>2021</td>\n",
       "      <td>4</td>\n",
       "    </tr>\n",
       "    <tr>\n",
       "      <th>2021-05-31</th>\n",
       "      <td>8463.734421</td>\n",
       "      <td>2021-05-31</td>\n",
       "      <td>2021</td>\n",
       "      <td>5</td>\n",
       "    </tr>\n",
       "  </tbody>\n",
       "</table>\n",
       "</div>"
      ],
      "text/plain": [
       "            Energy_Load       date  year  month\n",
       "2019-01-31  9548.465809 2019-01-31  2019      1\n",
       "2019-02-28  8327.847226 2019-02-28  2019      2\n",
       "2019-03-31  8587.788770 2019-03-31  2019      3\n",
       "2021-04-30  8606.498493 2021-04-30  2021      4\n",
       "2021-05-31  8463.734421 2021-05-31  2021      5"
      ]
     },
     "execution_count": 14,
     "metadata": {},
     "output_type": "execute_result"
    }
   ],
   "source": [
    "year2020 = df1[df1.year==2020]\n",
    "year2019 = df1[df1.year==2019]\n",
    "# test = pd.concat([year2020.iloc[-windows:], df1.loc['2021-01-01':'2021-05-31'] ], axis=0)\n",
    "test = pd.concat([year2019, df1.loc['2021-01-01':'2021-05-31'] ], axis=0)\n",
    "print(test.shape)\n",
    "test.iloc[np.r_[0:3, -2:0]]"
   ]
  },
  {
   "cell_type": "markdown",
   "metadata": {},
   "source": [
    "## Data Pre-Processing"
   ]
  },
  {
   "cell_type": "markdown",
   "metadata": {},
   "source": [
    "**Inputs:**\n",
    "- windows values\n",
    "- month -> one-hot (11)  //  binary (4)\n",
    "- x (t-12)"
   ]
  },
  {
   "cell_type": "code",
   "execution_count": 15,
   "metadata": {},
   "outputs": [],
   "source": [
    "max_ = 8854.093328099998 # np.max(X.iloc[:,4:].values)\n",
    "min_ = 5183.659522000001 #np.min(X.iloc[:,4:].values)\n",
    "lt_w = ['x[t-{}]'.format(str(i)) for i in reversed(range(1, windows+1))]\n",
    "cols = ['m[0]', 'm[1]', 'm[2]', 'm[3]', 'x[t-12]'] + lt_w + ['x[t]']\n",
    "\n",
    "def preprocess(df_, t=12):\n",
    "    '''\n",
    "    t: datos del mes T-t\n",
    "    '''\n",
    "    \n",
    "    _xt = []\n",
    "    for i in range(12, len(df_)):\n",
    "        _y = df_.iloc[i]\n",
    "        _m = _y.month\n",
    "        _m = [float(i) for i in np.binary_repr(_m, width=4)]\n",
    "        _xt_w = list(df_.iloc[i-windows:i].Energy_Load.values)\n",
    "        _xt_12 = df_.iloc[i-12].Energy_Load\n",
    "\n",
    "        _x = _m + [_xt_12] + _xt_w + [_y.Energy_Load]\n",
    "        _xt.append(_x)\n",
    "        \n",
    "    _X = pd.DataFrame(_xt, columns=cols)\n",
    "    _X.iloc[:,4:] = (_X.iloc[:,4:] - min_)/(max_ - min_)\n",
    "    \n",
    "    return _X"
   ]
  },
  {
   "cell_type": "code",
   "execution_count": 16,
   "metadata": {},
   "outputs": [
    {
     "data": {
      "text/html": [
       "<div>\n",
       "<style scoped>\n",
       "    .dataframe tbody tr th:only-of-type {\n",
       "        vertical-align: middle;\n",
       "    }\n",
       "\n",
       "    .dataframe tbody tr th {\n",
       "        vertical-align: top;\n",
       "    }\n",
       "\n",
       "    .dataframe thead th {\n",
       "        text-align: right;\n",
       "    }\n",
       "</style>\n",
       "<table border=\"1\" class=\"dataframe\">\n",
       "  <thead>\n",
       "    <tr style=\"text-align: right;\">\n",
       "      <th></th>\n",
       "      <th>m[0]</th>\n",
       "      <th>m[1]</th>\n",
       "      <th>m[2]</th>\n",
       "      <th>m[3]</th>\n",
       "      <th>x[t-12]</th>\n",
       "      <th>x[t-3]</th>\n",
       "      <th>x[t-2]</th>\n",
       "      <th>x[t-1]</th>\n",
       "      <th>x[t]</th>\n",
       "    </tr>\n",
       "  </thead>\n",
       "  <tbody>\n",
       "    <tr>\n",
       "      <th>0</th>\n",
       "      <td>0.0</td>\n",
       "      <td>0.0</td>\n",
       "      <td>0.0</td>\n",
       "      <td>1.0</td>\n",
       "      <td>0.171408</td>\n",
       "      <td>0.071880</td>\n",
       "      <td>0.081544</td>\n",
       "      <td>0.153548</td>\n",
       "      <td>0.232735</td>\n",
       "    </tr>\n",
       "    <tr>\n",
       "      <th>1</th>\n",
       "      <td>0.0</td>\n",
       "      <td>0.0</td>\n",
       "      <td>1.0</td>\n",
       "      <td>0.0</td>\n",
       "      <td>0.059209</td>\n",
       "      <td>0.081544</td>\n",
       "      <td>0.153548</td>\n",
       "      <td>0.232735</td>\n",
       "      <td>0.103735</td>\n",
       "    </tr>\n",
       "    <tr>\n",
       "      <th>2</th>\n",
       "      <td>0.0</td>\n",
       "      <td>0.0</td>\n",
       "      <td>1.0</td>\n",
       "      <td>1.0</td>\n",
       "      <td>0.244847</td>\n",
       "      <td>0.153548</td>\n",
       "      <td>0.232735</td>\n",
       "      <td>0.103735</td>\n",
       "      <td>0.292497</td>\n",
       "    </tr>\n",
       "    <tr>\n",
       "      <th>3</th>\n",
       "      <td>0.0</td>\n",
       "      <td>1.0</td>\n",
       "      <td>0.0</td>\n",
       "      <td>0.0</td>\n",
       "      <td>0.098563</td>\n",
       "      <td>0.232735</td>\n",
       "      <td>0.103735</td>\n",
       "      <td>0.292497</td>\n",
       "      <td>0.090061</td>\n",
       "    </tr>\n",
       "    <tr>\n",
       "      <th>4</th>\n",
       "      <td>0.0</td>\n",
       "      <td>1.0</td>\n",
       "      <td>0.0</td>\n",
       "      <td>1.0</td>\n",
       "      <td>0.070275</td>\n",
       "      <td>0.103735</td>\n",
       "      <td>0.292497</td>\n",
       "      <td>0.090061</td>\n",
       "      <td>0.141132</td>\n",
       "    </tr>\n",
       "  </tbody>\n",
       "</table>\n",
       "</div>"
      ],
      "text/plain": [
       "   m[0]  m[1]  m[2]  m[3]   x[t-12]    x[t-3]    x[t-2]    x[t-1]      x[t]\n",
       "0   0.0   0.0   0.0   1.0  0.171408  0.071880  0.081544  0.153548  0.232735\n",
       "1   0.0   0.0   1.0   0.0  0.059209  0.081544  0.153548  0.232735  0.103735\n",
       "2   0.0   0.0   1.0   1.0  0.244847  0.153548  0.232735  0.103735  0.292497\n",
       "3   0.0   1.0   0.0   0.0  0.098563  0.232735  0.103735  0.292497  0.090061\n",
       "4   0.0   1.0   0.0   1.0  0.070275  0.103735  0.292497  0.090061  0.141132"
      ]
     },
     "execution_count": 16,
     "metadata": {},
     "output_type": "execute_result"
    }
   ],
   "source": [
    "X = preprocess(train)\n",
    "X.head()"
   ]
  },
  {
   "cell_type": "code",
   "execution_count": 17,
   "metadata": {},
   "outputs": [
    {
     "data": {
      "text/html": [
       "<div>\n",
       "<style scoped>\n",
       "    .dataframe tbody tr th:only-of-type {\n",
       "        vertical-align: middle;\n",
       "    }\n",
       "\n",
       "    .dataframe tbody tr th {\n",
       "        vertical-align: top;\n",
       "    }\n",
       "\n",
       "    .dataframe thead th {\n",
       "        text-align: right;\n",
       "    }\n",
       "</style>\n",
       "<table border=\"1\" class=\"dataframe\">\n",
       "  <thead>\n",
       "    <tr style=\"text-align: right;\">\n",
       "      <th></th>\n",
       "      <th>m[0]</th>\n",
       "      <th>m[1]</th>\n",
       "      <th>m[2]</th>\n",
       "      <th>m[3]</th>\n",
       "      <th>x[t-12]</th>\n",
       "      <th>x[t-3]</th>\n",
       "      <th>x[t-2]</th>\n",
       "      <th>x[t-1]</th>\n",
       "      <th>x[t]</th>\n",
       "    </tr>\n",
       "  </thead>\n",
       "  <tbody>\n",
       "    <tr>\n",
       "      <th>0</th>\n",
       "      <td>0.0</td>\n",
       "      <td>0.0</td>\n",
       "      <td>0.0</td>\n",
       "      <td>1.0</td>\n",
       "      <td>0.958226</td>\n",
       "      <td>0.767954</td>\n",
       "      <td>0.805707</td>\n",
       "      <td>0.925417</td>\n",
       "      <td>1.189180</td>\n",
       "    </tr>\n",
       "    <tr>\n",
       "      <th>1</th>\n",
       "      <td>0.0</td>\n",
       "      <td>0.0</td>\n",
       "      <td>1.0</td>\n",
       "      <td>0.0</td>\n",
       "      <td>0.801227</td>\n",
       "      <td>0.805707</td>\n",
       "      <td>0.925417</td>\n",
       "      <td>1.189180</td>\n",
       "      <td>0.856626</td>\n",
       "    </tr>\n",
       "    <tr>\n",
       "      <th>2</th>\n",
       "      <td>0.0</td>\n",
       "      <td>0.0</td>\n",
       "      <td>1.0</td>\n",
       "      <td>1.0</td>\n",
       "      <td>0.998073</td>\n",
       "      <td>0.925417</td>\n",
       "      <td>1.189180</td>\n",
       "      <td>0.856626</td>\n",
       "      <td>0.927446</td>\n",
       "    </tr>\n",
       "    <tr>\n",
       "      <th>3</th>\n",
       "      <td>0.0</td>\n",
       "      <td>1.0</td>\n",
       "      <td>0.0</td>\n",
       "      <td>0.0</td>\n",
       "      <td>0.852192</td>\n",
       "      <td>1.189180</td>\n",
       "      <td>0.856626</td>\n",
       "      <td>0.927446</td>\n",
       "      <td>0.808223</td>\n",
       "    </tr>\n",
       "    <tr>\n",
       "      <th>4</th>\n",
       "      <td>0.0</td>\n",
       "      <td>1.0</td>\n",
       "      <td>0.0</td>\n",
       "      <td>1.0</td>\n",
       "      <td>0.701971</td>\n",
       "      <td>0.856626</td>\n",
       "      <td>0.927446</td>\n",
       "      <td>0.808223</td>\n",
       "      <td>0.757663</td>\n",
       "    </tr>\n",
       "  </tbody>\n",
       "</table>\n",
       "</div>"
      ],
      "text/plain": [
       "   m[0]  m[1]  m[2]  m[3]   x[t-12]    x[t-3]    x[t-2]    x[t-1]      x[t]\n",
       "0   0.0   0.0   0.0   1.0  0.958226  0.767954  0.805707  0.925417  1.189180\n",
       "1   0.0   0.0   1.0   0.0  0.801227  0.805707  0.925417  1.189180  0.856626\n",
       "2   0.0   0.0   1.0   1.0  0.998073  0.925417  1.189180  0.856626  0.927446\n",
       "3   0.0   1.0   0.0   0.0  0.852192  1.189180  0.856626  0.927446  0.808223\n",
       "4   0.0   1.0   0.0   1.0  0.701971  0.856626  0.927446  0.808223  0.757663"
      ]
     },
     "execution_count": 17,
     "metadata": {},
     "output_type": "execute_result"
    }
   ],
   "source": [
    "Xval = preprocess(val)\n",
    "Xval.head()"
   ]
  },
  {
   "cell_type": "code",
   "execution_count": 18,
   "metadata": {},
   "outputs": [
    {
     "data": {
      "text/html": [
       "<div>\n",
       "<style scoped>\n",
       "    .dataframe tbody tr th:only-of-type {\n",
       "        vertical-align: middle;\n",
       "    }\n",
       "\n",
       "    .dataframe tbody tr th {\n",
       "        vertical-align: top;\n",
       "    }\n",
       "\n",
       "    .dataframe thead th {\n",
       "        text-align: right;\n",
       "    }\n",
       "</style>\n",
       "<table border=\"1\" class=\"dataframe\">\n",
       "  <thead>\n",
       "    <tr style=\"text-align: right;\">\n",
       "      <th></th>\n",
       "      <th>m[0]</th>\n",
       "      <th>m[1]</th>\n",
       "      <th>m[2]</th>\n",
       "      <th>m[3]</th>\n",
       "      <th>x[t-12]</th>\n",
       "      <th>x[t-3]</th>\n",
       "      <th>x[t-2]</th>\n",
       "      <th>x[t-1]</th>\n",
       "      <th>x[t]</th>\n",
       "    </tr>\n",
       "  </thead>\n",
       "  <tbody>\n",
       "    <tr>\n",
       "      <th>0</th>\n",
       "      <td>0.0</td>\n",
       "      <td>0.0</td>\n",
       "      <td>0.0</td>\n",
       "      <td>1.0</td>\n",
       "      <td>1.189180</td>\n",
       "      <td>0.892445</td>\n",
       "      <td>0.853890</td>\n",
       "      <td>0.944414</td>\n",
       "      <td>1.097332</td>\n",
       "    </tr>\n",
       "    <tr>\n",
       "      <th>1</th>\n",
       "      <td>0.0</td>\n",
       "      <td>0.0</td>\n",
       "      <td>1.0</td>\n",
       "      <td>0.0</td>\n",
       "      <td>0.856626</td>\n",
       "      <td>0.853890</td>\n",
       "      <td>0.944414</td>\n",
       "      <td>1.097332</td>\n",
       "      <td>0.910962</td>\n",
       "    </tr>\n",
       "    <tr>\n",
       "      <th>2</th>\n",
       "      <td>0.0</td>\n",
       "      <td>0.0</td>\n",
       "      <td>1.0</td>\n",
       "      <td>1.0</td>\n",
       "      <td>0.927446</td>\n",
       "      <td>0.944414</td>\n",
       "      <td>1.097332</td>\n",
       "      <td>0.910962</td>\n",
       "      <td>1.207292</td>\n",
       "    </tr>\n",
       "    <tr>\n",
       "      <th>3</th>\n",
       "      <td>0.0</td>\n",
       "      <td>1.0</td>\n",
       "      <td>0.0</td>\n",
       "      <td>0.0</td>\n",
       "      <td>0.808223</td>\n",
       "      <td>1.097332</td>\n",
       "      <td>0.910962</td>\n",
       "      <td>1.207292</td>\n",
       "      <td>0.932543</td>\n",
       "    </tr>\n",
       "    <tr>\n",
       "      <th>4</th>\n",
       "      <td>0.0</td>\n",
       "      <td>1.0</td>\n",
       "      <td>0.0</td>\n",
       "      <td>1.0</td>\n",
       "      <td>0.757663</td>\n",
       "      <td>0.910962</td>\n",
       "      <td>1.207292</td>\n",
       "      <td>0.932543</td>\n",
       "      <td>0.893648</td>\n",
       "    </tr>\n",
       "  </tbody>\n",
       "</table>\n",
       "</div>"
      ],
      "text/plain": [
       "   m[0]  m[1]  m[2]  m[3]   x[t-12]    x[t-3]    x[t-2]    x[t-1]      x[t]\n",
       "0   0.0   0.0   0.0   1.0  1.189180  0.892445  0.853890  0.944414  1.097332\n",
       "1   0.0   0.0   1.0   0.0  0.856626  0.853890  0.944414  1.097332  0.910962\n",
       "2   0.0   0.0   1.0   1.0  0.927446  0.944414  1.097332  0.910962  1.207292\n",
       "3   0.0   1.0   0.0   0.0  0.808223  1.097332  0.910962  1.207292  0.932543\n",
       "4   0.0   1.0   0.0   1.0  0.757663  0.910962  1.207292  0.932543  0.893648"
      ]
     },
     "execution_count": 18,
     "metadata": {},
     "output_type": "execute_result"
    }
   ],
   "source": [
    "Xtest = preprocess(test)\n",
    "Xtest.head()"
   ]
  },
  {
   "cell_type": "code",
   "execution_count": 19,
   "metadata": {},
   "outputs": [],
   "source": [
    "x_train = X.values[:,:-1]\n",
    "y_train = X.values[:,-1]\n",
    "\n",
    "x_val = Xval.values[:,:-1]\n",
    "y_val = Xval.values[:,-1] # y[t+1]\n",
    "\n",
    "x_test = Xtest.values[:,:-1]\n",
    "y_test = Xtest.values[:,-1] # y[t+1]"
   ]
  },
  {
   "cell_type": "markdown",
   "metadata": {},
   "source": [
    "# Model"
   ]
  },
  {
   "cell_type": "code",
   "execution_count": 20,
   "metadata": {},
   "outputs": [],
   "source": [
    "import tensorflow as tf\n",
    "from tensorflow.keras.models import Sequential\n",
    "from tensorflow.keras.layers import Dense\n",
    "from tensorflow.keras.optimizers import Adam\n",
    "from tensorflow.keras.utils import to_categorical"
   ]
  },
  {
   "cell_type": "code",
   "execution_count": 21,
   "metadata": {},
   "outputs": [],
   "source": [
    "def create_model(hidden_neurons=[4], lr=0.05, n_input=1):\n",
    "    tf.set_random_seed(42)\n",
    "    model = Sequential()\n",
    "    model.add(Dense(hidden_neurons[0], input_dim=n_input, activation='relu'))\n",
    "    for i in range(1,len(hidden_neurons)):\n",
    "        model.add(Dense(hidden_neurons[i], input_dim=hidden_neurons[i-1], activation='relu'))\n",
    "    model.add(Dense(1))\n",
    "    opt = Adam(learning_rate=lr)\n",
    "    model.compile(loss='mean_absolute_error', optimizer=opt, metrics=['mean_squared_error'])\n",
    "    return model"
   ]
  },
  {
   "cell_type": "code",
   "execution_count": 22,
   "metadata": {},
   "outputs": [],
   "source": [
    "def calculate_metrics(y_true, y_predict, rescaling=True):\n",
    "    \n",
    "    if rescaling:\n",
    "        y_true = y_true*(max_- min_) + min_\n",
    "        y_predict = y_predict*(max_ - min_) + min_\n",
    "\n",
    "    mae_error = mean_absolute_error(y_true, y_predict)\n",
    "    mse_error = mean_squared_error(y_true, y_predict)\n",
    "    rmse_error = np.sqrt(mse_error)\n",
    "    mape = np.mean(np.abs((y_true.ravel() - y_predict.ravel()) / y_true.ravel())) * 100\n",
    "\n",
    "\n",
    "    print(f'Erro MAE = {round(mae_error,3)}\\nErro RMSE = {round(rmse_error,3)}')\n",
    "    print(\"MAPE: \", np.round(mape,3), \"%\")"
   ]
  },
  {
   "cell_type": "code",
   "execution_count": 23,
   "metadata": {},
   "outputs": [],
   "source": [
    "def multistep(x_, y_, model_, mode=\"binary\"):\n",
    "\n",
    "    yp = []\n",
    "    \n",
    "    if mode==\"binary\":\n",
    "        L=4\n",
    "    elif mode==\"Nof1\":\n",
    "        L=12\n",
    "\n",
    "    input_ = np.copy(x_)\n",
    "    input_ = np.expand_dims(input_[0], axis=0)\n",
    "\n",
    "    for i in range(len(x_)):\n",
    "        yt_ = model_.predict(input_)[0][0]\n",
    "        yp.append(yt_)\n",
    "        \n",
    "        if i < len(x_)-1:\n",
    "            # update input\n",
    "            input_[0,:L] = x_[i+1,:L] # copy binary part\n",
    "            input_[0,L:-1] = input_[0,(L+1):]\n",
    "            input_[0,-1] = yt_\n",
    "\n",
    "    return np.array(yp)"
   ]
  },
  {
   "cell_type": "code",
   "execution_count": 24,
   "metadata": {},
   "outputs": [
    {
     "name": "stdout",
     "output_type": "stream",
     "text": [
      "WARNING:tensorflow:From c:\\users\\admin\\miniconda3\\envs\\jenv\\lib\\site-packages\\tensorflow\\python\\ops\\init_ops.py:1251: calling VarianceScaling.__init__ (from tensorflow.python.ops.init_ops) with dtype is deprecated and will be removed in a future version.\n",
      "Instructions for updating:\n",
      "Call initializer instance with the dtype argument instead of passing it to the constructor\n"
     ]
    }
   ],
   "source": [
    "hn = 10\n",
    "ep = 40\n",
    "\n",
    "model1 = create_model(hidden_neurons = [hn], n_input = x_train.shape[1], lr = 0.001)"
   ]
  },
  {
   "cell_type": "code",
   "execution_count": 93,
   "metadata": {},
   "outputs": [
    {
     "name": "stdout",
     "output_type": "stream",
     "text": [
      "Train on 156 samples, validate on 12 samples\n",
      "Epoch 1/40\n",
      "156/156 [==============================] - 0s 1ms/sample - loss: 0.4227 - mean_squared_error: 0.2479 - val_loss: 0.5304 - val_mean_squared_error: 0.3857\n",
      "Epoch 2/40\n",
      "156/156 [==============================] - 0s 90us/sample - loss: 0.3898 - mean_squared_error: 0.2124 - val_loss: 0.4860 - val_mean_squared_error: 0.3243\n",
      "Epoch 3/40\n",
      "156/156 [==============================] - 0s 83us/sample - loss: 0.3599 - mean_squared_error: 0.1853 - val_loss: 0.4408 - val_mean_squared_error: 0.2702\n",
      "Epoch 4/40\n",
      "156/156 [==============================] - 0s 90us/sample - loss: 0.3317 - mean_squared_error: 0.1587 - val_loss: 0.3976 - val_mean_squared_error: 0.2250\n",
      "Epoch 5/40\n",
      "156/156 [==============================] - 0s 96us/sample - loss: 0.3093 - mean_squared_error: 0.1393 - val_loss: 0.3596 - val_mean_squared_error: 0.1892\n",
      "Epoch 6/40\n",
      "156/156 [==============================] - 0s 106us/sample - loss: 0.2934 - mean_squared_error: 0.1246 - val_loss: 0.3323 - val_mean_squared_error: 0.1621\n",
      "Epoch 7/40\n",
      "156/156 [==============================] - 0s 96us/sample - loss: 0.2795 - mean_squared_error: 0.1119 - val_loss: 0.3121 - val_mean_squared_error: 0.1420\n",
      "Epoch 8/40\n",
      "156/156 [==============================] - 0s 90us/sample - loss: 0.2675 - mean_squared_error: 0.1009 - val_loss: 0.2960 - val_mean_squared_error: 0.1267\n",
      "Epoch 9/40\n",
      "156/156 [==============================] - 0s 90us/sample - loss: 0.2570 - mean_squared_error: 0.0929 - val_loss: 0.2842 - val_mean_squared_error: 0.1136\n",
      "Epoch 10/40\n",
      "156/156 [==============================] - 0s 90us/sample - loss: 0.2459 - mean_squared_error: 0.0845 - val_loss: 0.2727 - val_mean_squared_error: 0.1024\n",
      "Epoch 11/40\n",
      "156/156 [==============================] - 0s 87us/sample - loss: 0.2362 - mean_squared_error: 0.0778 - val_loss: 0.2606 - val_mean_squared_error: 0.0925\n",
      "Epoch 12/40\n",
      "156/156 [==============================] - 0s 103us/sample - loss: 0.2262 - mean_squared_error: 0.0712 - val_loss: 0.2491 - val_mean_squared_error: 0.0837\n",
      "Epoch 13/40\n",
      "156/156 [==============================] - 0s 115us/sample - loss: 0.2169 - mean_squared_error: 0.0651 - val_loss: 0.2376 - val_mean_squared_error: 0.0755\n",
      "Epoch 14/40\n",
      "156/156 [==============================] - ETA: 0s - loss: 0.2109 - mean_squared_error: 0.06 - 0s 109us/sample - loss: 0.2073 - mean_squared_error: 0.0597 - val_loss: 0.2264 - val_mean_squared_error: 0.0677\n",
      "Epoch 15/40\n",
      "156/156 [==============================] - 0s 119us/sample - loss: 0.1980 - mean_squared_error: 0.0545 - val_loss: 0.2167 - val_mean_squared_error: 0.0619\n",
      "Epoch 16/40\n",
      "156/156 [==============================] - 0s 122us/sample - loss: 0.1895 - mean_squared_error: 0.0500 - val_loss: 0.2059 - val_mean_squared_error: 0.0551\n",
      "Epoch 17/40\n",
      "156/156 [==============================] - 0s 103us/sample - loss: 0.1805 - mean_squared_error: 0.0456 - val_loss: 0.1957 - val_mean_squared_error: 0.0492\n",
      "Epoch 18/40\n",
      "156/156 [==============================] - 0s 96us/sample - loss: 0.1724 - mean_squared_error: 0.0418 - val_loss: 0.1860 - val_mean_squared_error: 0.0440\n",
      "Epoch 19/40\n",
      "156/156 [==============================] - 0s 96us/sample - loss: 0.1642 - mean_squared_error: 0.0383 - val_loss: 0.1766 - val_mean_squared_error: 0.0396\n",
      "Epoch 20/40\n",
      "156/156 [==============================] - 0s 99us/sample - loss: 0.1562 - mean_squared_error: 0.0353 - val_loss: 0.1670 - val_mean_squared_error: 0.0355\n",
      "Epoch 21/40\n",
      "156/156 [==============================] - 0s 96us/sample - loss: 0.1479 - mean_squared_error: 0.0322 - val_loss: 0.1577 - val_mean_squared_error: 0.0321\n",
      "Epoch 22/40\n",
      "156/156 [==============================] - 0s 96us/sample - loss: 0.1396 - mean_squared_error: 0.0293 - val_loss: 0.1488 - val_mean_squared_error: 0.0294\n",
      "Epoch 23/40\n",
      "156/156 [==============================] - 0s 83us/sample - loss: 0.1316 - mean_squared_error: 0.0265 - val_loss: 0.1397 - val_mean_squared_error: 0.0269\n",
      "Epoch 24/40\n",
      "156/156 [==============================] - 0s 77us/sample - loss: 0.1236 - mean_squared_error: 0.0237 - val_loss: 0.1307 - val_mean_squared_error: 0.0243\n",
      "Epoch 25/40\n",
      "156/156 [==============================] - 0s 80us/sample - loss: 0.1157 - mean_squared_error: 0.0209 - val_loss: 0.1228 - val_mean_squared_error: 0.0221\n",
      "Epoch 26/40\n",
      "156/156 [==============================] - 0s 103us/sample - loss: 0.1063 - mean_squared_error: 0.0180 - val_loss: 0.1159 - val_mean_squared_error: 0.0203\n",
      "Epoch 27/40\n",
      "156/156 [==============================] - 0s 96us/sample - loss: 0.0995 - mean_squared_error: 0.0159 - val_loss: 0.1090 - val_mean_squared_error: 0.0189\n",
      "Epoch 28/40\n",
      "156/156 [==============================] - 0s 83us/sample - loss: 0.0930 - mean_squared_error: 0.0141 - val_loss: 0.1010 - val_mean_squared_error: 0.0171\n",
      "Epoch 29/40\n",
      "156/156 [==============================] - 0s 96us/sample - loss: 0.0868 - mean_squared_error: 0.0124 - val_loss: 0.0936 - val_mean_squared_error: 0.0152\n",
      "Epoch 30/40\n",
      "156/156 [==============================] - 0s 96us/sample - loss: 0.0819 - mean_squared_error: 0.0112 - val_loss: 0.0885 - val_mean_squared_error: 0.0143\n",
      "Epoch 31/40\n",
      "156/156 [==============================] - 0s 96us/sample - loss: 0.0777 - mean_squared_error: 0.0102 - val_loss: 0.0831 - val_mean_squared_error: 0.0137\n",
      "Epoch 32/40\n",
      "156/156 [==============================] - 0s 109us/sample - loss: 0.0746 - mean_squared_error: 0.0097 - val_loss: 0.0800 - val_mean_squared_error: 0.0134\n",
      "Epoch 33/40\n",
      "156/156 [==============================] - 0s 128us/sample - loss: 0.0728 - mean_squared_error: 0.0091 - val_loss: 0.0772 - val_mean_squared_error: 0.0121\n",
      "Epoch 34/40\n",
      "156/156 [==============================] - 0s 122us/sample - loss: 0.0705 - mean_squared_error: 0.0084 - val_loss: 0.0755 - val_mean_squared_error: 0.0113\n",
      "Epoch 35/40\n",
      "156/156 [==============================] - 0s 119us/sample - loss: 0.0686 - mean_squared_error: 0.0079 - val_loss: 0.0758 - val_mean_squared_error: 0.0109\n",
      "Epoch 36/40\n",
      "156/156 [==============================] - ETA: 0s - loss: 0.0706 - mean_squared_error: 0.00 - 0s 103us/sample - loss: 0.0671 - mean_squared_error: 0.0076 - val_loss: 0.0760 - val_mean_squared_error: 0.0107\n",
      "Epoch 37/40\n",
      "156/156 [==============================] - 0s 109us/sample - loss: 0.0654 - mean_squared_error: 0.0073 - val_loss: 0.0765 - val_mean_squared_error: 0.0103\n",
      "Epoch 38/40\n",
      "156/156 [==============================] - 0s 99us/sample - loss: 0.0641 - mean_squared_error: 0.0070 - val_loss: 0.0784 - val_mean_squared_error: 0.0101\n",
      "Epoch 39/40\n",
      "156/156 [==============================] - 0s 99us/sample - loss: 0.0629 - mean_squared_error: 0.0068 - val_loss: 0.0775 - val_mean_squared_error: 0.0100\n",
      "Epoch 40/40\n",
      "156/156 [==============================] - 0s 77us/sample - loss: 0.0618 - mean_squared_error: 0.0066 - val_loss: 0.0764 - val_mean_squared_error: 0.0098\n"
     ]
    }
   ],
   "source": [
    "hs1 = model1.fit(x=x_train, y=y_train, epochs=ep,\n",
    "                 validation_data=(x_val, y_val))"
   ]
  },
  {
   "cell_type": "code",
   "execution_count": 94,
   "metadata": {},
   "outputs": [
    {
     "data": {
      "image/png": "[encoded data removed]",
      "text/plain": [
       "<Figure size 432x288 with 1 Axes>"
      ]
     },
     "metadata": {
      "needs_background": "light"
     },
     "output_type": "display_data"
    }
   ],
   "source": [
    "plt.plot(hs1.history['loss'], label=\"mae\")\n",
    "plt.plot(hs1.history['mean_squared_error'], label=\"mse\")\n",
    "plt.plot(hs1.history['val_loss'], label=\"val_mae\")\n",
    "plt.plot(hs1.history['val_mean_squared_error'], label=\"val_mse\")\n",
    "plt.legend()\n",
    "plt.show()"
   ]
  },
  {
   "cell_type": "code",
   "execution_count": null,
   "metadata": {},
   "outputs": [],
   "source": []
  },
  {
   "cell_type": "code",
   "execution_count": 25,
   "metadata": {},
   "outputs": [],
   "source": [
    "file_sav = 'res/bs_hn{}_ep{}.h5'.format(hn, ep)\n",
    "model1.load_weights(file_sav)"
   ]
  },
  {
   "cell_type": "code",
   "execution_count": 26,
   "metadata": {},
   "outputs": [
    {
     "data": {
      "text/plain": [
       "<matplotlib.legend.Legend at 0x25dee51a4e0>"
      ]
     },
     "execution_count": 26,
     "metadata": {},
     "output_type": "execute_result"
    },
    {
     "data": {
      "image/png": "[encoded data removed]",
      "text/plain": [
       "<Figure size 1152x360 with 1 Axes>"
      ]
     },
     "metadata": {
      "needs_background": "light"
     },
     "output_type": "display_data"
    }
   ],
   "source": [
    "y_train_hat = model1.predict(x_train)\n",
    "\n",
    "plt.figure(figsize=[16,5])\n",
    "plt.plot(y_train)\n",
    "plt.plot(y_train_hat)\n",
    "plt.legend(['Original','Predicted'])"
   ]
  },
  {
   "cell_type": "code",
   "execution_count": 27,
   "metadata": {},
   "outputs": [],
   "source": [
    "y_val_ms = multistep(x_val, y_val, model1)"
   ]
  },
  {
   "cell_type": "code",
   "execution_count": 28,
   "metadata": {},
   "outputs": [
    {
     "name": "stdout",
     "output_type": "stream",
     "text": [
      "Erro MAE = 385.754\n",
      "Erro RMSE = 476.488\n",
      "MAPE:  4.703 %\n"
     ]
    }
   ],
   "source": [
    "calculate_metrics(y_val, y_val_ms)"
   ]
  },
  {
   "cell_type": "code",
   "execution_count": 29,
   "metadata": {},
   "outputs": [
    {
     "data": {
      "image/png": "[encoded data removed]",
      "text/plain": [
       "<Figure size 432x288 with 1 Axes>"
      ]
     },
     "metadata": {
      "needs_background": "light"
     },
     "output_type": "display_data"
    }
   ],
   "source": [
    "plt.plot(y_val*(max_- min_) + min_)\n",
    "plt.plot(y_val_ms*(max_- min_) + min_)\n",
    "plt.legend(['Original','Predicted'])\n",
    "plt.title('Validation - Multistep')\n",
    "plt.show()"
   ]
  },
  {
   "cell_type": "markdown",
   "metadata": {},
   "source": [
    "# Testing"
   ]
  },
  {
   "cell_type": "code",
   "execution_count": 30,
   "metadata": {},
   "outputs": [],
   "source": [
    "y_test_hat = model1.predict(x_test)\n",
    "y_test_ms = multistep(x_test, y_test, model1)"
   ]
  },
  {
   "cell_type": "code",
   "execution_count": 33,
   "metadata": {},
   "outputs": [
    {
     "name": "stdout",
     "output_type": "stream",
     "text": [
      "Erro MAE = 251.419\n",
      "Erro RMSE = 380.941\n",
      "MAPE:  2.733 %\n"
     ]
    }
   ],
   "source": [
    "calculate_metrics(y_test, y_test_ms)"
   ]
  },
  {
   "cell_type": "code",
   "execution_count": 34,
   "metadata": {},
   "outputs": [
    {
     "data": {
      "image/png": "[encoded data removed]",
      "text/plain": [
       "<Figure size 216x360 with 1 Axes>"
      ]
     },
     "metadata": {
      "needs_background": "light"
     },
     "output_type": "display_data"
    }
   ],
   "source": [
    "plt.figure(figsize=[3,5])\n",
    "plt.plot(y_test*(max_- min_) + min_)\n",
    "plt.plot(y_test_hat.ravel()*(max_- min_) + min_)\n",
    "plt.plot(y_test_ms*(max_- min_) + min_)\n",
    "plt.legend(['Original','Predicted', 'Pred_MultiStep'])\n",
    "plt.show()"
   ]
  },
  {
   "cell_type": "code",
   "execution_count": 110,
   "metadata": {},
   "outputs": [],
   "source": [
    "# file_sav = 'res/bs_hn{}_ep{}.h5'.format(hn, ep)\n",
    "# model1.save_weights(file_sav)"
   ]
  },
  {
   "cell_type": "code",
   "execution_count": null,
   "metadata": {},
   "outputs": [],
   "source": []
  }
 ],
 "metadata": {
  "kernelspec": {
   "display_name": "Python 3",
   "language": "python",
   "name": "python3"
  },
  "language_info": {
   "codemirror_mode": {
    "name": "ipython",
    "version": 3
   },
   "file_extension": ".py",
   "mimetype": "text/x-python",
   "name": "python",
   "nbconvert_exporter": "python",
   "pygments_lexer": "ipython3",
   "version": "3.6.10"
  }
 },
 "nbformat": 4,
 "nbformat_minor": 4
}
