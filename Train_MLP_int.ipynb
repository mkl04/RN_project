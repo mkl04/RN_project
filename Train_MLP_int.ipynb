{
  "nbformat": 4,
  "nbformat_minor": 0,
  "metadata": {
    "kernelspec": {
      "display_name": "Python 3",
      "language": "python",
      "name": "python3"
    },
    "language_info": {
      "codemirror_mode": {
        "name": "ipython",
        "version": 3
      },
      "file_extension": ".py",
      "mimetype": "text/x-python",
      "name": "python",
      "nbconvert_exporter": "python",
      "pygments_lexer": "ipython3",
      "version": "3.6.10"
    },
    "colab": {
      "name": "Months_MLP_int.ipynb",
      "provenance": [],
      "collapsed_sections": []
    }
  },
  "cells": [
    {
      "cell_type": "code",
      "metadata": {
        "id": "O5WmmE2NtZkn"
      },
      "source": [
        "import numpy as np\n",
        "import pandas as pd\n",
        "from datetime import datetime, timedelta\n",
        "from sklearn.metrics import mean_squared_error, mean_absolute_error\n",
        "import matplotlib.pyplot as plt\n",
        "plt.style.use('ggplot')\n",
        "\n",
        "pd.options.display.max_columns = 30"
      ],
      "execution_count": 1,
      "outputs": []
    },
    {
      "cell_type": "markdown",
      "metadata": {
        "id": "dT7ImPcxtZko"
      },
      "source": [
        "# Load data"
      ]
    },
    {
      "cell_type": "code",
      "metadata": {
        "colab": {
          "base_uri": "https://localhost:8080/"
        },
        "id": "CT6jeSE9tZko",
        "outputId": "87c33f48-4adc-4e50-9188-22e3d6ab1646"
      },
      "source": [
        "data = pd.read_excel('data_sul_days_15y.xlsx')\n",
        "data = data[['Data Escala de Tempo 1 CE Simp 4', 'Selecione Tipo de CE Simp 4']]\n",
        "data.columns = ['date','load']\n",
        "data = data[2:]\n",
        "data.shape"
      ],
      "execution_count": 2,
      "outputs": [
        {
          "output_type": "execute_result",
          "data": {
            "text/plain": [
              "(5995, 2)"
            ]
          },
          "metadata": {
            "tags": []
          },
          "execution_count": 2
        }
      ]
    },
    {
      "cell_type": "code",
      "metadata": {
        "colab": {
          "base_uri": "https://localhost:8080/",
          "height": 173
        },
        "id": "8qZAM_vetZkq",
        "outputId": "4d1922ef-d35e-418b-efe6-07539cef3d65"
      },
      "source": [
        "data.iloc[np.r_[0:2, -2:0]]"
      ],
      "execution_count": 3,
      "outputs": [
        {
          "output_type": "execute_result",
          "data": {
            "text/html": [
              "<div>\n",
              "<style scoped>\n",
              "    .dataframe tbody tr th:only-of-type {\n",
              "        vertical-align: middle;\n",
              "    }\n",
              "\n",
              "    .dataframe tbody tr th {\n",
              "        vertical-align: top;\n",
              "    }\n",
              "\n",
              "    .dataframe thead th {\n",
              "        text-align: right;\n",
              "    }\n",
              "</style>\n",
              "<table border=\"1\" class=\"dataframe\">\n",
              "  <thead>\n",
              "    <tr style=\"text-align: right;\">\n",
              "      <th></th>\n",
              "      <th>date</th>\n",
              "      <th>load</th>\n",
              "    </tr>\n",
              "  </thead>\n",
              "  <tbody>\n",
              "    <tr>\n",
              "      <th>2</th>\n",
              "      <td>2005-01-01 00:00:00</td>\n",
              "      <td>134.95552</td>\n",
              "    </tr>\n",
              "    <tr>\n",
              "      <th>3</th>\n",
              "      <td>2005-02-01 00:00:00</td>\n",
              "      <td>140.24240</td>\n",
              "    </tr>\n",
              "    <tr>\n",
              "      <th>5995</th>\n",
              "      <td>05/30/2021 12:00:00 a.m.</td>\n",
              "      <td>209.56636</td>\n",
              "    </tr>\n",
              "    <tr>\n",
              "      <th>5996</th>\n",
              "      <td>05/31/2021 12:00:00 a.m.</td>\n",
              "      <td>276.47700</td>\n",
              "    </tr>\n",
              "  </tbody>\n",
              "</table>\n",
              "</div>"
            ],
            "text/plain": [
              "                          date       load\n",
              "2          2005-01-01 00:00:00  134.95552\n",
              "3          2005-02-01 00:00:00  140.24240\n",
              "5995  05/30/2021 12:00:00 a.m.  209.56636\n",
              "5996  05/31/2021 12:00:00 a.m.  276.47700"
            ]
          },
          "metadata": {
            "tags": []
          },
          "execution_count": 3
        }
      ]
    },
    {
      "cell_type": "code",
      "metadata": {
        "id": "pzK4RlA6tZkq"
      },
      "source": [
        "init_date = datetime(2005, 1, 1)\n",
        "datelist = pd.date_range(init_date, periods=len(data)).tolist()"
      ],
      "execution_count": 4,
      "outputs": []
    },
    {
      "cell_type": "code",
      "metadata": {
        "colab": {
          "base_uri": "https://localhost:8080/",
          "height": 173
        },
        "id": "_MPyX_P2tZkr",
        "outputId": "727fa53f-90f5-4eac-99ff-732c4dda0d13"
      },
      "source": [
        "df = pd.DataFrame(data=data.load.values, index=datelist, columns=['Energy_Load'])\n",
        "df.iloc[np.r_[0:2, -2:0]]"
      ],
      "execution_count": 5,
      "outputs": [
        {
          "output_type": "execute_result",
          "data": {
            "text/html": [
              "<div>\n",
              "<style scoped>\n",
              "    .dataframe tbody tr th:only-of-type {\n",
              "        vertical-align: middle;\n",
              "    }\n",
              "\n",
              "    .dataframe tbody tr th {\n",
              "        vertical-align: top;\n",
              "    }\n",
              "\n",
              "    .dataframe thead th {\n",
              "        text-align: right;\n",
              "    }\n",
              "</style>\n",
              "<table border=\"1\" class=\"dataframe\">\n",
              "  <thead>\n",
              "    <tr style=\"text-align: right;\">\n",
              "      <th></th>\n",
              "      <th>Energy_Load</th>\n",
              "    </tr>\n",
              "  </thead>\n",
              "  <tbody>\n",
              "    <tr>\n",
              "      <th>2005-01-01</th>\n",
              "      <td>134.95552</td>\n",
              "    </tr>\n",
              "    <tr>\n",
              "      <th>2005-01-02</th>\n",
              "      <td>140.24240</td>\n",
              "    </tr>\n",
              "    <tr>\n",
              "      <th>2021-05-30</th>\n",
              "      <td>209.56636</td>\n",
              "    </tr>\n",
              "    <tr>\n",
              "      <th>2021-05-31</th>\n",
              "      <td>276.47700</td>\n",
              "    </tr>\n",
              "  </tbody>\n",
              "</table>\n",
              "</div>"
            ],
            "text/plain": [
              "            Energy_Load\n",
              "2005-01-01    134.95552\n",
              "2005-01-02    140.24240\n",
              "2021-05-30    209.56636\n",
              "2021-05-31    276.47700"
            ]
          },
          "metadata": {
            "tags": []
          },
          "execution_count": 5
        }
      ]
    },
    {
      "cell_type": "code",
      "metadata": {
        "colab": {
          "base_uri": "https://localhost:8080/",
          "height": 80
        },
        "id": "OS_iQVU2tZkr",
        "outputId": "cea71a54-496b-4789-d521-3b8a8c809bf2"
      },
      "source": [
        "df[df.Energy_Load.isnull()]"
      ],
      "execution_count": 6,
      "outputs": [
        {
          "output_type": "execute_result",
          "data": {
            "text/html": [
              "<div>\n",
              "<style scoped>\n",
              "    .dataframe tbody tr th:only-of-type {\n",
              "        vertical-align: middle;\n",
              "    }\n",
              "\n",
              "    .dataframe tbody tr th {\n",
              "        vertical-align: top;\n",
              "    }\n",
              "\n",
              "    .dataframe thead th {\n",
              "        text-align: right;\n",
              "    }\n",
              "</style>\n",
              "<table border=\"1\" class=\"dataframe\">\n",
              "  <thead>\n",
              "    <tr style=\"text-align: right;\">\n",
              "      <th></th>\n",
              "      <th>Energy_Load</th>\n",
              "    </tr>\n",
              "  </thead>\n",
              "  <tbody>\n",
              "    <tr>\n",
              "      <th>2014-02-01</th>\n",
              "      <td>NaN</td>\n",
              "    </tr>\n",
              "  </tbody>\n",
              "</table>\n",
              "</div>"
            ],
            "text/plain": [
              "            Energy_Load\n",
              "2014-02-01          NaN"
            ]
          },
          "metadata": {
            "tags": []
          },
          "execution_count": 6
        }
      ]
    },
    {
      "cell_type": "code",
      "metadata": {
        "colab": {
          "base_uri": "https://localhost:8080/",
          "height": 317
        },
        "id": "PU9JZkfKtZks",
        "outputId": "f01305a2-c82b-4446-ab69-d423ec4d8e8c"
      },
      "source": [
        "df.loc['2014-02-01','Energy_Load'] = (325.547854 + 248.323577)/2.\n",
        "df.loc['2014-01-08':'2014-02-21'].plot()"
      ],
      "execution_count": 7,
      "outputs": [
        {
          "output_type": "execute_result",
          "data": {
            "text/plain": [
              "<matplotlib.axes._subplots.AxesSubplot at 0x7fd4fabb2610>"
            ]
          },
          "metadata": {
            "tags": []
          },
          "execution_count": 7
        },
        {
          "output_type": "display_data",
          "data": {
            "image/png": "[encoded data removed]",
            "text/plain": [
              "<Figure size 432x288 with 1 Axes>"
            ]
          },
          "metadata": {
            "tags": [],
            "needs_background": "light"
          }
        }
      ]
    },
    {
      "cell_type": "code",
      "metadata": {
        "colab": {
          "base_uri": "https://localhost:8080/"
        },
        "id": "MgVQyuAYtZks",
        "outputId": "98e7c564-e506-4565-b04d-a0dca7226ba7"
      },
      "source": [
        "df1 = df.resample('1M').sum()[['Energy_Load']]\n",
        "df1['date'] = df1.index\n",
        "df1['year'] = df1.date.dt.year\n",
        "df1['month'] = df1.date.dt.month\n",
        "df1.shape"
      ],
      "execution_count": 8,
      "outputs": [
        {
          "output_type": "execute_result",
          "data": {
            "text/plain": [
              "(197, 4)"
            ]
          },
          "metadata": {
            "tags": []
          },
          "execution_count": 8
        }
      ]
    },
    {
      "cell_type": "markdown",
      "metadata": {
        "id": "c6rEdtyNtZku"
      },
      "source": [
        "### Train-test split"
      ]
    },
    {
      "cell_type": "code",
      "metadata": {
        "colab": {
          "base_uri": "https://localhost:8080/",
          "height": 190
        },
        "id": "UFNj-XATtZku",
        "outputId": "b7db5fce-f840-41ed-f053-b068b828ffbb"
      },
      "source": [
        "train = df1.loc['2005-01-01':'2017-12-31']\n",
        "print(train.shape)\n",
        "train.iloc[np.r_[0:2, -2:0]]"
      ],
      "execution_count": 9,
      "outputs": [
        {
          "output_type": "stream",
          "text": [
            "(156, 4)\n"
          ],
          "name": "stdout"
        },
        {
          "output_type": "execute_result",
          "data": {
            "text/html": [
              "<div>\n",
              "<style scoped>\n",
              "    .dataframe tbody tr th:only-of-type {\n",
              "        vertical-align: middle;\n",
              "    }\n",
              "\n",
              "    .dataframe tbody tr th {\n",
              "        vertical-align: top;\n",
              "    }\n",
              "\n",
              "    .dataframe thead th {\n",
              "        text-align: right;\n",
              "    }\n",
              "</style>\n",
              "<table border=\"1\" class=\"dataframe\">\n",
              "  <thead>\n",
              "    <tr style=\"text-align: right;\">\n",
              "      <th></th>\n",
              "      <th>Energy_Load</th>\n",
              "      <th>date</th>\n",
              "      <th>year</th>\n",
              "      <th>month</th>\n",
              "    </tr>\n",
              "  </thead>\n",
              "  <tbody>\n",
              "    <tr>\n",
              "      <th>2005-01-31</th>\n",
              "      <td>5812.802010</td>\n",
              "      <td>2005-01-31</td>\n",
              "      <td>2005</td>\n",
              "      <td>1</td>\n",
              "    </tr>\n",
              "    <tr>\n",
              "      <th>2005-02-28</th>\n",
              "      <td>5400.981390</td>\n",
              "      <td>2005-02-28</td>\n",
              "      <td>2005</td>\n",
              "      <td>2</td>\n",
              "    </tr>\n",
              "    <tr>\n",
              "      <th>2017-11-30</th>\n",
              "      <td>7784.288831</td>\n",
              "      <td>2017-11-30</td>\n",
              "      <td>2017</td>\n",
              "      <td>11</td>\n",
              "    </tr>\n",
              "    <tr>\n",
              "      <th>2017-12-31</th>\n",
              "      <td>8463.833418</td>\n",
              "      <td>2017-12-31</td>\n",
              "      <td>2017</td>\n",
              "      <td>12</td>\n",
              "    </tr>\n",
              "  </tbody>\n",
              "</table>\n",
              "</div>"
            ],
            "text/plain": [
              "            Energy_Load       date  year  month\n",
              "2005-01-31  5812.802010 2005-01-31  2005      1\n",
              "2005-02-28  5400.981390 2005-02-28  2005      2\n",
              "2017-11-30  7784.288831 2017-11-30  2017     11\n",
              "2017-12-31  8463.833418 2017-12-31  2017     12"
            ]
          },
          "metadata": {
            "tags": []
          },
          "execution_count": 9
        }
      ]
    },
    {
      "cell_type": "code",
      "metadata": {
        "colab": {
          "base_uri": "https://localhost:8080/",
          "height": 314
        },
        "id": "qJ2ThwujtZkv",
        "outputId": "d55f74d0-4657-42d0-a27e-07324410af8c"
      },
      "source": [
        "val = df1.loc['2017-01-01':'2018-12-31']\n",
        "print(val.shape)\n",
        "val.iloc[np.r_[0:6, -2:0]]"
      ],
      "execution_count": 10,
      "outputs": [
        {
          "output_type": "stream",
          "text": [
            "(24, 4)\n"
          ],
          "name": "stdout"
        },
        {
          "output_type": "execute_result",
          "data": {
            "text/html": [
              "<div>\n",
              "<style scoped>\n",
              "    .dataframe tbody tr th:only-of-type {\n",
              "        vertical-align: middle;\n",
              "    }\n",
              "\n",
              "    .dataframe tbody tr th {\n",
              "        vertical-align: top;\n",
              "    }\n",
              "\n",
              "    .dataframe thead th {\n",
              "        text-align: right;\n",
              "    }\n",
              "</style>\n",
              "<table border=\"1\" class=\"dataframe\">\n",
              "  <thead>\n",
              "    <tr style=\"text-align: right;\">\n",
              "      <th></th>\n",
              "      <th>Energy_Load</th>\n",
              "      <th>date</th>\n",
              "      <th>year</th>\n",
              "      <th>month</th>\n",
              "    </tr>\n",
              "  </thead>\n",
              "  <tbody>\n",
              "    <tr>\n",
              "      <th>2017-01-31</th>\n",
              "      <td>8854.093328</td>\n",
              "      <td>2017-01-31</td>\n",
              "      <td>2017</td>\n",
              "      <td>1</td>\n",
              "    </tr>\n",
              "    <tr>\n",
              "      <th>2017-02-28</th>\n",
              "      <td>8419.947337</td>\n",
              "      <td>2017-02-28</td>\n",
              "      <td>2017</td>\n",
              "      <td>2</td>\n",
              "    </tr>\n",
              "    <tr>\n",
              "      <th>2017-03-31</th>\n",
              "      <td>8681.010821</td>\n",
              "      <td>2017-03-31</td>\n",
              "      <td>2017</td>\n",
              "      <td>3</td>\n",
              "    </tr>\n",
              "    <tr>\n",
              "      <th>2017-04-30</th>\n",
              "      <td>7511.422554</td>\n",
              "      <td>2017-04-30</td>\n",
              "      <td>2017</td>\n",
              "      <td>4</td>\n",
              "    </tr>\n",
              "    <tr>\n",
              "      <th>2017-05-31</th>\n",
              "      <td>7633.607143</td>\n",
              "      <td>2017-05-31</td>\n",
              "      <td>2017</td>\n",
              "      <td>5</td>\n",
              "    </tr>\n",
              "    <tr>\n",
              "      <th>2017-06-30</th>\n",
              "      <td>7443.495293</td>\n",
              "      <td>2017-06-30</td>\n",
              "      <td>2017</td>\n",
              "      <td>6</td>\n",
              "    </tr>\n",
              "    <tr>\n",
              "      <th>2018-11-30</th>\n",
              "      <td>8140.952037</td>\n",
              "      <td>2018-11-30</td>\n",
              "      <td>2018</td>\n",
              "      <td>11</td>\n",
              "    </tr>\n",
              "    <tr>\n",
              "      <th>2018-12-31</th>\n",
              "      <td>8580.341897</td>\n",
              "      <td>2018-12-31</td>\n",
              "      <td>2018</td>\n",
              "      <td>12</td>\n",
              "    </tr>\n",
              "  </tbody>\n",
              "</table>\n",
              "</div>"
            ],
            "text/plain": [
              "            Energy_Load       date  year  month\n",
              "2017-01-31  8854.093328 2017-01-31  2017      1\n",
              "2017-02-28  8419.947337 2017-02-28  2017      2\n",
              "2017-03-31  8681.010821 2017-03-31  2017      3\n",
              "2017-04-30  7511.422554 2017-04-30  2017      4\n",
              "2017-05-31  7633.607143 2017-05-31  2017      5\n",
              "2017-06-30  7443.495293 2017-06-30  2017      6\n",
              "2018-11-30  8140.952037 2018-11-30  2018     11\n",
              "2018-12-31  8580.341897 2018-12-31  2018     12"
            ]
          },
          "metadata": {
            "tags": []
          },
          "execution_count": 10
        }
      ]
    },
    {
      "cell_type": "code",
      "metadata": {
        "colab": {
          "base_uri": "https://localhost:8080/",
          "height": 221
        },
        "id": "vdNSEm8LtZkv",
        "outputId": "60aa72f3-9344-4645-ee67-8c1ade37f4dd"
      },
      "source": [
        "test = df1.loc['2018-01-01':'2019-12-31']\n",
        "print(test.shape)\n",
        "test.iloc[np.r_[0:3, -2:0]]"
      ],
      "execution_count": 11,
      "outputs": [
        {
          "output_type": "stream",
          "text": [
            "(24, 4)\n"
          ],
          "name": "stdout"
        },
        {
          "output_type": "execute_result",
          "data": {
            "text/html": [
              "<div>\n",
              "<style scoped>\n",
              "    .dataframe tbody tr th:only-of-type {\n",
              "        vertical-align: middle;\n",
              "    }\n",
              "\n",
              "    .dataframe tbody tr th {\n",
              "        vertical-align: top;\n",
              "    }\n",
              "\n",
              "    .dataframe thead th {\n",
              "        text-align: right;\n",
              "    }\n",
              "</style>\n",
              "<table border=\"1\" class=\"dataframe\">\n",
              "  <thead>\n",
              "    <tr style=\"text-align: right;\">\n",
              "      <th></th>\n",
              "      <th>Energy_Load</th>\n",
              "      <th>date</th>\n",
              "      <th>year</th>\n",
              "      <th>month</th>\n",
              "    </tr>\n",
              "  </thead>\n",
              "  <tbody>\n",
              "    <tr>\n",
              "      <th>2018-01-31</th>\n",
              "      <td>8700.763152</td>\n",
              "      <td>2018-01-31</td>\n",
              "      <td>2018</td>\n",
              "      <td>1</td>\n",
              "    </tr>\n",
              "    <tr>\n",
              "      <th>2018-02-28</th>\n",
              "      <td>8124.509895</td>\n",
              "      <td>2018-02-28</td>\n",
              "      <td>2018</td>\n",
              "      <td>2</td>\n",
              "    </tr>\n",
              "    <tr>\n",
              "      <th>2018-03-31</th>\n",
              "      <td>8847.021982</td>\n",
              "      <td>2018-03-31</td>\n",
              "      <td>2018</td>\n",
              "      <td>3</td>\n",
              "    </tr>\n",
              "    <tr>\n",
              "      <th>2019-11-30</th>\n",
              "      <td>8317.804701</td>\n",
              "      <td>2019-11-30</td>\n",
              "      <td>2019</td>\n",
              "      <td>11</td>\n",
              "    </tr>\n",
              "    <tr>\n",
              "      <th>2019-12-31</th>\n",
              "      <td>8650.069685</td>\n",
              "      <td>2019-12-31</td>\n",
              "      <td>2019</td>\n",
              "      <td>12</td>\n",
              "    </tr>\n",
              "  </tbody>\n",
              "</table>\n",
              "</div>"
            ],
            "text/plain": [
              "            Energy_Load       date  year  month\n",
              "2018-01-31  8700.763152 2018-01-31  2018      1\n",
              "2018-02-28  8124.509895 2018-02-28  2018      2\n",
              "2018-03-31  8847.021982 2018-03-31  2018      3\n",
              "2019-11-30  8317.804701 2019-11-30  2019     11\n",
              "2019-12-31  8650.069685 2019-12-31  2019     12"
            ]
          },
          "metadata": {
            "tags": []
          },
          "execution_count": 11
        }
      ]
    },
    {
      "cell_type": "markdown",
      "metadata": {
        "id": "N4kOPD2-tZkw"
      },
      "source": [
        "## Data Pre-Processing"
      ]
    },
    {
      "cell_type": "code",
      "metadata": {
        "id": "8mg5_yY4tZkw"
      },
      "source": [
        "def preprocess(df_, windows, scale=False):\n",
        "\n",
        "    _xt = []\n",
        "    for i in range(windows, len(df_)):\n",
        "        _y = df_.iloc[i]\n",
        "        _m = _y.month\n",
        "        _m = [float(i) for i in np.binary_repr(_m, width=4)]\n",
        "        _xt_w = list(df_.iloc[i-windows:i].Energy_Load.values)\n",
        "\n",
        "        _x = _m + _xt_w + [_y.Energy_Load]\n",
        "        _xt.append(_x)\n",
        "        \n",
        "    _X = pd.DataFrame(_xt, columns=cols)\n",
        "    \n",
        "    if scale:\n",
        "        _X.iloc[:,4:] = (_X.iloc[:,4:] - min_)/(max_ - min_)\n",
        "    \n",
        "    return _X"
      ],
      "execution_count": 12,
      "outputs": []
    },
    {
      "cell_type": "markdown",
      "metadata": {
        "id": "rGiwFihktZky"
      },
      "source": [
        "# Model"
      ]
    },
    {
      "cell_type": "code",
      "metadata": {
        "id": "wjlc7ze7tZkz"
      },
      "source": [
        "import tensorflow as tf\n",
        "from tensorflow.keras.models import Sequential\n",
        "from tensorflow.keras.layers import Dense\n",
        "from tensorflow.keras.optimizers import Adam\n",
        "from tensorflow.keras.utils import to_categorical"
      ],
      "execution_count": 13,
      "outputs": []
    },
    {
      "cell_type": "code",
      "metadata": {
        "id": "52lDLJJGtZkz"
      },
      "source": [
        "def create_model(hidden_neurons=[4], lr=0.05, n_input=1):\n",
        "    tf.random.set_seed(42)\n",
        "    model = Sequential()\n",
        "    model.add(Dense(hidden_neurons[0], input_dim=n_input, activation='relu'))\n",
        "    for i in range(1,len(hidden_neurons)):\n",
        "        model.add(Dense(hidden_neurons[i], input_dim=hidden_neurons[i-1], activation='relu'))\n",
        "    model.add(Dense(1))\n",
        "    opt = Adam(learning_rate=lr)\n",
        "    model.compile(loss='mean_absolute_error', optimizer=opt, metrics=['mean_squared_error'])\n",
        "    return model"
      ],
      "execution_count": 14,
      "outputs": []
    },
    {
      "cell_type": "code",
      "metadata": {
        "id": "q3QmE_aFtZk0"
      },
      "source": [
        "def multistep(x_, y_, model_, encoding_month=\"binary\"):\n",
        "\n",
        "    yp = []\n",
        "    \n",
        "    if encoding_month==\"binary\":\n",
        "        L=4\n",
        "    elif encoding_month==\"Nof1\":\n",
        "        L=12\n",
        "\n",
        "    input_ = np.copy(x_)\n",
        "    input_ = np.expand_dims(input_[0], axis=0) # just the first row // for val -> 12 steps // for test -> 5 steps\n",
        "\n",
        "    for i in range(len(x_)):\n",
        "        yt_ = model_.predict(input_)[0][0]\n",
        "        yp.append(yt_)\n",
        "        \n",
        "        if i < len(x_)-1:\n",
        "            # update input\n",
        "            input_[0,:L] = x_[i+1,:L] # copy binary part\n",
        "            input_[0,L:-1] = input_[0,(L+1):]\n",
        "            input_[0,-1] = yt_\n",
        "\n",
        "    return np.array(yp)"
      ],
      "execution_count": 15,
      "outputs": []
    },
    {
      "cell_type": "code",
      "metadata": {
        "id": "kBfZibWUtZkz"
      },
      "source": [
        "def calculate_metrics(y_true, y_predict, rescaling=True):\n",
        "    \n",
        "    if rescaling:\n",
        "        y_true = y_true*(max_- min_) + min_\n",
        "        y_predict = y_predict*(max_ - min_) + min_\n",
        "\n",
        "    mae_error = mean_absolute_error(y_true, y_predict)\n",
        "    mse_error = mean_squared_error(y_true, y_predict)\n",
        "    rmse_error = np.sqrt(mse_error)\n",
        "    mape = np.mean(np.abs((y_true.ravel() - y_predict.ravel()) / y_true.ravel())) * 100\n",
        "\n",
        "\n",
        "    print(f'Erro MAE = {round(mae_error,3)}\\nErro RMSE = {round(rmse_error,3)}')\n",
        "    print(\"MAPE: \", np.round(mape,3), \"%\")"
      ],
      "execution_count": 16,
      "outputs": []
    },
    {
      "cell_type": "markdown",
      "metadata": {
        "id": "5rS144sQ3QfY"
      },
      "source": [
        "# Optimization"
      ]
    },
    {
      "cell_type": "code",
      "metadata": {
        "colab": {
          "base_uri": "https://localhost:8080/"
        },
        "id": "x5WTl20rtxqD",
        "outputId": "e21b9e2b-0d35-4998-b92c-c3cc160db870"
      },
      "source": [
        "!pip install deap\n",
        "!pip install bitstring"
      ],
      "execution_count": 17,
      "outputs": [
        {
          "output_type": "stream",
          "text": [
            "Requirement already satisfied: deap in /usr/local/lib/python3.7/dist-packages (1.3.1)\n",
            "Requirement already satisfied: numpy in /usr/local/lib/python3.7/dist-packages (from deap) (1.19.5)\n",
            "Requirement already satisfied: bitstring in /usr/local/lib/python3.7/dist-packages (3.1.9)\n"
          ],
          "name": "stdout"
        }
      ]
    },
    {
      "cell_type": "code",
      "metadata": {
        "id": "ToxKBgk2tzIy"
      },
      "source": [
        "from deap import base, creator, tools, algorithms\n",
        "import random"
      ],
      "execution_count": 18,
      "outputs": []
    },
    {
      "cell_type": "code",
      "metadata": {
        "id": "-ayzRzdlyTjF"
      },
      "source": [
        "def aptidao(y_true, y_predict):\n",
        "    \n",
        "    y_true = y_true*(max_- min_) + min_\n",
        "    y_predict = y_predict*(max_ - min_) + min_\n",
        "    mape = np.mean(np.abs((y_true.ravel() - y_predict.ravel()) / y_true.ravel())) * 100\n",
        "    print(\"MAPE: \", mape)\n",
        "\n",
        "    return mape"
      ],
      "execution_count": 19,
      "outputs": []
    },
    {
      "cell_type": "code",
      "metadata": {
        "id": "uIai7H5Ht2RI"
      },
      "source": [
        "def train_evaluate(ga_individual_solution): \n",
        "\n",
        "    global cols\n",
        "    global max_, min_\n",
        "\n",
        "    num_units, epochs, wdw = ga_individual_solution\n",
        "\n",
        "    print('\\nNum of Units: {} - epochs: {} - windows: {}'.format(num_units, epochs, wdw))\n",
        "\n",
        "    # data pre-processing\n",
        "    lt_w = ['x[t-{}]'.format(str(i)) for i in reversed(range(1, wdw+1))]\n",
        "    cols = ['m[0]', 'm[1]', 'm[2]', 'm[3]'] + lt_w + ['x[t]']\n",
        "\n",
        "    X = preprocess(train, windows=wdw)\n",
        "    max_ = np.max(X.iloc[:,4:].values)\n",
        "    min_ = np.min(X.iloc[:,4:].values)\n",
        "\n",
        "    X.iloc[:,4:] = (X.iloc[:,4:] - min_)/(max_ - min_)\n",
        "\n",
        "    Xval = preprocess(val, windows=wdw, scale=True)\n",
        "\n",
        "    x_train = X.values[:,:-1]\n",
        "    y_train = X.values[:,-1]\n",
        "\n",
        "    x_val = Xval.values[:,:-1]\n",
        "    y_val = Xval.values[:,-1] # y[t+1]\n",
        "    \n",
        "    # Train neural network and predict on validation set\n",
        "    model = create_model(hidden_neurons = [num_units], n_input = x_train.shape[1], lr = 0.001)\n",
        "    model.fit(x_train, y_train, epochs=epochs, verbose=0)\n",
        "\n",
        "    y_pred_val_ms = multistep(x_val, y_val, model)\n",
        "    \n",
        "    # Calculate the MAPE score as fitness score for GA\n",
        "    return aptidao(y_val, y_pred_val_ms),"
      ],
      "execution_count": 20,
      "outputs": []
    },
    {
      "cell_type": "code",
      "metadata": {
        "colab": {
          "base_uri": "https://localhost:8080/"
        },
        "id": "HrmJ8pJPt2Vv",
        "outputId": "7052edcf-0e3c-447a-a8da-061c02e729e1"
      },
      "source": [
        "population_size = 50\n",
        "num_generations = 12\n",
        "\n",
        "creator.create(\"FitnessMax\", base.Fitness, weights=(-1.0,))\n",
        "creator.create(\"Individual\", list,  fitness=creator.FitnessMax) \n",
        "\n",
        "toolbox = base.Toolbox()\n",
        "\n",
        "toolbox.register(\"attr_int1\", random.randint, 5, 150) # units\n",
        "toolbox.register(\"attr_int2\", random.randint, 5, 200) # epochs\n",
        "toolbox.register(\"attr_int3\", random.randint, 1, 12)  # windows\n",
        "\n",
        "# Individuals and population\n",
        "toolbox.register(\"individual\", tools.initCycle, creator.Individual, (toolbox.attr_int1, toolbox.attr_int2, toolbox.attr_int3), 1) \n",
        "toolbox.register(\"population\", tools.initRepeat, list, toolbox.individual)\n",
        "\n",
        "# Operations\n",
        "toolbox.register(\"evaluate\", train_evaluate)\n",
        "toolbox.register(\"mate\", tools.cxOnePoint)\n",
        "toolbox.register(\"mutate\", tools.mutUniformInt, low=[5,5,1], up=[150,200,12], indpb=0.05)\n",
        "toolbox.register(\"select\", tools.selTournament, tournsize=3)\n",
        "\n",
        "\n",
        "population = toolbox.population(n=population_size)\n",
        "r = algorithms.eaSimple(population, toolbox, cxpb=0.4, mutpb = 0.1, ngen=num_generations, verbose = False)"
      ],
      "execution_count": 23,
      "outputs": [
        {
          "output_type": "stream",
          "text": [
            "/usr/local/lib/python3.7/dist-packages/deap/creator.py:141: RuntimeWarning: A class named 'FitnessMax' has already been created and it will be overwritten. Consider deleting previous creation of that class or rename it.\n",
            "  RuntimeWarning)\n",
            "/usr/local/lib/python3.7/dist-packages/deap/creator.py:141: RuntimeWarning: A class named 'Individual' has already been created and it will be overwritten. Consider deleting previous creation of that class or rename it.\n",
            "  RuntimeWarning)\n"
          ],
          "name": "stderr"
        },
        {
          "output_type": "stream",
          "text": [
            "\n",
            "Num of Units: 87 - epochs: 66 - windows: 4\n",
            "MAPE:  3.092439184182879\n",
            "\n",
            "Num of Units: 107 - epochs: 62 - windows: 3\n",
            "MAPE:  2.3678214999694336\n",
            "\n",
            "Num of Units: 82 - epochs: 194 - windows: 5\n",
            "MAPE:  3.495604654358026\n",
            "\n",
            "Num of Units: 39 - epochs: 101 - windows: 11\n",
            "MAPE:  1.837125304958525\n",
            "\n",
            "Num of Units: 74 - epochs: 40 - windows: 7\n",
            "MAPE:  2.3899386011939088\n",
            "\n",
            "Num of Units: 15 - epochs: 17 - windows: 9\n",
            "MAPE:  11.773653571152249\n",
            "\n",
            "Num of Units: 142 - epochs: 189 - windows: 8\n",
            "MAPE:  2.4220874551370972\n",
            "\n",
            "Num of Units: 43 - epochs: 127 - windows: 6\n",
            "MAPE:  2.055401745129442\n",
            "\n",
            "Num of Units: 120 - epochs: 96 - windows: 3\n",
            "MAPE:  1.836546564786335\n",
            "\n",
            "Num of Units: 85 - epochs: 168 - windows: 11\n",
            "MAPE:  2.160964667992799\n",
            "\n",
            "Num of Units: 69 - epochs: 149 - windows: 9\n",
            "MAPE:  2.2725923604643468\n",
            "\n",
            "Num of Units: 150 - epochs: 142 - windows: 9\n",
            "MAPE:  2.0401430296654697\n",
            "\n",
            "Num of Units: 10 - epochs: 199 - windows: 11\n",
            "MAPE:  3.1235519734218857\n",
            "\n",
            "Num of Units: 102 - epochs: 104 - windows: 4\n",
            "MAPE:  1.6807746271565702\n",
            "\n",
            "Num of Units: 5 - epochs: 61 - windows: 1\n",
            "MAPE:  12.603794673442318\n",
            "\n",
            "Num of Units: 118 - epochs: 100 - windows: 11\n",
            "MAPE:  2.286237268691126\n",
            "\n",
            "Num of Units: 19 - epochs: 19 - windows: 4\n",
            "MAPE:  5.796137725526567\n",
            "\n",
            "Num of Units: 128 - epochs: 96 - windows: 7\n",
            "MAPE:  2.41693183656142\n",
            "\n",
            "Num of Units: 46 - epochs: 22 - windows: 5\n",
            "MAPE:  3.087365989881167\n",
            "\n",
            "Num of Units: 55 - epochs: 127 - windows: 11\n",
            "MAPE:  2.821074295587685\n",
            "\n",
            "Num of Units: 82 - epochs: 7 - windows: 1\n",
            "MAPE:  14.385955344504204\n",
            "\n",
            "Num of Units: 107 - epochs: 21 - windows: 7\n",
            "MAPE:  3.00690594992042\n",
            "\n",
            "Num of Units: 142 - epochs: 102 - windows: 6\n",
            "MAPE:  2.3771787095471977\n",
            "\n",
            "Num of Units: 131 - epochs: 70 - windows: 11\n",
            "MAPE:  2.12767647791058\n",
            "\n",
            "Num of Units: 22 - epochs: 185 - windows: 2\n",
            "MAPE:  2.741267375172427\n",
            "\n",
            "Num of Units: 41 - epochs: 188 - windows: 1\n",
            "MAPE:  3.6556910384162955\n",
            "\n",
            "Num of Units: 123 - epochs: 175 - windows: 3\n",
            "MAPE:  2.4623691037416835\n",
            "\n",
            "Num of Units: 137 - epochs: 95 - windows: 11\n",
            "MAPE:  2.0373500344745206\n",
            "\n",
            "Num of Units: 7 - epochs: 157 - windows: 12\n",
            "MAPE:  1.9123594377624964\n",
            "\n",
            "Num of Units: 6 - epochs: 134 - windows: 1\n",
            "MAPE:  10.835936392436263\n",
            "\n",
            "Num of Units: 13 - epochs: 168 - windows: 4\n",
            "MAPE:  3.0032324313393524\n",
            "\n",
            "Num of Units: 124 - epochs: 108 - windows: 5\n",
            "MAPE:  4.43456572306098\n",
            "\n",
            "Num of Units: 98 - epochs: 93 - windows: 6\n",
            "MAPE:  3.0530615224941373\n",
            "\n",
            "Num of Units: 6 - epochs: 178 - windows: 7\n",
            "MAPE:  4.124453571879924\n",
            "\n",
            "Num of Units: 120 - epochs: 37 - windows: 3\n",
            "MAPE:  1.804666424767529\n",
            "\n",
            "Num of Units: 66 - epochs: 22 - windows: 4\n",
            "MAPE:  3.0898375137682272\n",
            "\n",
            "Num of Units: 42 - epochs: 11 - windows: 4\n",
            "MAPE:  12.259778340136558\n",
            "\n",
            "Num of Units: 54 - epochs: 128 - windows: 11\n",
            "MAPE:  1.866666292969197\n",
            "\n",
            "Num of Units: 12 - epochs: 158 - windows: 8\n",
            "MAPE:  2.088662501381671\n",
            "\n",
            "Num of Units: 43 - epochs: 187 - windows: 10\n",
            "MAPE:  1.968581184348357\n",
            "\n",
            "Num of Units: 102 - epochs: 121 - windows: 12\n",
            "MAPE:  3.935368222760048\n",
            "\n",
            "Num of Units: 114 - epochs: 64 - windows: 2\n",
            "MAPE:  2.471888664055021\n",
            "\n",
            "Num of Units: 64 - epochs: 117 - windows: 6\n",
            "MAPE:  2.3528142731701456\n",
            "\n",
            "Num of Units: 104 - epochs: 74 - windows: 11\n",
            "MAPE:  1.790828895724586\n",
            "\n",
            "Num of Units: 110 - epochs: 36 - windows: 6\n",
            "MAPE:  2.1655740344295586\n",
            "\n",
            "Num of Units: 44 - epochs: 14 - windows: 9\n",
            "MAPE:  4.28314296989841\n",
            "\n",
            "Num of Units: 8 - epochs: 118 - windows: 2\n",
            "MAPE:  4.671447227400853\n",
            "\n",
            "Num of Units: 66 - epochs: 168 - windows: 8\n",
            "MAPE:  2.724311393175656\n",
            "\n",
            "Num of Units: 131 - epochs: 112 - windows: 7\n",
            "MAPE:  1.9027787052126095\n",
            "\n",
            "Num of Units: 80 - epochs: 64 - windows: 3\n",
            "MAPE:  2.4233645678137723\n",
            "\n",
            "Num of Units: 69 - epochs: 149 - windows: 9\n",
            "MAPE:  2.2725923604643468\n",
            "\n",
            "Num of Units: 66 - epochs: 22 - windows: 4\n",
            "MAPE:  3.0898375137682272\n",
            "\n",
            "Num of Units: 85 - epochs: 168 - windows: 11\n",
            "MAPE:  2.160964667992799\n",
            "\n",
            "Num of Units: 123 - epochs: 175 - windows: 6\n",
            "MAPE:  1.77176847347758\n",
            "\n",
            "Num of Units: 142 - epochs: 102 - windows: 3\n",
            "MAPE:  3.9065537165330406\n",
            "\n",
            "Num of Units: 120 - epochs: 96 - windows: 3\n",
            "MAPE:  1.836546564786335\n",
            "\n",
            "Num of Units: 120 - epochs: 96 - windows: 3\n",
            "MAPE:  1.836546564786335\n",
            "\n",
            "Num of Units: 54 - epochs: 187 - windows: 10\n",
            "MAPE:  2.0853147623738466\n",
            "\n",
            "Num of Units: 43 - epochs: 128 - windows: 11\n",
            "MAPE:  2.6643851360002744\n",
            "\n",
            "Num of Units: 110 - epochs: 36 - windows: 11\n",
            "MAPE:  2.6475001499136503\n",
            "\n",
            "Num of Units: 131 - epochs: 70 - windows: 6\n",
            "MAPE:  2.174912751632263\n",
            "\n",
            "Num of Units: 150 - epochs: 149 - windows: 9\n",
            "MAPE:  2.086278950001969\n",
            "\n",
            "Num of Units: 69 - epochs: 142 - windows: 9\n",
            "MAPE:  2.1099021263440187\n",
            "\n",
            "Num of Units: 120 - epochs: 128 - windows: 11\n",
            "MAPE:  2.6974590128050555\n",
            "\n",
            "Num of Units: 54 - epochs: 37 - windows: 3\n",
            "MAPE:  3.1677986982537805\n",
            "\n",
            "Num of Units: 85 - epochs: 168 - windows: 11\n",
            "MAPE:  2.160964667992799\n",
            "\n",
            "Num of Units: 118 - epochs: 100 - windows: 7\n",
            "MAPE:  2.3970055441088642\n",
            "\n",
            "Num of Units: 131 - epochs: 112 - windows: 11\n",
            "MAPE:  2.346114988285401\n",
            "\n",
            "Num of Units: 80 - epochs: 64 - windows: 7\n",
            "MAPE:  2.2699714729535914\n",
            "\n",
            "Num of Units: 74 - epochs: 40 - windows: 3\n",
            "MAPE:  2.4256640966913277\n",
            "\n",
            "Num of Units: 43 - epochs: 128 - windows: 11\n",
            "MAPE:  2.6643851360002744\n",
            "\n",
            "Num of Units: 54 - epochs: 127 - windows: 6\n",
            "MAPE:  2.2043590919888403\n",
            "\n",
            "Num of Units: 120 - epochs: 37 - windows: 6\n",
            "MAPE:  1.6904454582489168\n",
            "\n",
            "Num of Units: 123 - epochs: 175 - windows: 3\n",
            "MAPE:  2.4623691037416835\n",
            "\n",
            "Num of Units: 118 - epochs: 128 - windows: 11\n",
            "MAPE:  2.2570202212290313\n",
            "\n",
            "Num of Units: 54 - epochs: 100 - windows: 7\n",
            "MAPE:  2.0575841008327296\n",
            "\n",
            "Num of Units: 74 - epochs: 40 - windows: 6\n",
            "MAPE:  1.7578342233462787\n",
            "\n",
            "Num of Units: 123 - epochs: 175 - windows: 7\n",
            "MAPE:  3.4084429910867824\n",
            "\n",
            "Num of Units: 104 - epochs: 74 - windows: 6\n",
            "MAPE:  1.6885573436453714\n",
            "\n",
            "Num of Units: 123 - epochs: 175 - windows: 11\n",
            "MAPE:  5.292665679243742\n",
            "\n",
            "Num of Units: 7 - epochs: 157 - windows: 12\n",
            "MAPE:  1.9123594377624964\n",
            "\n",
            "Num of Units: 120 - epochs: 96 - windows: 3\n",
            "MAPE:  1.836546564786335\n",
            "\n",
            "Num of Units: 120 - epochs: 95 - windows: 11\n",
            "MAPE:  2.3380780369951837\n",
            "\n",
            "Num of Units: 137 - epochs: 37 - windows: 3\n",
            "MAPE:  3.2926910294441933\n",
            "\n",
            "Num of Units: 39 - epochs: 101 - windows: 3\n",
            "MAPE:  2.355111437774282\n",
            "\n",
            "Num of Units: 120 - epochs: 96 - windows: 11\n",
            "MAPE:  2.4213823130154815\n",
            "\n",
            "Num of Units: 120 - epochs: 96 - windows: 4\n",
            "MAPE:  1.933064965573643\n",
            "\n",
            "Num of Units: 102 - epochs: 104 - windows: 3\n",
            "MAPE:  2.5710940914018185\n",
            "\n",
            "Num of Units: 43 - epochs: 96 - windows: 7\n",
            "MAPE:  2.8379052832907794\n",
            "\n",
            "Num of Units: 128 - epochs: 128 - windows: 11\n",
            "MAPE:  1.7009988728888517\n",
            "\n",
            "Num of Units: 39 - epochs: 101 - windows: 11\n",
            "MAPE:  1.837125304958525\n",
            "\n",
            "Num of Units: 137 - epochs: 95 - windows: 11\n",
            "MAPE:  2.0373500344745206\n",
            "\n",
            "Num of Units: 104 - epochs: 149 - windows: 9\n",
            "MAPE:  2.4475769199897095\n",
            "\n",
            "Num of Units: 69 - epochs: 74 - windows: 11\n",
            "MAPE:  2.292037380834555\n",
            "\n",
            "Num of Units: 39 - epochs: 101 - windows: 9\n",
            "MAPE:  2.106611184571867\n",
            "\n",
            "Num of Units: 150 - epochs: 149 - windows: 11\n",
            "MAPE:  1.9373118281042632\n",
            "\n",
            "Num of Units: 36 - epochs: 127 - windows: 6\n",
            "MAPE:  1.8436915425597684\n",
            "\n",
            "Num of Units: 102 - epochs: 104 - windows: 4\n",
            "MAPE:  1.6807746271565702\n",
            "\n",
            "Num of Units: 110 - epochs: 36 - windows: 11\n",
            "MAPE:  2.6475001499136503\n",
            "\n",
            "Num of Units: 104 - epochs: 74 - windows: 6\n",
            "MAPE:  1.6885573436453714\n",
            "\n",
            "Num of Units: 120 - epochs: 96 - windows: 3\n",
            "MAPE:  1.836546564786335\n",
            "\n",
            "Num of Units: 120 - epochs: 37 - windows: 6\n",
            "MAPE:  1.6904454582489168\n",
            "\n",
            "Num of Units: 74 - epochs: 40 - windows: 6\n",
            "MAPE:  1.7578342233462787\n",
            "\n",
            "Num of Units: 74 - epochs: 40 - windows: 6\n",
            "MAPE:  1.7578342233462787\n",
            "\n",
            "Num of Units: 120 - epochs: 96 - windows: 11\n",
            "MAPE:  2.4213823130154815\n",
            "\n",
            "Num of Units: 69 - epochs: 74 - windows: 3\n",
            "MAPE:  4.196335881213043\n",
            "\n",
            "Num of Units: 128 - epochs: 128 - windows: 6\n",
            "MAPE:  4.7833891678300136\n",
            "\n",
            "Num of Units: 120 - epochs: 37 - windows: 11\n",
            "MAPE:  3.458560581082964\n",
            "\n",
            "Num of Units: 120 - epochs: 96 - windows: 6\n",
            "MAPE:  2.272862094112227\n",
            "\n",
            "Num of Units: 104 - epochs: 112 - windows: 3\n",
            "MAPE:  2.158267476651266\n",
            "\n",
            "Num of Units: 128 - epochs: 128 - windows: 3\n",
            "MAPE:  2.5797778581186037\n",
            "\n",
            "Num of Units: 120 - epochs: 37 - windows: 11\n",
            "MAPE:  3.458560581082964\n",
            "\n",
            "Num of Units: 74 - epochs: 40 - windows: 6\n",
            "MAPE:  1.7578342233462787\n",
            "\n",
            "Num of Units: 120 - epochs: 96 - windows: 3\n",
            "MAPE:  1.836546564786335\n",
            "\n",
            "Num of Units: 120 - epochs: 96 - windows: 3\n",
            "MAPE:  1.836546564786335\n",
            "\n",
            "Num of Units: 102 - epochs: 104 - windows: 4\n",
            "MAPE:  1.6807746271565702\n",
            "\n",
            "Num of Units: 7 - epochs: 157 - windows: 3\n",
            "MAPE:  6.795332362235426\n",
            "\n",
            "Num of Units: 120 - epochs: 37 - windows: 12\n",
            "MAPE:  2.221979373716369\n",
            "\n",
            "Num of Units: 120 - epochs: 96 - windows: 11\n",
            "MAPE:  2.4213823130154815\n",
            "\n",
            "Num of Units: 39 - epochs: 101 - windows: 3\n",
            "MAPE:  2.355111437774282\n",
            "\n",
            "Num of Units: 54 - epochs: 128 - windows: 12\n",
            "MAPE:  1.797314073359266\n",
            "\n",
            "Num of Units: 7 - epochs: 157 - windows: 11\n",
            "MAPE:  2.3616400148302565\n",
            "\n",
            "Num of Units: 150 - epochs: 149 - windows: 6\n",
            "MAPE:  2.585401259949101\n",
            "\n",
            "Num of Units: 120 - epochs: 37 - windows: 9\n",
            "MAPE:  3.4501122354992635\n",
            "\n",
            "Num of Units: 120 - epochs: 96 - windows: 3\n",
            "MAPE:  1.836546564786335\n",
            "\n",
            "Num of Units: 74 - epochs: 187 - windows: 10\n",
            "MAPE:  1.6944335151209637\n",
            "\n",
            "Num of Units: 54 - epochs: 40 - windows: 6\n",
            "MAPE:  3.599442843656912\n",
            "\n",
            "Num of Units: 102 - epochs: 175 - windows: 6\n",
            "MAPE:  1.717045350382793\n",
            "\n",
            "Num of Units: 123 - epochs: 104 - windows: 4\n",
            "MAPE:  1.688505857907139\n",
            "\n",
            "Num of Units: 36 - epochs: 127 - windows: 6\n",
            "MAPE:  1.8436915425597684\n",
            "\n",
            "Num of Units: 74 - epochs: 40 - windows: 6\n",
            "MAPE:  1.7578342233462787\n",
            "\n",
            "Num of Units: 120 - epochs: 37 - windows: 3\n",
            "MAPE:  1.804666424767529\n",
            "\n",
            "Num of Units: 54 - epochs: 37 - windows: 3\n",
            "MAPE:  3.1677986982537805\n",
            "\n",
            "Num of Units: 120 - epochs: 128 - windows: 12\n",
            "MAPE:  2.5347815279925463\n",
            "\n",
            "Num of Units: 120 - epochs: 37 - windows: 6\n",
            "MAPE:  1.6904454582489168\n",
            "\n",
            "Num of Units: 120 - epochs: 96 - windows: 3\n",
            "MAPE:  1.836546564786335\n",
            "\n",
            "Num of Units: 120 - epochs: 96 - windows: 6\n",
            "MAPE:  2.272862094112227\n",
            "\n",
            "Num of Units: 120 - epochs: 37 - windows: 3\n",
            "MAPE:  1.804666424767529\n",
            "\n",
            "Num of Units: 104 - epochs: 79 - windows: 6\n",
            "MAPE:  2.310761076019668\n",
            "\n",
            "Num of Units: 104 - epochs: 74 - windows: 3\n",
            "MAPE:  2.89683739673695\n",
            "\n",
            "Num of Units: 128 - epochs: 128 - windows: 6\n",
            "MAPE:  4.7833891678300136\n",
            "\n",
            "Num of Units: 104 - epochs: 74 - windows: 6\n",
            "MAPE:  1.6885573436453714\n",
            "\n",
            "Num of Units: 120 - epochs: 128 - windows: 11\n",
            "MAPE:  2.6974590128050555\n",
            "\n",
            "Num of Units: 54 - epochs: 37 - windows: 6\n",
            "MAPE:  2.3568695419956045\n",
            "\n",
            "Num of Units: 74 - epochs: 40 - windows: 10\n",
            "MAPE:  1.6984368739913869\n",
            "\n",
            "Num of Units: 74 - epochs: 187 - windows: 6\n",
            "MAPE:  2.0050920027820043\n",
            "\n",
            "Num of Units: 102 - epochs: 104 - windows: 4\n",
            "MAPE:  1.6807746271565702\n",
            "\n",
            "Num of Units: 102 - epochs: 104 - windows: 4\n",
            "MAPE:  1.6807746271565702\n",
            "\n",
            "Num of Units: 102 - epochs: 104 - windows: 4\n",
            "MAPE:  1.6807746271565702\n",
            "\n",
            "Num of Units: 102 - epochs: 104 - windows: 4\n",
            "MAPE:  1.6807746271565702\n",
            "\n",
            "Num of Units: 102 - epochs: 104 - windows: 6\n",
            "MAPE:  2.8736521124170165\n",
            "\n",
            "Num of Units: 120 - epochs: 37 - windows: 4\n",
            "MAPE:  1.6175327151979662\n",
            "\n",
            "Num of Units: 74 - epochs: 40 - windows: 6\n",
            "MAPE:  1.7578342233462787\n",
            "\n",
            "Num of Units: 123 - epochs: 175 - windows: 6\n",
            "MAPE:  1.77176847347758\n",
            "\n",
            "Num of Units: 120 - epochs: 37 - windows: 6\n",
            "MAPE:  1.6904454582489168\n",
            "\n",
            "Num of Units: 74 - epochs: 40 - windows: 6\n",
            "MAPE:  1.7578342233462787\n",
            "\n",
            "Num of Units: 74 - epochs: 37 - windows: 6\n",
            "MAPE:  1.6890440826240674\n",
            "\n",
            "Num of Units: 120 - epochs: 40 - windows: 6\n",
            "MAPE:  1.915503958844115\n",
            "\n",
            "Num of Units: 74 - epochs: 40 - windows: 6\n",
            "MAPE:  1.7578342233462787\n",
            "\n",
            "Num of Units: 104 - epochs: 104 - windows: 4\n",
            "MAPE:  1.7649645063004795\n",
            "\n",
            "Num of Units: 102 - epochs: 74 - windows: 6\n",
            "MAPE:  2.5246701689285076\n",
            "\n",
            "Num of Units: 102 - epochs: 104 - windows: 4\n",
            "MAPE:  1.6807746271565702\n",
            "\n",
            "Num of Units: 102 - epochs: 175 - windows: 6\n",
            "MAPE:  1.717045350382793\n",
            "\n",
            "Num of Units: 104 - epochs: 74 - windows: 4\n",
            "MAPE:  3.3214246855466145\n",
            "\n",
            "Num of Units: 102 - epochs: 104 - windows: 6\n",
            "MAPE:  2.8736521124170165\n",
            "\n",
            "Num of Units: 74 - epochs: 104 - windows: 4\n",
            "MAPE:  2.4366855539167998\n",
            "\n",
            "Num of Units: 102 - epochs: 50 - windows: 6\n",
            "MAPE:  2.3931003457109408\n",
            "\n",
            "Num of Units: 104 - epochs: 74 - windows: 4\n",
            "MAPE:  3.3214246855466145\n",
            "\n",
            "Num of Units: 123 - epochs: 104 - windows: 6\n",
            "MAPE:  2.0265545921201342\n",
            "\n",
            "Num of Units: 102 - epochs: 104 - windows: 4\n",
            "MAPE:  1.6807746271565702\n",
            "\n",
            "Num of Units: 102 - epochs: 104 - windows: 4\n",
            "MAPE:  1.6807746271565702\n",
            "\n",
            "Num of Units: 120 - epochs: 37 - windows: 6\n",
            "MAPE:  1.6904454582489168\n",
            "\n",
            "Num of Units: 120 - epochs: 96 - windows: 3\n",
            "MAPE:  1.836546564786335\n",
            "\n",
            "Num of Units: 102 - epochs: 104 - windows: 4\n",
            "MAPE:  1.6807746271565702\n",
            "\n",
            "Num of Units: 102 - epochs: 104 - windows: 4\n",
            "MAPE:  1.6807746271565702\n",
            "\n",
            "Num of Units: 102 - epochs: 104 - windows: 4\n",
            "MAPE:  1.6807746271565702\n",
            "\n",
            "Num of Units: 102 - epochs: 104 - windows: 4\n",
            "MAPE:  1.6807746271565702\n",
            "\n",
            "Num of Units: 102 - epochs: 104 - windows: 4\n",
            "MAPE:  1.6807746271565702\n",
            "\n",
            "Num of Units: 120 - epochs: 37 - windows: 6\n",
            "MAPE:  1.6904454582489168\n",
            "\n",
            "Num of Units: 140 - epochs: 37 - windows: 6\n",
            "MAPE:  1.9383640231652537\n",
            "\n",
            "Num of Units: 104 - epochs: 74 - windows: 4\n",
            "MAPE:  3.3214246855466145\n",
            "\n",
            "Num of Units: 102 - epochs: 104 - windows: 6\n",
            "MAPE:  2.8736521124170165\n",
            "\n",
            "Num of Units: 102 - epochs: 104 - windows: 4\n",
            "MAPE:  1.6807746271565702\n",
            "\n",
            "Num of Units: 102 - epochs: 104 - windows: 4\n",
            "MAPE:  1.6807746271565702\n",
            "\n",
            "Num of Units: 102 - epochs: 104 - windows: 4\n",
            "MAPE:  1.6807746271565702\n",
            "\n",
            "Num of Units: 102 - epochs: 104 - windows: 6\n",
            "MAPE:  2.8736521124170165\n",
            "\n",
            "Num of Units: 120 - epochs: 37 - windows: 4\n",
            "MAPE:  1.6175327151979662\n",
            "\n",
            "Num of Units: 102 - epochs: 104 - windows: 6\n",
            "MAPE:  2.8736521124170165\n",
            "\n",
            "Num of Units: 102 - epochs: 104 - windows: 4\n",
            "MAPE:  1.6807746271565702\n",
            "\n",
            "Num of Units: 102 - epochs: 104 - windows: 4\n",
            "MAPE:  1.6807746271565702\n",
            "\n",
            "Num of Units: 120 - epochs: 37 - windows: 4\n",
            "MAPE:  1.6175327151979662\n",
            "\n",
            "Num of Units: 102 - epochs: 104 - windows: 4\n",
            "MAPE:  1.6807746271565702\n",
            "\n",
            "Num of Units: 102 - epochs: 104 - windows: 4\n",
            "MAPE:  1.6807746271565702\n",
            "\n",
            "Num of Units: 102 - epochs: 104 - windows: 4\n",
            "MAPE:  1.6807746271565702\n",
            "\n",
            "Num of Units: 102 - epochs: 37 - windows: 4\n",
            "MAPE:  2.8384490575204784\n",
            "\n",
            "Num of Units: 120 - epochs: 104 - windows: 4\n",
            "MAPE:  1.6196241740313588\n",
            "\n",
            "Num of Units: 102 - epochs: 104 - windows: 4\n",
            "MAPE:  1.6807746271565702\n",
            "\n",
            "Num of Units: 102 - epochs: 104 - windows: 4\n",
            "MAPE:  1.6807746271565702\n",
            "\n",
            "Num of Units: 102 - epochs: 37 - windows: 4\n",
            "MAPE:  2.8384490575204784\n",
            "\n",
            "Num of Units: 120 - epochs: 104 - windows: 4\n",
            "MAPE:  1.6196241740313588\n",
            "\n",
            "Num of Units: 120 - epochs: 37 - windows: 4\n",
            "MAPE:  1.6175327151979662\n",
            "\n",
            "Num of Units: 102 - epochs: 104 - windows: 4\n",
            "MAPE:  1.6807746271565702\n",
            "\n",
            "Num of Units: 120 - epochs: 37 - windows: 4\n",
            "MAPE:  1.6175327151979662\n",
            "\n",
            "Num of Units: 120 - epochs: 37 - windows: 4\n",
            "MAPE:  1.6175327151979662\n",
            "\n",
            "Num of Units: 102 - epochs: 104 - windows: 4\n",
            "MAPE:  1.6807746271565702\n",
            "\n",
            "Num of Units: 102 - epochs: 104 - windows: 4\n",
            "MAPE:  1.6807746271565702\n",
            "\n",
            "Num of Units: 120 - epochs: 104 - windows: 4\n",
            "MAPE:  1.6196241740313588\n",
            "\n",
            "Num of Units: 102 - epochs: 37 - windows: 4\n",
            "MAPE:  2.8384490575204784\n",
            "\n",
            "Num of Units: 102 - epochs: 104 - windows: 4\n",
            "MAPE:  1.6807746271565702\n",
            "\n",
            "Num of Units: 102 - epochs: 104 - windows: 4\n",
            "MAPE:  1.6807746271565702\n",
            "\n",
            "Num of Units: 120 - epochs: 104 - windows: 4\n",
            "MAPE:  1.6196241740313588\n",
            "\n",
            "Num of Units: 102 - epochs: 37 - windows: 4\n",
            "MAPE:  2.8384490575204784\n",
            "\n",
            "Num of Units: 120 - epochs: 37 - windows: 4\n",
            "MAPE:  1.6175327151979662\n",
            "\n",
            "Num of Units: 102 - epochs: 104 - windows: 4\n",
            "MAPE:  1.6807746271565702\n",
            "\n",
            "Num of Units: 102 - epochs: 104 - windows: 4\n",
            "MAPE:  1.6807746271565702\n",
            "\n",
            "Num of Units: 104 - epochs: 104 - windows: 4\n",
            "MAPE:  1.7649645063004795\n",
            "\n",
            "Num of Units: 120 - epochs: 104 - windows: 4\n",
            "MAPE:  1.6196241740313588\n",
            "\n",
            "Num of Units: 102 - epochs: 37 - windows: 4\n",
            "MAPE:  2.8384490575204784\n",
            "\n",
            "Num of Units: 120 - epochs: 37 - windows: 4\n",
            "MAPE:  1.6175327151979662\n",
            "\n",
            "Num of Units: 102 - epochs: 104 - windows: 4\n",
            "MAPE:  1.6807746271565702\n",
            "\n",
            "Num of Units: 102 - epochs: 104 - windows: 4\n",
            "MAPE:  1.6807746271565702\n",
            "\n",
            "Num of Units: 120 - epochs: 104 - windows: 4\n",
            "MAPE:  1.6196241740313588\n",
            "\n",
            "Num of Units: 120 - epochs: 104 - windows: 4\n",
            "MAPE:  1.6196241740313588\n",
            "\n",
            "Num of Units: 120 - epochs: 37 - windows: 4\n",
            "MAPE:  1.6175327151979662\n",
            "\n",
            "Num of Units: 120 - epochs: 104 - windows: 4\n",
            "MAPE:  1.6196241740313588\n",
            "\n",
            "Num of Units: 102 - epochs: 37 - windows: 4\n",
            "MAPE:  2.8384490575204784\n",
            "\n",
            "Num of Units: 102 - epochs: 104 - windows: 4\n",
            "MAPE:  1.6807746271565702\n",
            "\n",
            "Num of Units: 102 - epochs: 104 - windows: 12\n",
            "MAPE:  1.9991474867588888\n",
            "\n",
            "Num of Units: 120 - epochs: 37 - windows: 4\n",
            "MAPE:  1.6175327151979662\n",
            "\n",
            "Num of Units: 120 - epochs: 37 - windows: 4\n",
            "MAPE:  1.6175327151979662\n",
            "\n",
            "Num of Units: 102 - epochs: 104 - windows: 4\n",
            "MAPE:  1.6807746271565702\n",
            "\n",
            "Num of Units: 120 - epochs: 37 - windows: 4\n",
            "MAPE:  1.6175327151979662\n",
            "\n",
            "Num of Units: 120 - epochs: 37 - windows: 4\n",
            "MAPE:  1.6175327151979662\n",
            "\n",
            "Num of Units: 120 - epochs: 37 - windows: 4\n",
            "MAPE:  1.6175327151979662\n",
            "\n",
            "Num of Units: 120 - epochs: 104 - windows: 4\n",
            "MAPE:  1.6196241740313588\n",
            "\n",
            "Num of Units: 120 - epochs: 37 - windows: 4\n",
            "MAPE:  1.6175327151979662\n",
            "\n",
            "Num of Units: 102 - epochs: 104 - windows: 4\n",
            "MAPE:  1.6807746271565702\n",
            "\n",
            "Num of Units: 102 - epochs: 104 - windows: 4\n",
            "MAPE:  1.6807746271565702\n",
            "\n",
            "Num of Units: 120 - epochs: 37 - windows: 4\n",
            "MAPE:  1.6175327151979662\n",
            "\n",
            "Num of Units: 120 - epochs: 37 - windows: 4\n",
            "MAPE:  1.6175327151979662\n",
            "\n",
            "Num of Units: 120 - epochs: 37 - windows: 4\n",
            "MAPE:  1.6175327151979662\n",
            "\n",
            "Num of Units: 120 - epochs: 104 - windows: 4\n",
            "MAPE:  1.6196241740313588\n",
            "\n",
            "Num of Units: 102 - epochs: 37 - windows: 4\n",
            "MAPE:  2.8384490575204784\n",
            "\n",
            "Num of Units: 120 - epochs: 37 - windows: 4\n",
            "MAPE:  1.6175327151979662\n",
            "\n",
            "Num of Units: 120 - epochs: 37 - windows: 4\n",
            "MAPE:  1.6175327151979662\n",
            "\n",
            "Num of Units: 120 - epochs: 37 - windows: 4\n",
            "MAPE:  1.6175327151979662\n",
            "\n",
            "Num of Units: 120 - epochs: 37 - windows: 4\n",
            "MAPE:  1.6175327151979662\n",
            "\n",
            "Num of Units: 120 - epochs: 37 - windows: 4\n",
            "MAPE:  1.6175327151979662\n",
            "\n",
            "Num of Units: 120 - epochs: 37 - windows: 4\n",
            "MAPE:  1.6175327151979662\n",
            "\n",
            "Num of Units: 120 - epochs: 37 - windows: 4\n",
            "MAPE:  1.6175327151979662\n",
            "\n",
            "Num of Units: 120 - epochs: 104 - windows: 4\n",
            "MAPE:  1.6196241740313588\n",
            "\n",
            "Num of Units: 120 - epochs: 37 - windows: 4\n",
            "MAPE:  1.6175327151979662\n",
            "\n",
            "Num of Units: 120 - epochs: 37 - windows: 4\n",
            "MAPE:  1.6175327151979662\n",
            "\n",
            "Num of Units: 120 - epochs: 37 - windows: 4\n",
            "MAPE:  1.6175327151979662\n",
            "\n",
            "Num of Units: 120 - epochs: 37 - windows: 4\n",
            "MAPE:  1.6175327151979662\n",
            "\n",
            "Num of Units: 120 - epochs: 37 - windows: 4\n",
            "MAPE:  1.6175327151979662\n",
            "\n",
            "Num of Units: 120 - epochs: 37 - windows: 4\n",
            "MAPE:  1.6175327151979662\n",
            "\n",
            "Num of Units: 120 - epochs: 37 - windows: 4\n",
            "MAPE:  1.6175327151979662\n",
            "\n",
            "Num of Units: 120 - epochs: 37 - windows: 4\n",
            "MAPE:  1.6175327151979662\n",
            "\n",
            "Num of Units: 120 - epochs: 37 - windows: 4\n",
            "MAPE:  1.6175327151979662\n",
            "\n",
            "Num of Units: 120 - epochs: 37 - windows: 4\n",
            "MAPE:  1.6175327151979662\n",
            "\n",
            "Num of Units: 120 - epochs: 37 - windows: 4\n",
            "MAPE:  1.6175327151979662\n",
            "\n",
            "Num of Units: 120 - epochs: 37 - windows: 4\n",
            "MAPE:  1.6175327151979662\n",
            "\n",
            "Num of Units: 120 - epochs: 37 - windows: 4\n",
            "MAPE:  1.6175327151979662\n",
            "\n",
            "Num of Units: 120 - epochs: 37 - windows: 4\n",
            "MAPE:  1.6175327151979662\n",
            "\n",
            "Num of Units: 120 - epochs: 37 - windows: 4\n",
            "MAPE:  1.6175327151979662\n",
            "\n",
            "Num of Units: 120 - epochs: 37 - windows: 4\n",
            "MAPE:  1.6175327151979662\n",
            "\n",
            "Num of Units: 120 - epochs: 37 - windows: 4\n",
            "MAPE:  1.6175327151979662\n",
            "\n",
            "Num of Units: 120 - epochs: 37 - windows: 4\n",
            "MAPE:  1.6175327151979662\n",
            "\n",
            "Num of Units: 120 - epochs: 37 - windows: 4\n",
            "MAPE:  1.6175327151979662\n",
            "\n",
            "Num of Units: 120 - epochs: 37 - windows: 4\n",
            "MAPE:  1.6175327151979662\n",
            "\n",
            "Num of Units: 120 - epochs: 37 - windows: 4\n",
            "MAPE:  1.6175327151979662\n",
            "\n",
            "Num of Units: 120 - epochs: 37 - windows: 4\n",
            "MAPE:  1.6175327151979662\n",
            "\n",
            "Num of Units: 120 - epochs: 37 - windows: 4\n",
            "MAPE:  1.6175327151979662\n",
            "\n",
            "Num of Units: 120 - epochs: 37 - windows: 4\n",
            "MAPE:  1.6175327151979662\n",
            "\n",
            "Num of Units: 120 - epochs: 37 - windows: 4\n",
            "MAPE:  1.6175327151979662\n",
            "\n",
            "Num of Units: 120 - epochs: 37 - windows: 4\n",
            "MAPE:  1.6175327151979662\n",
            "\n",
            "Num of Units: 120 - epochs: 37 - windows: 4\n",
            "MAPE:  1.6175327151979662\n",
            "\n",
            "Num of Units: 120 - epochs: 37 - windows: 4\n",
            "MAPE:  1.6175327151979662\n",
            "\n",
            "Num of Units: 120 - epochs: 37 - windows: 4\n",
            "MAPE:  1.6175327151979662\n",
            "\n",
            "Num of Units: 120 - epochs: 37 - windows: 4\n",
            "MAPE:  1.6175327151979662\n",
            "\n",
            "Num of Units: 120 - epochs: 37 - windows: 4\n",
            "MAPE:  1.6175327151979662\n",
            "\n",
            "Num of Units: 120 - epochs: 37 - windows: 4\n",
            "MAPE:  1.6175327151979662\n",
            "\n",
            "Num of Units: 120 - epochs: 37 - windows: 4\n",
            "MAPE:  1.6175327151979662\n",
            "\n",
            "Num of Units: 120 - epochs: 37 - windows: 4\n",
            "MAPE:  1.6175327151979662\n",
            "\n",
            "Num of Units: 120 - epochs: 37 - windows: 4\n",
            "MAPE:  1.6175327151979662\n",
            "\n",
            "Num of Units: 120 - epochs: 37 - windows: 4\n",
            "MAPE:  1.6175327151979662\n",
            "\n",
            "Num of Units: 120 - epochs: 37 - windows: 4\n",
            "MAPE:  1.6175327151979662\n",
            "\n",
            "Num of Units: 120 - epochs: 37 - windows: 4\n",
            "MAPE:  1.6175327151979662\n",
            "\n",
            "Num of Units: 120 - epochs: 37 - windows: 4\n",
            "MAPE:  1.6175327151979662\n",
            "\n",
            "Num of Units: 120 - epochs: 37 - windows: 4\n",
            "MAPE:  1.6175327151979662\n",
            "\n",
            "Num of Units: 120 - epochs: 37 - windows: 4\n",
            "MAPE:  1.6175327151979662\n",
            "\n",
            "Num of Units: 120 - epochs: 37 - windows: 4\n",
            "MAPE:  1.6175327151979662\n",
            "\n",
            "Num of Units: 120 - epochs: 37 - windows: 4\n",
            "MAPE:  1.6175327151979662\n",
            "\n",
            "Num of Units: 120 - epochs: 37 - windows: 4\n",
            "MAPE:  1.6175327151979662\n",
            "\n",
            "Num of Units: 120 - epochs: 37 - windows: 4\n",
            "MAPE:  1.6175327151979662\n",
            "\n",
            "Num of Units: 120 - epochs: 37 - windows: 4\n",
            "MAPE:  1.6175327151979662\n",
            "\n",
            "Num of Units: 120 - epochs: 37 - windows: 4\n",
            "MAPE:  1.6175327151979662\n",
            "\n",
            "Num of Units: 120 - epochs: 37 - windows: 4\n",
            "MAPE:  1.6175327151979662\n",
            "\n",
            "Num of Units: 120 - epochs: 37 - windows: 4\n",
            "MAPE:  1.6175327151979662\n",
            "\n",
            "Num of Units: 120 - epochs: 37 - windows: 4\n",
            "MAPE:  1.6175327151979662\n",
            "\n",
            "Num of Units: 120 - epochs: 37 - windows: 4\n",
            "MAPE:  1.6175327151979662\n",
            "\n",
            "Num of Units: 120 - epochs: 75 - windows: 4\n",
            "MAPE:  1.6037282346252193\n",
            "\n",
            "Num of Units: 120 - epochs: 37 - windows: 4\n",
            "MAPE:  1.6175327151979662\n",
            "\n",
            "Num of Units: 120 - epochs: 37 - windows: 4\n",
            "MAPE:  1.6175327151979662\n",
            "\n",
            "Num of Units: 120 - epochs: 37 - windows: 4\n",
            "MAPE:  1.6175327151979662\n",
            "\n",
            "Num of Units: 120 - epochs: 37 - windows: 4\n",
            "MAPE:  1.6175327151979662\n",
            "\n",
            "Num of Units: 120 - epochs: 37 - windows: 4\n",
            "MAPE:  1.6175327151979662\n",
            "\n",
            "Num of Units: 120 - epochs: 37 - windows: 4\n",
            "MAPE:  1.6175327151979662\n",
            "\n",
            "Num of Units: 120 - epochs: 37 - windows: 4\n",
            "MAPE:  1.6175327151979662\n",
            "\n",
            "Num of Units: 120 - epochs: 37 - windows: 4\n",
            "MAPE:  1.6175327151979662\n",
            "\n",
            "Num of Units: 120 - epochs: 37 - windows: 4\n",
            "MAPE:  1.6175327151979662\n",
            "\n",
            "Num of Units: 120 - epochs: 37 - windows: 4\n",
            "MAPE:  1.6175327151979662\n",
            "\n",
            "Num of Units: 120 - epochs: 37 - windows: 4\n",
            "MAPE:  1.6175327151979662\n",
            "\n",
            "Num of Units: 120 - epochs: 37 - windows: 4\n",
            "MAPE:  1.6175327151979662\n",
            "\n",
            "Num of Units: 120 - epochs: 75 - windows: 4\n",
            "MAPE:  1.6037282346252193\n",
            "\n",
            "Num of Units: 120 - epochs: 37 - windows: 4\n",
            "MAPE:  1.6175327151979662\n",
            "\n",
            "Num of Units: 120 - epochs: 37 - windows: 4\n",
            "MAPE:  1.6175327151979662\n",
            "\n",
            "Num of Units: 120 - epochs: 75 - windows: 4\n",
            "MAPE:  1.6037282346252193\n",
            "\n",
            "Num of Units: 120 - epochs: 37 - windows: 4\n",
            "MAPE:  1.6175327151979662\n",
            "\n",
            "Num of Units: 120 - epochs: 37 - windows: 4\n",
            "MAPE:  1.6175327151979662\n",
            "\n",
            "Num of Units: 120 - epochs: 37 - windows: 4\n",
            "MAPE:  1.6175327151979662\n",
            "\n",
            "Num of Units: 120 - epochs: 37 - windows: 4\n",
            "MAPE:  1.6175327151979662\n",
            "\n",
            "Num of Units: 120 - epochs: 37 - windows: 4\n",
            "MAPE:  1.6175327151979662\n",
            "\n",
            "Num of Units: 120 - epochs: 37 - windows: 4\n",
            "MAPE:  1.6175327151979662\n",
            "\n",
            "Num of Units: 120 - epochs: 37 - windows: 4\n",
            "MAPE:  1.6175327151979662\n",
            "\n",
            "Num of Units: 120 - epochs: 37 - windows: 4\n",
            "MAPE:  1.6175327151979662\n",
            "\n",
            "Num of Units: 120 - epochs: 37 - windows: 4\n",
            "MAPE:  1.6175327151979662\n",
            "\n",
            "Num of Units: 120 - epochs: 37 - windows: 4\n",
            "MAPE:  1.6175327151979662\n",
            "\n",
            "Num of Units: 120 - epochs: 37 - windows: 4\n",
            "MAPE:  1.6175327151979662\n",
            "\n",
            "Num of Units: 120 - epochs: 37 - windows: 4\n",
            "MAPE:  1.6175327151979662\n",
            "\n",
            "Num of Units: 120 - epochs: 37 - windows: 4\n",
            "MAPE:  1.6175327151979662\n",
            "\n",
            "Num of Units: 120 - epochs: 37 - windows: 4\n",
            "MAPE:  1.6175327151979662\n",
            "\n",
            "Num of Units: 120 - epochs: 37 - windows: 4\n",
            "MAPE:  1.6175327151979662\n",
            "\n",
            "Num of Units: 120 - epochs: 75 - windows: 4\n",
            "MAPE:  1.6037282346252193\n",
            "\n",
            "Num of Units: 120 - epochs: 37 - windows: 4\n",
            "MAPE:  1.6175327151979662\n",
            "\n",
            "Num of Units: 120 - epochs: 37 - windows: 4\n",
            "MAPE:  1.6175327151979662\n",
            "\n",
            "Num of Units: 120 - epochs: 37 - windows: 4\n",
            "MAPE:  1.6175327151979662\n",
            "\n",
            "Num of Units: 120 - epochs: 37 - windows: 4\n",
            "MAPE:  1.6175327151979662\n",
            "\n",
            "Num of Units: 120 - epochs: 75 - windows: 4\n",
            "MAPE:  1.6037282346252193\n",
            "\n",
            "Num of Units: 120 - epochs: 37 - windows: 4\n",
            "MAPE:  1.6175327151979662\n",
            "\n",
            "Num of Units: 120 - epochs: 75 - windows: 4\n",
            "MAPE:  1.6037282346252193\n",
            "\n",
            "Num of Units: 120 - epochs: 37 - windows: 4\n",
            "MAPE:  1.6175327151979662\n",
            "\n",
            "Num of Units: 120 - epochs: 37 - windows: 4\n",
            "MAPE:  1.6175327151979662\n",
            "\n",
            "Num of Units: 120 - epochs: 75 - windows: 4\n",
            "MAPE:  1.6037282346252193\n",
            "\n",
            "Num of Units: 120 - epochs: 75 - windows: 4\n",
            "MAPE:  1.6037282346252193\n",
            "\n",
            "Num of Units: 120 - epochs: 37 - windows: 4\n",
            "MAPE:  1.6175327151979662\n",
            "\n",
            "Num of Units: 120 - epochs: 37 - windows: 4\n",
            "MAPE:  1.6175327151979662\n",
            "\n",
            "Num of Units: 120 - epochs: 75 - windows: 4\n",
            "MAPE:  1.6037282346252193\n",
            "\n",
            "Num of Units: 120 - epochs: 37 - windows: 4\n",
            "MAPE:  1.6175327151979662\n",
            "\n",
            "Num of Units: 120 - epochs: 75 - windows: 4\n",
            "MAPE:  1.6037282346252193\n",
            "\n",
            "Num of Units: 120 - epochs: 37 - windows: 4\n",
            "MAPE:  1.6175327151979662\n",
            "\n",
            "Num of Units: 120 - epochs: 37 - windows: 4\n",
            "MAPE:  1.6175327151979662\n",
            "\n",
            "Num of Units: 120 - epochs: 37 - windows: 4\n",
            "MAPE:  1.6175327151979662\n",
            "\n",
            "Num of Units: 120 - epochs: 37 - windows: 4\n",
            "MAPE:  1.6175327151979662\n",
            "\n",
            "Num of Units: 120 - epochs: 37 - windows: 4\n",
            "MAPE:  1.6175327151979662\n",
            "\n",
            "Num of Units: 120 - epochs: 37 - windows: 4\n",
            "MAPE:  1.6175327151979662\n",
            "\n",
            "Num of Units: 120 - epochs: 37 - windows: 4\n",
            "MAPE:  1.6175327151979662\n",
            "\n",
            "Num of Units: 120 - epochs: 75 - windows: 4\n",
            "MAPE:  1.6037282346252193\n",
            "\n",
            "Num of Units: 120 - epochs: 37 - windows: 4\n",
            "MAPE:  1.6175327151979662\n",
            "\n",
            "Num of Units: 120 - epochs: 75 - windows: 4\n",
            "MAPE:  1.6037282346252193\n",
            "\n",
            "Num of Units: 120 - epochs: 37 - windows: 4\n",
            "MAPE:  1.6175327151979662\n",
            "\n",
            "Num of Units: 120 - epochs: 37 - windows: 4\n",
            "MAPE:  1.6175327151979662\n",
            "\n",
            "Num of Units: 120 - epochs: 75 - windows: 2\n",
            "MAPE:  2.1062254786248444\n",
            "\n",
            "Num of Units: 120 - epochs: 75 - windows: 4\n",
            "MAPE:  1.6037282346252193\n",
            "\n",
            "Num of Units: 120 - epochs: 37 - windows: 4\n",
            "MAPE:  1.6175327151979662\n",
            "\n",
            "Num of Units: 120 - epochs: 37 - windows: 4\n",
            "MAPE:  1.6175327151979662\n",
            "\n",
            "Num of Units: 120 - epochs: 37 - windows: 4\n",
            "MAPE:  1.6175327151979662\n",
            "\n",
            "Num of Units: 120 - epochs: 75 - windows: 4\n",
            "MAPE:  1.6037282346252193\n",
            "\n",
            "Num of Units: 120 - epochs: 75 - windows: 4\n",
            "MAPE:  1.6037282346252193\n",
            "\n",
            "Num of Units: 120 - epochs: 37 - windows: 4\n",
            "MAPE:  1.6175327151979662\n",
            "\n",
            "Num of Units: 120 - epochs: 75 - windows: 4\n",
            "MAPE:  1.6037282346252193\n",
            "\n",
            "Num of Units: 120 - epochs: 75 - windows: 4\n",
            "MAPE:  1.6037282346252193\n",
            "\n",
            "Num of Units: 120 - epochs: 75 - windows: 4\n",
            "MAPE:  1.6037282346252193\n",
            "\n",
            "Num of Units: 120 - epochs: 75 - windows: 4\n",
            "MAPE:  1.6037282346252193\n",
            "\n",
            "Num of Units: 120 - epochs: 75 - windows: 4\n",
            "MAPE:  1.6037282346252193\n",
            "\n",
            "Num of Units: 120 - epochs: 37 - windows: 4\n",
            "MAPE:  1.6175327151979662\n",
            "\n",
            "Num of Units: 120 - epochs: 75 - windows: 4\n",
            "MAPE:  1.6037282346252193\n",
            "\n",
            "Num of Units: 120 - epochs: 75 - windows: 4\n",
            "MAPE:  1.6037282346252193\n",
            "\n",
            "Num of Units: 120 - epochs: 37 - windows: 4\n",
            "MAPE:  1.6175327151979662\n",
            "\n",
            "Num of Units: 120 - epochs: 75 - windows: 4\n",
            "MAPE:  1.6037282346252193\n",
            "\n",
            "Num of Units: 120 - epochs: 75 - windows: 4\n",
            "MAPE:  1.6037282346252193\n",
            "\n",
            "Num of Units: 120 - epochs: 75 - windows: 4\n",
            "MAPE:  1.6037282346252193\n",
            "\n",
            "Num of Units: 120 - epochs: 75 - windows: 4\n",
            "MAPE:  1.6037282346252193\n",
            "\n",
            "Num of Units: 120 - epochs: 75 - windows: 4\n",
            "MAPE:  1.6037282346252193\n",
            "\n",
            "Num of Units: 120 - epochs: 75 - windows: 4\n",
            "MAPE:  1.6037282346252193\n",
            "\n",
            "Num of Units: 120 - epochs: 75 - windows: 4\n",
            "MAPE:  1.6037282346252193\n",
            "\n",
            "Num of Units: 120 - epochs: 75 - windows: 4\n",
            "MAPE:  1.6037282346252193\n",
            "\n",
            "Num of Units: 120 - epochs: 75 - windows: 4\n",
            "MAPE:  1.6037282346252193\n",
            "\n",
            "Num of Units: 120 - epochs: 75 - windows: 4\n",
            "MAPE:  1.6037282346252193\n",
            "\n",
            "Num of Units: 120 - epochs: 75 - windows: 4\n",
            "MAPE:  1.6037282346252193\n",
            "\n",
            "Num of Units: 120 - epochs: 75 - windows: 4\n",
            "MAPE:  1.6037282346252193\n",
            "\n",
            "Num of Units: 120 - epochs: 75 - windows: 4\n",
            "MAPE:  1.6037282346252193\n",
            "\n",
            "Num of Units: 120 - epochs: 75 - windows: 4\n",
            "MAPE:  1.6037282346252193\n",
            "\n",
            "Num of Units: 120 - epochs: 75 - windows: 4\n",
            "MAPE:  1.6037282346252193\n",
            "\n",
            "Num of Units: 120 - epochs: 75 - windows: 4\n",
            "MAPE:  1.6037282346252193\n",
            "\n",
            "Num of Units: 120 - epochs: 75 - windows: 4\n",
            "MAPE:  1.6037282346252193\n",
            "\n",
            "Num of Units: 120 - epochs: 75 - windows: 4\n",
            "MAPE:  1.6037282346252193\n",
            "\n",
            "Num of Units: 120 - epochs: 75 - windows: 4\n",
            "MAPE:  1.6037282346252193\n",
            "\n",
            "Num of Units: 120 - epochs: 75 - windows: 4\n",
            "MAPE:  1.6037282346252193\n",
            "\n",
            "Num of Units: 120 - epochs: 75 - windows: 6\n",
            "MAPE:  1.818368352462955\n",
            "\n",
            "Num of Units: 120 - epochs: 37 - windows: 4\n",
            "MAPE:  1.6175327151979662\n",
            "\n",
            "Num of Units: 120 - epochs: 75 - windows: 4\n",
            "MAPE:  1.6037282346252193\n"
          ],
          "name": "stdout"
        }
      ]
    },
    {
      "cell_type": "code",
      "metadata": {
        "colab": {
          "base_uri": "https://localhost:8080/"
        },
        "id": "XcWJs-qFt2YH",
        "outputId": "b21fe0cc-16af-4166-96f4-ffa3da62e406"
      },
      "source": [
        "# Print top N solutions\n",
        "best_individuals = tools.selBest(population, k=3)\n",
        "\n",
        "for bi in best_individuals:\n",
        "    print(bi)\n",
        "    train_evaluate(bi)"
      ],
      "execution_count": 25,
      "outputs": [
        {
          "output_type": "stream",
          "text": [
            "[120, 75, 4]\n",
            "\n",
            "Num of Units: 120 - epochs: 75 - windows: 4\n",
            "MAPE:  1.6037282346252193\n",
            "[120, 75, 4]\n",
            "\n",
            "Num of Units: 120 - epochs: 75 - windows: 4\n",
            "MAPE:  1.6037282346252193\n",
            "[120, 75, 4]\n",
            "\n",
            "Num of Units: 120 - epochs: 75 - windows: 4\n",
            "MAPE:  1.6037282346252193\n"
          ],
          "name": "stdout"
        }
      ]
    },
    {
      "cell_type": "markdown",
      "metadata": {
        "id": "aY0Ci0oHGwJS"
      },
      "source": [
        "# Train with optimized parameters"
      ]
    },
    {
      "cell_type": "code",
      "metadata": {
        "id": "l0s-sd5at2f3"
      },
      "source": [
        "# hn, ep, wdw = best_individuals[0]\n",
        "\n",
        "hn = 56\n",
        "ep = 110\n",
        "wdw = 5"
      ],
      "execution_count": 26,
      "outputs": []
    },
    {
      "cell_type": "code",
      "metadata": {
        "id": "7TrvHT7MHESO"
      },
      "source": [
        "lt_w = ['x[t-{}]'.format(str(i)) for i in reversed(range(1, wdw+1))]\n",
        "cols = ['m[0]', 'm[1]', 'm[2]', 'm[3]'] + lt_w + ['x[t]']\n",
        "\n",
        "X = preprocess(train, windows=wdw)\n",
        "max_ = np.max(X.iloc[:,4:].values)\n",
        "min_ = np.min(X.iloc[:,4:].values)\n",
        "\n",
        "X.iloc[:,4:] = (X.iloc[:,4:] - min_)/(max_ - min_)\n",
        "\n",
        "Xval = preprocess(val, windows=wdw, scale=True)\n",
        "Xtest = preprocess(test, windows=wdw, scale=True)\n",
        "\n",
        "x_train = X.values[:,:-1]\n",
        "y_train = X.values[:,-1]\n",
        "\n",
        "x_val = Xval.values[:,:-1]\n",
        "y_val = Xval.values[:,-1]\n",
        "\n",
        "x_test = Xtest.values[:,:-1]\n",
        "y_test = Xtest.values[:,-1]"
      ],
      "execution_count": 27,
      "outputs": []
    },
    {
      "cell_type": "code",
      "metadata": {
        "id": "IN9eIHYztZk0"
      },
      "source": [
        "model1 = create_model(hidden_neurons = [hn], n_input = x_train.shape[1], lr = 0.001)"
      ],
      "execution_count": 28,
      "outputs": []
    },
    {
      "cell_type": "code",
      "metadata": {
        "id": "4GZDon43tZk0"
      },
      "source": [
        "hs1 = model1.fit(x=x_train, y=y_train, epochs=ep,\n",
        "                 validation_data=(x_val, y_val), verbose=0)"
      ],
      "execution_count": 29,
      "outputs": []
    },
    {
      "cell_type": "code",
      "metadata": {
        "colab": {
          "base_uri": "https://localhost:8080/",
          "height": 265
        },
        "id": "FMoQ3eXWtZk1",
        "outputId": "e3686a2d-5817-4705-ae54-cf2b62ab8b2f"
      },
      "source": [
        "plt.plot(hs1.history['loss'], label=\"mae\")\n",
        "plt.plot(hs1.history['mean_squared_error'], label=\"mse\")\n",
        "plt.plot(hs1.history['val_loss'], label=\"val_mae\")\n",
        "plt.plot(hs1.history['val_mean_squared_error'], label=\"val_mse\")\n",
        "plt.legend()\n",
        "plt.show()"
      ],
      "execution_count": 30,
      "outputs": [
        {
          "output_type": "display_data",
          "data": {
            "image/png": "[encoded data removed]",
            "text/plain": [
              "<Figure size 432x288 with 1 Axes>"
            ]
          },
          "metadata": {
            "tags": [],
            "needs_background": "light"
          }
        }
      ]
    },
    {
      "cell_type": "code",
      "metadata": {
        "colab": {
          "base_uri": "https://localhost:8080/",
          "height": 337
        },
        "id": "MlBHi1wvtZk1",
        "outputId": "9bd76c9d-b40d-4451-f949-a11aa6cd294b"
      },
      "source": [
        "y_train_hat = model1.predict(x_train)\n",
        "\n",
        "plt.figure(figsize=[16,5])\n",
        "plt.plot(y_train)\n",
        "plt.plot(y_train_hat)\n",
        "plt.legend(['Original','Predicted'])"
      ],
      "execution_count": 31,
      "outputs": [
        {
          "output_type": "execute_result",
          "data": {
            "text/plain": [
              "<matplotlib.legend.Legend at 0x7fd4b2fb6910>"
            ]
          },
          "metadata": {
            "tags": []
          },
          "execution_count": 31
        },
        {
          "output_type": "display_data",
          "data": {
            "image/png": "[encoded data removed]",
            "text/plain": [
              "<Figure size 1152x360 with 1 Axes>"
            ]
          },
          "metadata": {
            "tags": [],
            "needs_background": "light"
          }
        }
      ]
    },
    {
      "cell_type": "code",
      "metadata": {
        "colab": {
          "base_uri": "https://localhost:8080/"
        },
        "id": "B65bglmMtZk2",
        "outputId": "8d1c46ff-82e6-4696-c87b-22880d271099"
      },
      "source": [
        "y_val_hat = model1.predict(x_val)\n",
        "y_val_ms = multistep(x_val, y_val, model1)\n",
        "calculate_metrics(y_val, y_val_ms)"
      ],
      "execution_count": 32,
      "outputs": [
        {
          "output_type": "stream",
          "text": [
            "Erro MAE = 128.061\n",
            "Erro RMSE = 182.325\n",
            "MAPE:  1.604 %\n"
          ],
          "name": "stdout"
        }
      ]
    },
    {
      "cell_type": "code",
      "metadata": {
        "colab": {
          "base_uri": "https://localhost:8080/",
          "height": 282
        },
        "id": "QWXnP5IztZk2",
        "outputId": "48480c02-3e75-4450-86d6-39123b4cf3cc"
      },
      "source": [
        "plt.plot(y_val*(max_- min_) + min_)\n",
        "plt.plot(y_val_hat.ravel()*(max_- min_) + min_)\n",
        "plt.plot(y_val_ms*(max_- min_) + min_)\n",
        "plt.legend(['Original','Pred_OneStep', 'Pred_MultiStep'])\n",
        "plt.title('Validation - Multistep')\n",
        "plt.show()"
      ],
      "execution_count": 33,
      "outputs": [
        {
          "output_type": "display_data",
          "data": {
            "image/png": "[encoded data removed]",
            "text/plain": [
              "<Figure size 432x288 with 1 Axes>"
            ]
          },
          "metadata": {
            "tags": [],
            "needs_background": "light"
          }
        }
      ]
    },
    {
      "cell_type": "markdown",
      "metadata": {
        "id": "s9mH6Mk_tZk3"
      },
      "source": [
        "# Testing"
      ]
    },
    {
      "cell_type": "code",
      "metadata": {
        "id": "-d8jdDUutZk3"
      },
      "source": [
        "y_test_hat = model1.predict(x_test)\n",
        "y_test_ms = multistep(x_test, y_test, model1)"
      ],
      "execution_count": 34,
      "outputs": []
    },
    {
      "cell_type": "code",
      "metadata": {
        "colab": {
          "base_uri": "https://localhost:8080/"
        },
        "id": "AlycRbgUtZk3",
        "outputId": "9f36b0b9-9a66-4e9e-d24e-bb4107ea9bde"
      },
      "source": [
        "calculate_metrics(y_test, y_test_ms)"
      ],
      "execution_count": 35,
      "outputs": [
        {
          "output_type": "stream",
          "text": [
            "Erro MAE = 206.3\n",
            "Erro RMSE = 252.139\n",
            "MAPE:  2.522 %\n"
          ],
          "name": "stdout"
        }
      ]
    },
    {
      "cell_type": "code",
      "metadata": {
        "colab": {
          "base_uri": "https://localhost:8080/",
          "height": 265
        },
        "id": "mYXelYaVtZk3",
        "outputId": "5ea906ec-8dce-4e8a-a2ab-80472de278de"
      },
      "source": [
        "plt.plot(y_test*(max_- min_) + min_)\n",
        "plt.plot(y_test_hat.ravel()*(max_- min_) + min_)\n",
        "plt.plot(y_test_ms*(max_- min_) + min_)\n",
        "plt.legend(['Original','Pred_OneStep', 'Pred_MultiStep'])\n",
        "plt.show()"
      ],
      "execution_count": 36,
      "outputs": [
        {
          "output_type": "display_data",
          "data": {
            "image/png": "[encoded data removed]",
            "text/plain": [
              "<Figure size 432x288 with 1 Axes>"
            ]
          },
          "metadata": {
            "tags": [],
            "needs_background": "light"
          }
        }
      ]
    },
    {
      "cell_type": "markdown",
      "metadata": {
        "id": "ohSiuM3dBw3j"
      },
      "source": [
        "# Forecasting 2020"
      ]
    },
    {
      "cell_type": "code",
      "metadata": {
        "colab": {
          "base_uri": "https://localhost:8080/",
          "height": 221
        },
        "id": "94G_m1aXHZj8",
        "outputId": "19928821-7ea0-4116-c1e7-28f5a51c8b2e"
      },
      "source": [
        "pred_set = df1.loc['2019-01-01':'2021-12-31']\n",
        "print(pred_set.shape)\n",
        "pred_set.iloc[np.r_[0:3, -2:0]]"
      ],
      "execution_count": 37,
      "outputs": [
        {
          "output_type": "stream",
          "text": [
            "(29, 4)\n"
          ],
          "name": "stdout"
        },
        {
          "output_type": "execute_result",
          "data": {
            "text/html": [
              "<div>\n",
              "<style scoped>\n",
              "    .dataframe tbody tr th:only-of-type {\n",
              "        vertical-align: middle;\n",
              "    }\n",
              "\n",
              "    .dataframe tbody tr th {\n",
              "        vertical-align: top;\n",
              "    }\n",
              "\n",
              "    .dataframe thead th {\n",
              "        text-align: right;\n",
              "    }\n",
              "</style>\n",
              "<table border=\"1\" class=\"dataframe\">\n",
              "  <thead>\n",
              "    <tr style=\"text-align: right;\">\n",
              "      <th></th>\n",
              "      <th>Energy_Load</th>\n",
              "      <th>date</th>\n",
              "      <th>year</th>\n",
              "      <th>month</th>\n",
              "    </tr>\n",
              "  </thead>\n",
              "  <tbody>\n",
              "    <tr>\n",
              "      <th>2019-01-31</th>\n",
              "      <td>9548.465809</td>\n",
              "      <td>2019-01-31</td>\n",
              "      <td>2019</td>\n",
              "      <td>1</td>\n",
              "    </tr>\n",
              "    <tr>\n",
              "      <th>2019-02-28</th>\n",
              "      <td>8327.847226</td>\n",
              "      <td>2019-02-28</td>\n",
              "      <td>2019</td>\n",
              "      <td>2</td>\n",
              "    </tr>\n",
              "    <tr>\n",
              "      <th>2019-03-31</th>\n",
              "      <td>8587.788770</td>\n",
              "      <td>2019-03-31</td>\n",
              "      <td>2019</td>\n",
              "      <td>3</td>\n",
              "    </tr>\n",
              "    <tr>\n",
              "      <th>2021-04-30</th>\n",
              "      <td>8606.498493</td>\n",
              "      <td>2021-04-30</td>\n",
              "      <td>2021</td>\n",
              "      <td>4</td>\n",
              "    </tr>\n",
              "    <tr>\n",
              "      <th>2021-05-31</th>\n",
              "      <td>8463.734421</td>\n",
              "      <td>2021-05-31</td>\n",
              "      <td>2021</td>\n",
              "      <td>5</td>\n",
              "    </tr>\n",
              "  </tbody>\n",
              "</table>\n",
              "</div>"
            ],
            "text/plain": [
              "            Energy_Load       date  year  month\n",
              "2019-01-31  9548.465809 2019-01-31  2019      1\n",
              "2019-02-28  8327.847226 2019-02-28  2019      2\n",
              "2019-03-31  8587.788770 2019-03-31  2019      3\n",
              "2021-04-30  8606.498493 2021-04-30  2021      4\n",
              "2021-05-31  8463.734421 2021-05-31  2021      5"
            ]
          },
          "metadata": {
            "tags": []
          },
          "execution_count": 37
        }
      ]
    },
    {
      "cell_type": "code",
      "metadata": {
        "id": "v3P09EFQojBt"
      },
      "source": [
        "pred_set = pred_set[(12-wdw):]"
      ],
      "execution_count": 45,
      "outputs": []
    },
    {
      "cell_type": "code",
      "metadata": {
        "colab": {
          "base_uri": "https://localhost:8080/",
          "height": 221
        },
        "id": "x69WwC4sCAr6",
        "outputId": "763e6764-94ee-4fda-a087-2f62b78a106d"
      },
      "source": [
        "Xforec = preprocess(pred_set, windows=wdw, scale=True)\n",
        "print(Xforec.shape)\n",
        "Xforec.head()"
      ],
      "execution_count": 46,
      "outputs": [
        {
          "output_type": "stream",
          "text": [
            "(17, 9)\n"
          ],
          "name": "stdout"
        },
        {
          "output_type": "execute_result",
          "data": {
            "text/html": [
              "<div>\n",
              "<style scoped>\n",
              "    .dataframe tbody tr th:only-of-type {\n",
              "        vertical-align: middle;\n",
              "    }\n",
              "\n",
              "    .dataframe tbody tr th {\n",
              "        vertical-align: top;\n",
              "    }\n",
              "\n",
              "    .dataframe thead th {\n",
              "        text-align: right;\n",
              "    }\n",
              "</style>\n",
              "<table border=\"1\" class=\"dataframe\">\n",
              "  <thead>\n",
              "    <tr style=\"text-align: right;\">\n",
              "      <th></th>\n",
              "      <th>m[0]</th>\n",
              "      <th>m[1]</th>\n",
              "      <th>m[2]</th>\n",
              "      <th>m[3]</th>\n",
              "      <th>x[t-4]</th>\n",
              "      <th>x[t-3]</th>\n",
              "      <th>x[t-2]</th>\n",
              "      <th>x[t-1]</th>\n",
              "      <th>x[t]</th>\n",
              "    </tr>\n",
              "  </thead>\n",
              "  <tbody>\n",
              "    <tr>\n",
              "      <th>0</th>\n",
              "      <td>0.0</td>\n",
              "      <td>0.0</td>\n",
              "      <td>0.0</td>\n",
              "      <td>1.0</td>\n",
              "      <td>0.692768</td>\n",
              "      <td>0.892445</td>\n",
              "      <td>0.853890</td>\n",
              "      <td>0.944414</td>\n",
              "      <td>1.141580</td>\n",
              "    </tr>\n",
              "    <tr>\n",
              "      <th>1</th>\n",
              "      <td>0.0</td>\n",
              "      <td>0.0</td>\n",
              "      <td>1.0</td>\n",
              "      <td>0.0</td>\n",
              "      <td>0.892445</td>\n",
              "      <td>0.853890</td>\n",
              "      <td>0.944414</td>\n",
              "      <td>1.141580</td>\n",
              "      <td>1.011490</td>\n",
              "    </tr>\n",
              "    <tr>\n",
              "      <th>2</th>\n",
              "      <td>0.0</td>\n",
              "      <td>0.0</td>\n",
              "      <td>1.0</td>\n",
              "      <td>1.0</td>\n",
              "      <td>0.853890</td>\n",
              "      <td>0.944414</td>\n",
              "      <td>1.141580</td>\n",
              "      <td>1.011490</td>\n",
              "      <td>1.083031</td>\n",
              "    </tr>\n",
              "    <tr>\n",
              "      <th>3</th>\n",
              "      <td>0.0</td>\n",
              "      <td>1.0</td>\n",
              "      <td>0.0</td>\n",
              "      <td>0.0</td>\n",
              "      <td>0.944414</td>\n",
              "      <td>1.141580</td>\n",
              "      <td>1.011490</td>\n",
              "      <td>1.083031</td>\n",
              "      <td>0.601477</td>\n",
              "    </tr>\n",
              "    <tr>\n",
              "      <th>4</th>\n",
              "      <td>0.0</td>\n",
              "      <td>1.0</td>\n",
              "      <td>0.0</td>\n",
              "      <td>1.0</td>\n",
              "      <td>1.141580</td>\n",
              "      <td>1.011490</td>\n",
              "      <td>1.083031</td>\n",
              "      <td>0.601477</td>\n",
              "      <td>0.634072</td>\n",
              "    </tr>\n",
              "  </tbody>\n",
              "</table>\n",
              "</div>"
            ],
            "text/plain": [
              "   m[0]  m[1]  m[2]  m[3]    x[t-4]    x[t-3]    x[t-2]    x[t-1]      x[t]\n",
              "0   0.0   0.0   0.0   1.0  0.692768  0.892445  0.853890  0.944414  1.141580\n",
              "1   0.0   0.0   1.0   0.0  0.892445  0.853890  0.944414  1.141580  1.011490\n",
              "2   0.0   0.0   1.0   1.0  0.853890  0.944414  1.141580  1.011490  1.083031\n",
              "3   0.0   1.0   0.0   0.0  0.944414  1.141580  1.011490  1.083031  0.601477\n",
              "4   0.0   1.0   0.0   1.0  1.141580  1.011490  1.083031  0.601477  0.634072"
            ]
          },
          "metadata": {
            "tags": []
          },
          "execution_count": 46
        }
      ]
    },
    {
      "cell_type": "code",
      "metadata": {
        "id": "AicIYyFGCoJn"
      },
      "source": [
        "x_forec = Xforec.values[:,:-1]\n",
        "y_forec = Xforec.values[:,-1]"
      ],
      "execution_count": 47,
      "outputs": []
    },
    {
      "cell_type": "code",
      "metadata": {
        "id": "x92ATNjpBg_p"
      },
      "source": [
        "y_forec_ms = multistep(x_forec, y_forec, model1)"
      ],
      "execution_count": 48,
      "outputs": []
    },
    {
      "cell_type": "code",
      "metadata": {
        "id": "73i_wYfgH-JF"
      },
      "source": [
        "# colsx = ['Jan','Feb','Mar','Apr','May','Jun','Jul','Aug','Sep','Oct','Nov','Dec']\n",
        "colsx = ['Jan','Feb','Mar','Apr','May','Jun','Jul','Aug','Sep','Oct','Nov','Dec','Jan','Feb','Mar','Apr','May']"
      ],
      "execution_count": 49,
      "outputs": []
    },
    {
      "cell_type": "code",
      "metadata": {
        "colab": {
          "base_uri": "https://localhost:8080/",
          "height": 337
        },
        "id": "t8EDgbCNC5Wr",
        "outputId": "87ced86d-f93d-4aeb-fc34-aafbb0ffa407"
      },
      "source": [
        "plt.figure(figsize=[10,5])\n",
        "plt.title(\"Energy Load - 2020 - 2021\")\n",
        "plt.plot(y_forec*(max_- min_) + min_)\n",
        "plt.plot(y_forec_ms*(max_- min_) + min_)\n",
        "plt.legend(['Original', 'Forecasting'])\n",
        "plt.ylabel('Energy Load / Month (GWh)')\n",
        "plt.xticks([i for i in range(len(colsx))], colsx)\n",
        "plt.show()"
      ],
      "execution_count": 50,
      "outputs": [
        {
          "output_type": "display_data",
          "data": {
            "image/png": "[encoded data removed]",
            "text/plain": [
              "<Figure size 720x360 with 1 Axes>"
            ]
          },
          "metadata": {
            "tags": [],
            "needs_background": "light"
          }
        }
      ]
    },
    {
      "cell_type": "code",
      "metadata": {
        "id": "DL1KLUJaGAoK"
      },
      "source": [
        "y_forec_sc = y_forec*(max_- min_) + min_\n",
        "y_forec_ms_sc = y_forec_ms*(max_- min_) + min_\n",
        "\n",
        "dif_p = np.abs((y_forec_sc.ravel() - y_forec_ms_sc.ravel()) / y_forec_sc.ravel()) * 100"
      ],
      "execution_count": 51,
      "outputs": []
    },
    {
      "cell_type": "code",
      "metadata": {
        "colab": {
          "base_uri": "https://localhost:8080/",
          "height": 100
        },
        "id": "7EhLC7qXEPyA",
        "outputId": "3ebe31e0-d992-4c7f-9a5b-b285f45d770b"
      },
      "source": [
        "df_2020 = pd.DataFrame(dif_p).T\n",
        "df_2020.columns = colsx\n",
        "df_2020"
      ],
      "execution_count": 52,
      "outputs": [
        {
          "output_type": "execute_result",
          "data": {
            "text/html": [
              "<div>\n",
              "<style scoped>\n",
              "    .dataframe tbody tr th:only-of-type {\n",
              "        vertical-align: middle;\n",
              "    }\n",
              "\n",
              "    .dataframe tbody tr th {\n",
              "        vertical-align: top;\n",
              "    }\n",
              "\n",
              "    .dataframe thead th {\n",
              "        text-align: right;\n",
              "    }\n",
              "</style>\n",
              "<table border=\"1\" class=\"dataframe\">\n",
              "  <thead>\n",
              "    <tr style=\"text-align: right;\">\n",
              "      <th></th>\n",
              "      <th>Jan</th>\n",
              "      <th>Feb</th>\n",
              "      <th>Mar</th>\n",
              "      <th>Apr</th>\n",
              "      <th>May</th>\n",
              "      <th>Jun</th>\n",
              "      <th>Jul</th>\n",
              "      <th>Aug</th>\n",
              "      <th>Sep</th>\n",
              "      <th>Oct</th>\n",
              "      <th>Nov</th>\n",
              "      <th>Dec</th>\n",
              "      <th>Jan</th>\n",
              "      <th>Feb</th>\n",
              "      <th>Mar</th>\n",
              "      <th>Apr</th>\n",
              "      <th>May</th>\n",
              "    </tr>\n",
              "  </thead>\n",
              "  <tbody>\n",
              "    <tr>\n",
              "      <th>0</th>\n",
              "      <td>1.280973</td>\n",
              "      <td>0.346636</td>\n",
              "      <td>0.540603</td>\n",
              "      <td>9.941277</td>\n",
              "      <td>9.083384</td>\n",
              "      <td>7.633739</td>\n",
              "      <td>3.575628</td>\n",
              "      <td>6.824344</td>\n",
              "      <td>2.258819</td>\n",
              "      <td>3.664019</td>\n",
              "      <td>2.262655</td>\n",
              "      <td>0.306949</td>\n",
              "      <td>0.568612</td>\n",
              "      <td>4.593628</td>\n",
              "      <td>4.286084</td>\n",
              "      <td>4.966637</td>\n",
              "      <td>2.514128</td>\n",
              "    </tr>\n",
              "  </tbody>\n",
              "</table>\n",
              "</div>"
            ],
            "text/plain": [
              "        Jan       Feb       Mar       Apr       May       Jun       Jul  \\\n",
              "0  1.280973  0.346636  0.540603  9.941277  9.083384  7.633739  3.575628   \n",
              "\n",
              "        Aug       Sep       Oct       Nov       Dec       Jan       Feb  \\\n",
              "0  6.824344  2.258819  3.664019  2.262655  0.306949  0.568612  4.593628   \n",
              "\n",
              "        Mar       Apr       May  \n",
              "0  4.286084  4.966637  2.514128  "
            ]
          },
          "metadata": {
            "tags": []
          },
          "execution_count": 52
        }
      ]
    },
    {
      "cell_type": "code",
      "metadata": {
        "colab": {
          "base_uri": "https://localhost:8080/"
        },
        "id": "D7bzxeKJaeST",
        "outputId": "e8919c72-4a7a-48a3-b6c0-58bdfc88adc4"
      },
      "source": [
        "df_2020.iloc[:,:12].mean(axis=1)"
      ],
      "execution_count": 53,
      "outputs": [
        {
          "output_type": "execute_result",
          "data": {
            "text/plain": [
              "0    3.976586\n",
              "dtype: float64"
            ]
          },
          "metadata": {
            "tags": []
          },
          "execution_count": 53
        }
      ]
    },
    {
      "cell_type": "markdown",
      "metadata": {
        "id": "iEO2iK8TYU9g"
      },
      "source": [
        "# Forecasting 2021"
      ]
    },
    {
      "cell_type": "code",
      "metadata": {
        "colab": {
          "base_uri": "https://localhost:8080/",
          "height": 221
        },
        "id": "LnKbUZZvEWiJ",
        "outputId": "84e63a28-8306-4433-bdb4-c65e0ed6d39d"
      },
      "source": [
        "pred_set2 = df1.loc['2020-01-01':'2021-12-31']\n",
        "print(pred_set2.shape)\n",
        "pred_set2.iloc[np.r_[0:3, -2:0]]"
      ],
      "execution_count": 54,
      "outputs": [
        {
          "output_type": "stream",
          "text": [
            "(17, 4)\n"
          ],
          "name": "stdout"
        },
        {
          "output_type": "execute_result",
          "data": {
            "text/html": [
              "<div>\n",
              "<style scoped>\n",
              "    .dataframe tbody tr th:only-of-type {\n",
              "        vertical-align: middle;\n",
              "    }\n",
              "\n",
              "    .dataframe tbody tr th {\n",
              "        vertical-align: top;\n",
              "    }\n",
              "\n",
              "    .dataframe thead th {\n",
              "        text-align: right;\n",
              "    }\n",
              "</style>\n",
              "<table border=\"1\" class=\"dataframe\">\n",
              "  <thead>\n",
              "    <tr style=\"text-align: right;\">\n",
              "      <th></th>\n",
              "      <th>Energy_Load</th>\n",
              "      <th>date</th>\n",
              "      <th>year</th>\n",
              "      <th>month</th>\n",
              "    </tr>\n",
              "  </thead>\n",
              "  <tbody>\n",
              "    <tr>\n",
              "      <th>2020-01-31</th>\n",
              "      <td>9373.754913</td>\n",
              "      <td>2020-01-31</td>\n",
              "      <td>2020</td>\n",
              "      <td>1</td>\n",
              "    </tr>\n",
              "    <tr>\n",
              "      <th>2020-02-29</th>\n",
              "      <td>8896.265363</td>\n",
              "      <td>2020-02-29</td>\n",
              "      <td>2020</td>\n",
              "      <td>2</td>\n",
              "    </tr>\n",
              "    <tr>\n",
              "      <th>2020-03-31</th>\n",
              "      <td>9158.852864</td>\n",
              "      <td>2020-03-31</td>\n",
              "      <td>2020</td>\n",
              "      <td>3</td>\n",
              "    </tr>\n",
              "    <tr>\n",
              "      <th>2021-04-30</th>\n",
              "      <td>8606.498493</td>\n",
              "      <td>2021-04-30</td>\n",
              "      <td>2021</td>\n",
              "      <td>4</td>\n",
              "    </tr>\n",
              "    <tr>\n",
              "      <th>2021-05-31</th>\n",
              "      <td>8463.734421</td>\n",
              "      <td>2021-05-31</td>\n",
              "      <td>2021</td>\n",
              "      <td>5</td>\n",
              "    </tr>\n",
              "  </tbody>\n",
              "</table>\n",
              "</div>"
            ],
            "text/plain": [
              "            Energy_Load       date  year  month\n",
              "2020-01-31  9373.754913 2020-01-31  2020      1\n",
              "2020-02-29  8896.265363 2020-02-29  2020      2\n",
              "2020-03-31  9158.852864 2020-03-31  2020      3\n",
              "2021-04-30  8606.498493 2021-04-30  2021      4\n",
              "2021-05-31  8463.734421 2021-05-31  2021      5"
            ]
          },
          "metadata": {
            "tags": []
          },
          "execution_count": 54
        }
      ]
    },
    {
      "cell_type": "code",
      "metadata": {
        "id": "xlcrji9XqKUD"
      },
      "source": [
        "pred_set2 = pred_set2[(12-wdw):]"
      ],
      "execution_count": 56,
      "outputs": []
    },
    {
      "cell_type": "code",
      "metadata": {
        "colab": {
          "base_uri": "https://localhost:8080/",
          "height": 221
        },
        "id": "xP6-LD-fYph8",
        "outputId": "d3ed8729-306d-4a08-9540-a2736aaeeea5"
      },
      "source": [
        "Xforec2 = preprocess(pred_set2, windows=wdw, scale=True)\n",
        "print(Xforec2.shape)\n",
        "Xforec2.head()"
      ],
      "execution_count": 57,
      "outputs": [
        {
          "output_type": "stream",
          "text": [
            "(5, 9)\n"
          ],
          "name": "stdout"
        },
        {
          "output_type": "execute_result",
          "data": {
            "text/html": [
              "<div>\n",
              "<style scoped>\n",
              "    .dataframe tbody tr th:only-of-type {\n",
              "        vertical-align: middle;\n",
              "    }\n",
              "\n",
              "    .dataframe tbody tr th {\n",
              "        vertical-align: top;\n",
              "    }\n",
              "\n",
              "    .dataframe thead th {\n",
              "        text-align: right;\n",
              "    }\n",
              "</style>\n",
              "<table border=\"1\" class=\"dataframe\">\n",
              "  <thead>\n",
              "    <tr style=\"text-align: right;\">\n",
              "      <th></th>\n",
              "      <th>m[0]</th>\n",
              "      <th>m[1]</th>\n",
              "      <th>m[2]</th>\n",
              "      <th>m[3]</th>\n",
              "      <th>x[t-4]</th>\n",
              "      <th>x[t-3]</th>\n",
              "      <th>x[t-2]</th>\n",
              "      <th>x[t-1]</th>\n",
              "      <th>x[t]</th>\n",
              "    </tr>\n",
              "  </thead>\n",
              "  <tbody>\n",
              "    <tr>\n",
              "      <th>0</th>\n",
              "      <td>0.0</td>\n",
              "      <td>0.0</td>\n",
              "      <td>0.0</td>\n",
              "      <td>1.0</td>\n",
              "      <td>0.748008</td>\n",
              "      <td>0.926335</td>\n",
              "      <td>0.927404</td>\n",
              "      <td>1.003497</td>\n",
              "      <td>1.097332</td>\n",
              "    </tr>\n",
              "    <tr>\n",
              "      <th>1</th>\n",
              "      <td>0.0</td>\n",
              "      <td>0.0</td>\n",
              "      <td>1.0</td>\n",
              "      <td>0.0</td>\n",
              "      <td>0.926335</td>\n",
              "      <td>0.927404</td>\n",
              "      <td>1.003497</td>\n",
              "      <td>1.097332</td>\n",
              "      <td>0.910962</td>\n",
              "    </tr>\n",
              "    <tr>\n",
              "      <th>2</th>\n",
              "      <td>0.0</td>\n",
              "      <td>0.0</td>\n",
              "      <td>1.0</td>\n",
              "      <td>1.0</td>\n",
              "      <td>0.927404</td>\n",
              "      <td>1.003497</td>\n",
              "      <td>1.097332</td>\n",
              "      <td>0.910962</td>\n",
              "      <td>1.207292</td>\n",
              "    </tr>\n",
              "    <tr>\n",
              "      <th>3</th>\n",
              "      <td>0.0</td>\n",
              "      <td>1.0</td>\n",
              "      <td>0.0</td>\n",
              "      <td>0.0</td>\n",
              "      <td>1.003497</td>\n",
              "      <td>1.097332</td>\n",
              "      <td>0.910962</td>\n",
              "      <td>1.207292</td>\n",
              "      <td>0.932543</td>\n",
              "    </tr>\n",
              "    <tr>\n",
              "      <th>4</th>\n",
              "      <td>0.0</td>\n",
              "      <td>1.0</td>\n",
              "      <td>0.0</td>\n",
              "      <td>1.0</td>\n",
              "      <td>1.097332</td>\n",
              "      <td>0.910962</td>\n",
              "      <td>1.207292</td>\n",
              "      <td>0.932543</td>\n",
              "      <td>0.893648</td>\n",
              "    </tr>\n",
              "  </tbody>\n",
              "</table>\n",
              "</div>"
            ],
            "text/plain": [
              "   m[0]  m[1]  m[2]  m[3]    x[t-4]    x[t-3]    x[t-2]    x[t-1]      x[t]\n",
              "0   0.0   0.0   0.0   1.0  0.748008  0.926335  0.927404  1.003497  1.097332\n",
              "1   0.0   0.0   1.0   0.0  0.926335  0.927404  1.003497  1.097332  0.910962\n",
              "2   0.0   0.0   1.0   1.0  0.927404  1.003497  1.097332  0.910962  1.207292\n",
              "3   0.0   1.0   0.0   0.0  1.003497  1.097332  0.910962  1.207292  0.932543\n",
              "4   0.0   1.0   0.0   1.0  1.097332  0.910962  1.207292  0.932543  0.893648"
            ]
          },
          "metadata": {
            "tags": []
          },
          "execution_count": 57
        }
      ]
    },
    {
      "cell_type": "code",
      "metadata": {
        "id": "pDx-44mjY9PY"
      },
      "source": [
        "x_forec2 = Xforec2.values[:,:-1]\n",
        "y_forec2 = Xforec2.values[:,-1]"
      ],
      "execution_count": 58,
      "outputs": []
    },
    {
      "cell_type": "code",
      "metadata": {
        "id": "FeMRdkshY9Ri"
      },
      "source": [
        "y_forec2_ms = multistep(x_forec2, y_forec2, model1)"
      ],
      "execution_count": 59,
      "outputs": []
    },
    {
      "cell_type": "code",
      "metadata": {
        "id": "kz4JyKKjY9WG"
      },
      "source": [
        "colsx2 = ['Jan','Feb','Mar','Apr','May']"
      ],
      "execution_count": 60,
      "outputs": []
    },
    {
      "cell_type": "code",
      "metadata": {
        "colab": {
          "base_uri": "https://localhost:8080/",
          "height": 337
        },
        "id": "W4KsfVnyZNAK",
        "outputId": "39aa9aba-6efc-4d65-d42b-9d929da31ddf"
      },
      "source": [
        "plt.figure(figsize=[10,5])\n",
        "plt.title(\"Energy Load - 2021\")\n",
        "plt.plot(y_forec2*(max_- min_) + min_)\n",
        "plt.plot(y_forec2_ms*(max_- min_) + min_)\n",
        "plt.legend(['Original', 'Forecasting'])\n",
        "plt.ylabel('Energy Load / Month (GWh)')\n",
        "plt.xticks([i for i in range(len(colsx2))], colsx2)\n",
        "plt.show()"
      ],
      "execution_count": 61,
      "outputs": [
        {
          "output_type": "display_data",
          "data": {
            "image/png": "[encoded data removed]",
            "text/plain": [
              "<Figure size 720x360 with 1 Axes>"
            ]
          },
          "metadata": {
            "tags": [],
            "needs_background": "light"
          }
        }
      ]
    },
    {
      "cell_type": "code",
      "metadata": {
        "id": "LaQCS33oaC_V"
      },
      "source": [
        "y_forec2_sc = y_forec2*(max_- min_) + min_\n",
        "y_forec2_ms_sc = y_forec2_ms*(max_- min_) + min_"
      ],
      "execution_count": 62,
      "outputs": []
    },
    {
      "cell_type": "code",
      "metadata": {
        "colab": {
          "base_uri": "https://localhost:8080/",
          "height": 80
        },
        "id": "Zw_IlhVlaDDI",
        "outputId": "66921e20-a9c2-494c-d66f-e26da0fe24f6"
      },
      "source": [
        "dif_p2 = np.abs((y_forec2_sc.ravel() - y_forec2_ms_sc.ravel()) / y_forec2_sc.ravel()) * 100\n",
        "df_2021 = pd.DataFrame(dif_p2).T\n",
        "df_2021.columns = colsx2\n",
        "df_2021"
      ],
      "execution_count": 63,
      "outputs": [
        {
          "output_type": "execute_result",
          "data": {
            "text/html": [
              "<div>\n",
              "<style scoped>\n",
              "    .dataframe tbody tr th:only-of-type {\n",
              "        vertical-align: middle;\n",
              "    }\n",
              "\n",
              "    .dataframe tbody tr th {\n",
              "        vertical-align: top;\n",
              "    }\n",
              "\n",
              "    .dataframe thead th {\n",
              "        text-align: right;\n",
              "    }\n",
              "</style>\n",
              "<table border=\"1\" class=\"dataframe\">\n",
              "  <thead>\n",
              "    <tr style=\"text-align: right;\">\n",
              "      <th></th>\n",
              "      <th>Jan</th>\n",
              "      <th>Feb</th>\n",
              "      <th>Mar</th>\n",
              "      <th>Apr</th>\n",
              "      <th>May</th>\n",
              "    </tr>\n",
              "  </thead>\n",
              "  <tbody>\n",
              "    <tr>\n",
              "      <th>0</th>\n",
              "      <td>2.342431</td>\n",
              "      <td>6.351267</td>\n",
              "      <td>3.180059</td>\n",
              "      <td>3.580478</td>\n",
              "      <td>1.123002</td>\n",
              "    </tr>\n",
              "  </tbody>\n",
              "</table>\n",
              "</div>"
            ],
            "text/plain": [
              "        Jan       Feb       Mar       Apr       May\n",
              "0  2.342431  6.351267  3.180059  3.580478  1.123002"
            ]
          },
          "metadata": {
            "tags": []
          },
          "execution_count": 63
        }
      ]
    },
    {
      "cell_type": "code",
      "metadata": {
        "colab": {
          "base_uri": "https://localhost:8080/"
        },
        "id": "dDH9P9yXaDGk",
        "outputId": "836acc19-3a81-4206-897d-9838579ae695"
      },
      "source": [
        "df_2021.mean(axis=1)"
      ],
      "execution_count": 64,
      "outputs": [
        {
          "output_type": "execute_result",
          "data": {
            "text/plain": [
              "0    3.315447\n",
              "dtype: float64"
            ]
          },
          "metadata": {
            "tags": []
          },
          "execution_count": 64
        }
      ]
    },
    {
      "cell_type": "code",
      "metadata": {
        "id": "fxaA4kadaWmE"
      },
      "source": [
        ""
      ],
      "execution_count": null,
      "outputs": []
    }
  ]
}